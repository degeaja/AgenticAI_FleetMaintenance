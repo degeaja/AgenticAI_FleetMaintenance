{
 "cells": [
  {
   "cell_type": "code",
   "execution_count": 1,
   "metadata": {},
   "outputs": [
    {
     "name": "stdout",
     "output_type": "stream",
     "text": [
      "Requirement already satisfied: langchain[openai] in d:\\miniconda\\envs\\ai_agent\\lib\\site-packages (0.3.27)\n",
      "Requirement already satisfied: langchain-core<1.0.0,>=0.3.72 in d:\\miniconda\\envs\\ai_agent\\lib\\site-packages (from langchain[openai]) (0.3.74)\n",
      "Requirement already satisfied: langchain-text-splitters<1.0.0,>=0.3.9 in d:\\miniconda\\envs\\ai_agent\\lib\\site-packages (from langchain[openai]) (0.3.9)\n",
      "Requirement already satisfied: langsmith>=0.1.17 in d:\\miniconda\\envs\\ai_agent\\lib\\site-packages (from langchain[openai]) (0.4.14)\n",
      "Requirement already satisfied: pydantic<3.0.0,>=2.7.4 in d:\\miniconda\\envs\\ai_agent\\lib\\site-packages (from langchain[openai]) (2.11.7)\n",
      "Requirement already satisfied: SQLAlchemy<3,>=1.4 in d:\\miniconda\\envs\\ai_agent\\lib\\site-packages (from langchain[openai]) (2.0.43)\n",
      "Requirement already satisfied: requests<3,>=2 in d:\\miniconda\\envs\\ai_agent\\lib\\site-packages (from langchain[openai]) (2.32.4)\n",
      "Requirement already satisfied: PyYAML>=5.3 in d:\\miniconda\\envs\\ai_agent\\lib\\site-packages (from langchain[openai]) (6.0.2)\n",
      "Requirement already satisfied: langchain-openai in d:\\miniconda\\envs\\ai_agent\\lib\\site-packages (from langchain[openai]) (0.3.30)\n",
      "Requirement already satisfied: tenacity!=8.4.0,<10.0.0,>=8.1.0 in d:\\miniconda\\envs\\ai_agent\\lib\\site-packages (from langchain-core<1.0.0,>=0.3.72->langchain[openai]) (9.1.2)\n",
      "Requirement already satisfied: jsonpatch<2.0,>=1.33 in d:\\miniconda\\envs\\ai_agent\\lib\\site-packages (from langchain-core<1.0.0,>=0.3.72->langchain[openai]) (1.33)\n",
      "Requirement already satisfied: typing-extensions>=4.7 in d:\\miniconda\\envs\\ai_agent\\lib\\site-packages (from langchain-core<1.0.0,>=0.3.72->langchain[openai]) (4.14.1)\n",
      "Requirement already satisfied: packaging>=23.2 in d:\\miniconda\\envs\\ai_agent\\lib\\site-packages (from langchain-core<1.0.0,>=0.3.72->langchain[openai]) (25.0)\n",
      "Requirement already satisfied: jsonpointer>=1.9 in d:\\miniconda\\envs\\ai_agent\\lib\\site-packages (from jsonpatch<2.0,>=1.33->langchain-core<1.0.0,>=0.3.72->langchain[openai]) (3.0.0)\n",
      "Requirement already satisfied: annotated-types>=0.6.0 in d:\\miniconda\\envs\\ai_agent\\lib\\site-packages (from pydantic<3.0.0,>=2.7.4->langchain[openai]) (0.7.0)\n",
      "Requirement already satisfied: pydantic-core==2.33.2 in d:\\miniconda\\envs\\ai_agent\\lib\\site-packages (from pydantic<3.0.0,>=2.7.4->langchain[openai]) (2.33.2)\n",
      "Requirement already satisfied: typing-inspection>=0.4.0 in d:\\miniconda\\envs\\ai_agent\\lib\\site-packages (from pydantic<3.0.0,>=2.7.4->langchain[openai]) (0.4.1)\n",
      "Requirement already satisfied: charset_normalizer<4,>=2 in d:\\miniconda\\envs\\ai_agent\\lib\\site-packages (from requests<3,>=2->langchain[openai]) (3.4.3)\n",
      "Requirement already satisfied: idna<4,>=2.5 in d:\\miniconda\\envs\\ai_agent\\lib\\site-packages (from requests<3,>=2->langchain[openai]) (3.10)\n",
      "Requirement already satisfied: urllib3<3,>=1.21.1 in d:\\miniconda\\envs\\ai_agent\\lib\\site-packages (from requests<3,>=2->langchain[openai]) (2.5.0)\n",
      "Requirement already satisfied: certifi>=2017.4.17 in d:\\miniconda\\envs\\ai_agent\\lib\\site-packages (from requests<3,>=2->langchain[openai]) (2025.8.3)\n",
      "Requirement already satisfied: greenlet>=1 in d:\\miniconda\\envs\\ai_agent\\lib\\site-packages (from SQLAlchemy<3,>=1.4->langchain[openai]) (3.2.4)\n",
      "Requirement already satisfied: httpx<1,>=0.23.0 in d:\\miniconda\\envs\\ai_agent\\lib\\site-packages (from langsmith>=0.1.17->langchain[openai]) (0.28.1)\n",
      "Requirement already satisfied: orjson>=3.9.14 in d:\\miniconda\\envs\\ai_agent\\lib\\site-packages (from langsmith>=0.1.17->langchain[openai]) (3.11.2)\n",
      "Requirement already satisfied: requests-toolbelt>=1.0.0 in d:\\miniconda\\envs\\ai_agent\\lib\\site-packages (from langsmith>=0.1.17->langchain[openai]) (1.0.0)\n",
      "Requirement already satisfied: zstandard>=0.23.0 in d:\\miniconda\\envs\\ai_agent\\lib\\site-packages (from langsmith>=0.1.17->langchain[openai]) (0.23.0)\n",
      "Requirement already satisfied: anyio in d:\\miniconda\\envs\\ai_agent\\lib\\site-packages (from httpx<1,>=0.23.0->langsmith>=0.1.17->langchain[openai]) (4.10.0)\n",
      "Requirement already satisfied: httpcore==1.* in d:\\miniconda\\envs\\ai_agent\\lib\\site-packages (from httpx<1,>=0.23.0->langsmith>=0.1.17->langchain[openai]) (1.0.9)\n",
      "Requirement already satisfied: h11>=0.16 in d:\\miniconda\\envs\\ai_agent\\lib\\site-packages (from httpcore==1.*->httpx<1,>=0.23.0->langsmith>=0.1.17->langchain[openai]) (0.16.0)\n",
      "Requirement already satisfied: sniffio>=1.1 in d:\\miniconda\\envs\\ai_agent\\lib\\site-packages (from anyio->httpx<1,>=0.23.0->langsmith>=0.1.17->langchain[openai]) (1.3.1)\n",
      "Requirement already satisfied: openai<2.0.0,>=1.99.9 in d:\\miniconda\\envs\\ai_agent\\lib\\site-packages (from langchain-openai->langchain[openai]) (1.99.9)\n",
      "Requirement already satisfied: tiktoken<1,>=0.7 in d:\\miniconda\\envs\\ai_agent\\lib\\site-packages (from langchain-openai->langchain[openai]) (0.11.0)\n",
      "Requirement already satisfied: distro<2,>=1.7.0 in d:\\miniconda\\envs\\ai_agent\\lib\\site-packages (from openai<2.0.0,>=1.99.9->langchain-openai->langchain[openai]) (1.9.0)\n",
      "Requirement already satisfied: jiter<1,>=0.4.0 in d:\\miniconda\\envs\\ai_agent\\lib\\site-packages (from openai<2.0.0,>=1.99.9->langchain-openai->langchain[openai]) (0.10.0)\n",
      "Requirement already satisfied: tqdm>4 in d:\\miniconda\\envs\\ai_agent\\lib\\site-packages (from openai<2.0.0,>=1.99.9->langchain-openai->langchain[openai]) (4.67.1)\n",
      "Requirement already satisfied: regex>=2022.1.18 in d:\\miniconda\\envs\\ai_agent\\lib\\site-packages (from tiktoken<1,>=0.7->langchain-openai->langchain[openai]) (2025.7.34)\n",
      "Requirement already satisfied: colorama in d:\\miniconda\\envs\\ai_agent\\lib\\site-packages (from tqdm>4->openai<2.0.0,>=1.99.9->langchain-openai->langchain[openai]) (0.4.6)\n"
     ]
    }
   ],
   "source": [
    "!pip install -U --no-cache-dir \"langchain[openai]\""
   ]
  },
  {
   "cell_type": "code",
   "execution_count": 3,
   "metadata": {},
   "outputs": [
    {
     "name": "stdout",
     "output_type": "stream",
     "text": [
      "Requirement already satisfied: tqdm in d:\\miniconda\\envs\\ai_agent\\lib\\site-packages (4.67.1)\n",
      "Requirement already satisfied: colorama in d:\\miniconda\\envs\\ai_agent\\lib\\site-packages (from tqdm) (0.4.6)\n"
     ]
    }
   ],
   "source": [
    "!pip install tqdm"
   ]
  },
  {
   "cell_type": "code",
   "execution_count": 2,
   "metadata": {},
   "outputs": [],
   "source": [
    "import getpass\n",
    "import os\n",
    "\n",
    "if not os.environ.get(\"OPENAI_API_KEY\"):\n",
    "  os.environ[\"OPENAI_API_KEY\"] = getpass.getpass(\"Enter API key for OpenAI: \")\n",
    "\n",
    "from langchain.chat_models import init_chat_model\n",
    "\n",
    "model = init_chat_model(\"gpt-4o-mini\", model_provider=\"openai\")"
   ]
  },
  {
   "cell_type": "code",
   "execution_count": 3,
   "metadata": {},
   "outputs": [
    {
     "data": {
      "text/plain": [
       "AIMessage(content='Hello! How can I assist you today?', additional_kwargs={'refusal': None}, response_metadata={'token_usage': {'completion_tokens': 9, 'prompt_tokens': 11, 'total_tokens': 20, 'completion_tokens_details': {'accepted_prediction_tokens': 0, 'audio_tokens': 0, 'reasoning_tokens': 0, 'rejected_prediction_tokens': 0}, 'prompt_tokens_details': {'audio_tokens': 0, 'cached_tokens': 0}}, 'model_name': 'gpt-4o-mini-2024-07-18', 'system_fingerprint': 'fp_34a54ae93c', 'id': 'chatcmpl-C3yUYuEAGleuBaTZELLxn6anmckIT', 'service_tier': 'default', 'finish_reason': 'stop', 'logprobs': None}, id='run--7d04066f-45d4-45bd-8a3d-c05d5aeb1f36-0', usage_metadata={'input_tokens': 11, 'output_tokens': 9, 'total_tokens': 20, 'input_token_details': {'audio': 0, 'cache_read': 0}, 'output_token_details': {'audio': 0, 'reasoning': 0}})"
      ]
     },
     "execution_count": 3,
     "metadata": {},
     "output_type": "execute_result"
    }
   ],
   "source": [
    "model.invoke(\"Hello, world!\")"
   ]
  },
  {
   "cell_type": "code",
   "execution_count": null,
   "metadata": {},
   "outputs": [],
   "source": []
  }
 ],
 "metadata": {
  "kernelspec": {
   "display_name": "ai_agent",
   "language": "python",
   "name": "python3"
  },
  "language_info": {
   "codemirror_mode": {
    "name": "ipython",
    "version": 3
   },
   "file_extension": ".py",
   "mimetype": "text/x-python",
   "name": "python",
   "nbconvert_exporter": "python",
   "pygments_lexer": "ipython3",
   "version": "3.11.13"
  }
 },
 "nbformat": 4,
 "nbformat_minor": 2
}
