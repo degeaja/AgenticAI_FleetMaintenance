{
 "cells": [
  {
   "cell_type": "markdown",
   "id": "0f405ad6",
   "metadata": {},
   "source": [
    "## Import Modules"
   ]
  },
  {
   "cell_type": "code",
   "execution_count": 1,
   "id": "80f16129",
   "metadata": {},
   "outputs": [],
   "source": [
    "import numpy as np\n",
    "import pandas as pd\n",
    "from sklearn.preprocessing import MinMaxScaler\n",
    "from sklearn.model_selection import train_test_split\n",
    "from imblearn.over_sampling import SMOTE\n",
    "from torch.utils.data import Dataset, DataLoader, TensorDataset\n",
    "import torch\n",
    "import torch.nn as nn\n",
    "import torch.optim as optim\n",
    "from tqdm import tqdm\n",
    "import joblib"
   ]
  },
  {
   "cell_type": "markdown",
   "id": "8066bfa6",
   "metadata": {},
   "source": [
    "## Load and Preprocess Data"
   ]
  },
  {
   "cell_type": "code",
   "execution_count": 2,
   "id": "eb501976",
   "metadata": {},
   "outputs": [
    {
     "data": {
      "text/plain": [
       "['scaler.save']"
      ]
     },
     "execution_count": 2,
     "metadata": {},
     "output_type": "execute_result"
    }
   ],
   "source": [
    "# Load and preprocess\n",
    "df = pd.read_csv(\"fleet_train.csv\")\n",
    "df[\"Measurement_timestamp\"] = pd.to_datetime(df[\"Measurement_timestamp\"], format=\"%d%b%y:%H:%M:%S\")\n",
    "df = df.sort_values(by=[\"Region\", \"truckid\", \"Measurement_timestamp\"]).reset_index(drop=True)\n",
    "\n",
    "# --- Load and preprocess test data ---\n",
    "df_test = pd.read_csv(\"fleet_monitor_notscored_2.csv\")  # <-- Update as needed\n",
    "df_test[\"Measurement_timestamp\"] = pd.to_datetime(df_test[\"Measurement_timestamp\"], format=\"%d%b%y:%H:%M:%S\")\n",
    "df_test = df_test.sort_values(by=[\"Region\", \"truckid\", \"Measurement_timestamp\"]).reset_index(drop=True)\n",
    "\n",
    "# Sensor features\n",
    "features = [\n",
    "    \"Vehicle_speed_sensor\", \"Vibration\", \"Engine_Load\", \"Engine_Coolant_Temp\", \"Intake_Manifold_Pressure\",\n",
    "    \"Engine_RPM\", \"Speed_OBD\", \"Intake_Air_Temp\", \"Mass_Air_Flow_Rate\", \"Throttle_Pos_Manifold\",\n",
    "    \"Voltage_Control_Module\", \"Ambient_air_temp\", \"Accel_Pedal_Pos_D\", \"Engine_Oil_Temp\", \"Speed_GPS\",\n",
    "    \"Turbo_Boost_And_Vcm_Gauge\", \"Trip_Distance\", \"Litres_Per_100km_Inst\", \"Accel_Ssor_Total\",\n",
    "    \"CO2_in_g_per_km_Inst\", \"Trip_Time_journey\"\n",
    "]\n",
    "\n",
    "# Normalize\n",
    "scaler = MinMaxScaler()\n",
    "df[features] = scaler.fit_transform(df[features])\n",
    "df_test[features] = scaler.fit_transform(df_test[features])\n",
    "joblib.dump(scaler, \"scaler.save\")"
   ]
  },
  {
   "cell_type": "markdown",
   "id": "448a74a9",
   "metadata": {},
   "source": [
    "## Apply SMOTE"
   ]
  },
  {
   "cell_type": "code",
   "execution_count": 3,
   "id": "e5520c41",
   "metadata": {},
   "outputs": [],
   "source": [
    "# Sequence extraction\n",
    "SEQUENCE_LENGTH = 10\n",
    "X_seq, y_seq = [], []\n",
    "\n",
    "for _, group in df.groupby([\"Region\", \"truckid\"]):\n",
    "    if len(group) < SEQUENCE_LENGTH:\n",
    "        continue\n",
    "    X = group[features].values\n",
    "    y = group[\"Maintenance_flag\"].values\n",
    "    for i in range(len(X) - SEQUENCE_LENGTH):\n",
    "        X_seq.append(X[i:i+SEQUENCE_LENGTH])\n",
    "        y_seq.append(y[i+SEQUENCE_LENGTH])\n",
    "\n",
    "X_seq = np.array(X_seq)\n",
    "y_seq = np.array(y_seq)\n",
    "\n",
    "# Flatten for SMOTE\n",
    "X_seq_flat = X_seq.reshape(X_seq.shape[0], -1)\n",
    "\n",
    "# Train-val split before applying SMOTE\n",
    "X_train, X_val, y_train, y_val = train_test_split(X_seq_flat, y_seq, test_size=0.2, stratify=y_seq, random_state=42)\n",
    "\n",
    "# Apply SMOTE\n",
    "smote = SMOTE(random_state=42)\n",
    "X_train_resampled, y_train_resampled = smote.fit_resample(X_train, y_train)\n",
    "\n",
    "# Reshape back to (batch, sequence, features)\n",
    "X_train_resampled = X_train_resampled.reshape(-1, SEQUENCE_LENGTH, len(features))\n",
    "\n",
    "# Convert to tensors and loaders\n",
    "train_dataset = TensorDataset(torch.tensor(X_train_resampled, dtype=torch.float32),\n",
    "                              torch.tensor(y_train_resampled, dtype=torch.float32))\n",
    "val_dataset = TensorDataset(torch.tensor(X_val.reshape(-1, SEQUENCE_LENGTH, len(features)), dtype=torch.float32),\n",
    "                            torch.tensor(y_val, dtype=torch.float32))\n",
    "\n",
    "train_loader = DataLoader(train_dataset, batch_size=8, shuffle=True)\n",
    "val_loader = DataLoader(val_dataset, batch_size=8)"
   ]
  },
  {
   "cell_type": "code",
   "execution_count": 4,
   "id": "c849c7d7",
   "metadata": {},
   "outputs": [],
   "source": [
    "# --- Test Dataset with extra metadata for output ---\n",
    "class FleetTestDataset(Dataset):\n",
    "    def __init__(self, df, features, seq_len):\n",
    "        self.sequences = []\n",
    "        self.labels = []\n",
    "        self.meta = []  # to store Region, truckid, timestamp\n",
    "        for _, group in df.groupby([\"Region\", \"truckid\"]):\n",
    "            if len(group) < seq_len:\n",
    "                continue\n",
    "            X = group[features].values\n",
    "            y = group[\"Maintenance_flag\"].values\n",
    "            ts = group[\"Measurement_timestamp\"].values\n",
    "            for i in range(len(X) - seq_len):\n",
    "                self.sequences.append(X[i:i+seq_len])\n",
    "                self.labels.append(y[i+seq_len])\n",
    "                self.meta.append({\n",
    "                    \"Region\": group[\"Region\"].iloc[i+seq_len],\n",
    "                    \"truckid\": group[\"truckid\"].iloc[i+seq_len],\n",
    "                    \"Measurement_timestamp\": str(group[\"Measurement_timestamp\"].iloc[i+seq_len])  # convert to string\n",
    "                })\n",
    "\n",
    "\n",
    "    def __len__(self):\n",
    "        return len(self.sequences)\n",
    "\n",
    "    def __getitem__(self, idx):\n",
    "        x = torch.tensor(self.sequences[idx], dtype=torch.float32)\n",
    "        y = torch.tensor(self.labels[idx], dtype=torch.float32)\n",
    "        return x, y, self.meta[idx]\n",
    "    \n",
    "def custom_collate_fn(batch):\n",
    "    xs, ys, metas = zip(*batch)\n",
    "    xs = torch.stack(xs)\n",
    "    ys = torch.stack(ys)\n",
    "    return xs, ys, metas  # metas stays as a list of dicts\n",
    "\n",
    "\n",
    "test_dataset = FleetTestDataset(df_test, features, SEQUENCE_LENGTH)\n",
    "test_loader = DataLoader(test_dataset, batch_size=8, collate_fn=custom_collate_fn)"
   ]
  },
  {
   "cell_type": "markdown",
   "id": "bcb39ed6",
   "metadata": {},
   "source": [
    "## LSTM Model"
   ]
  },
  {
   "cell_type": "code",
   "execution_count": 5,
   "id": "ff4eb6c8",
   "metadata": {},
   "outputs": [],
   "source": [
    "# Model\n",
    "class LSTMModel(nn.Module):\n",
    "    def __init__(self, input_size, hidden_sizes=[100, 50], dropout=0.2):\n",
    "        super().__init__()\n",
    "        self.lstm_layers = nn.ModuleList()\n",
    "        self.dropout_layers = nn.ModuleList()\n",
    "\n",
    "        self.lstm_layers.append(nn.LSTM(input_size=input_size, hidden_size=hidden_sizes[0], batch_first=True))\n",
    "        self.dropout_layers.append(nn.Dropout(dropout))\n",
    "\n",
    "        for i in range(1, len(hidden_sizes)):\n",
    "            self.lstm_layers.append(\n",
    "                nn.LSTM(input_size=hidden_sizes[i-1], hidden_size=hidden_sizes[i], batch_first=True)\n",
    "            )\n",
    "            self.dropout_layers.append(nn.Dropout(dropout))\n",
    "\n",
    "        self.fc = nn.Linear(hidden_sizes[-1], 1)\n",
    "        self.sigmoid = nn.Sigmoid()\n",
    "\n",
    "    def forward(self, x):\n",
    "        for lstm, dropout in zip(self.lstm_layers, self.dropout_layers):\n",
    "            x, _ = lstm(x)\n",
    "            x = dropout(x)\n",
    "\n",
    "        last_out = x[:, -1, :]\n",
    "        out = self.fc(last_out)\n",
    "        return self.sigmoid(out).squeeze()"
   ]
  },
  {
   "cell_type": "markdown",
   "id": "049a669d",
   "metadata": {},
   "source": [
    "## Training"
   ]
  },
  {
   "cell_type": "code",
   "execution_count": 15,
   "id": "2e218e61",
   "metadata": {},
   "outputs": [],
   "source": [
    "# Training setup\n",
    "device = torch.device(\"cuda\" if torch.cuda.is_available() else \"cpu\")\n",
    "model = LSTMModel(input_size=len(features), hidden_sizes=[200, 100, 50], dropout=0.3).to(device)\n",
    "model.load_state_dict(torch.load(\"best_model_08-14.pt\", map_location=device))\n",
    "criterion = nn.BCELoss()\n",
    "optimizer = optim.Adam(model.parameters(), lr=1e-5)\n",
    "\n",
    "# Early stopping\n",
    "best_loss = np.inf\n",
    "patience = 20\n",
    "trigger_times = 0"
   ]
  },
  {
   "cell_type": "code",
   "execution_count": 16,
   "id": "a30dac53",
   "metadata": {},
   "outputs": [
    {
     "name": "stderr",
     "output_type": "stream",
     "text": [
      "Epoch 1/100: 100%|██████████| 1106/1106 [00:05<00:00, 186.98it/s, train_loss=1.01]   \n"
     ]
    },
    {
     "name": "stdout",
     "output_type": "stream",
     "text": [
      "Epoch 1: Train Loss = 0.2695, Val Loss = 0.2860\n"
     ]
    },
    {
     "name": "stderr",
     "output_type": "stream",
     "text": [
      "Epoch 2/100: 100%|██████████| 1106/1106 [00:05<00:00, 189.01it/s, train_loss=0.924] \n"
     ]
    },
    {
     "name": "stdout",
     "output_type": "stream",
     "text": [
      "Epoch 2: Train Loss = 0.2670, Val Loss = 0.2910\n"
     ]
    },
    {
     "name": "stderr",
     "output_type": "stream",
     "text": [
      "Epoch 3/100: 100%|██████████| 1106/1106 [00:05<00:00, 186.75it/s, train_loss=0.102] \n"
     ]
    },
    {
     "name": "stdout",
     "output_type": "stream",
     "text": [
      "Epoch 3: Train Loss = 0.2640, Val Loss = 0.2907\n"
     ]
    },
    {
     "name": "stderr",
     "output_type": "stream",
     "text": [
      "Epoch 4/100: 100%|██████████| 1106/1106 [00:05<00:00, 189.81it/s, train_loss=0.00029]\n"
     ]
    },
    {
     "name": "stdout",
     "output_type": "stream",
     "text": [
      "Epoch 4: Train Loss = 0.2663, Val Loss = 0.2906\n"
     ]
    },
    {
     "name": "stderr",
     "output_type": "stream",
     "text": [
      "Epoch 5/100: 100%|██████████| 1106/1106 [00:06<00:00, 175.88it/s, train_loss=0.151] \n"
     ]
    },
    {
     "name": "stdout",
     "output_type": "stream",
     "text": [
      "Epoch 5: Train Loss = 0.2660, Val Loss = 0.2917\n"
     ]
    },
    {
     "name": "stderr",
     "output_type": "stream",
     "text": [
      "Epoch 6/100: 100%|██████████| 1106/1106 [00:05<00:00, 191.75it/s, train_loss=0.0795] \n"
     ]
    },
    {
     "name": "stdout",
     "output_type": "stream",
     "text": [
      "Epoch 6: Train Loss = 0.2643, Val Loss = 0.2938\n"
     ]
    },
    {
     "name": "stderr",
     "output_type": "stream",
     "text": [
      "Epoch 7/100: 100%|██████████| 1106/1106 [00:05<00:00, 188.14it/s, train_loss=0.139] \n"
     ]
    },
    {
     "name": "stdout",
     "output_type": "stream",
     "text": [
      "Epoch 7: Train Loss = 0.2656, Val Loss = 0.2926\n"
     ]
    },
    {
     "name": "stderr",
     "output_type": "stream",
     "text": [
      "Epoch 8/100: 100%|██████████| 1106/1106 [00:05<00:00, 189.26it/s, train_loss=0.000625]\n"
     ]
    },
    {
     "name": "stdout",
     "output_type": "stream",
     "text": [
      "Epoch 8: Train Loss = 0.2651, Val Loss = 0.2932\n"
     ]
    },
    {
     "name": "stderr",
     "output_type": "stream",
     "text": [
      "Epoch 9/100: 100%|██████████| 1106/1106 [00:05<00:00, 191.13it/s, train_loss=0.000379]\n"
     ]
    },
    {
     "name": "stdout",
     "output_type": "stream",
     "text": [
      "Epoch 9: Train Loss = 0.2656, Val Loss = 0.2958\n"
     ]
    },
    {
     "name": "stderr",
     "output_type": "stream",
     "text": [
      "Epoch 10/100: 100%|██████████| 1106/1106 [00:05<00:00, 189.68it/s, train_loss=0.081] \n"
     ]
    },
    {
     "name": "stdout",
     "output_type": "stream",
     "text": [
      "Epoch 10: Train Loss = 0.2643, Val Loss = 0.2956\n"
     ]
    },
    {
     "name": "stderr",
     "output_type": "stream",
     "text": [
      "Epoch 11/100: 100%|██████████| 1106/1106 [00:05<00:00, 187.74it/s, train_loss=0.0868]\n"
     ]
    },
    {
     "name": "stdout",
     "output_type": "stream",
     "text": [
      "Epoch 11: Train Loss = 0.2651, Val Loss = 0.2990\n"
     ]
    },
    {
     "name": "stderr",
     "output_type": "stream",
     "text": [
      "Epoch 12/100: 100%|██████████| 1106/1106 [00:05<00:00, 184.55it/s, train_loss=0.46]  \n"
     ]
    },
    {
     "name": "stdout",
     "output_type": "stream",
     "text": [
      "Epoch 12: Train Loss = 0.2648, Val Loss = 0.2953\n"
     ]
    },
    {
     "name": "stderr",
     "output_type": "stream",
     "text": [
      "Epoch 13/100: 100%|██████████| 1106/1106 [00:05<00:00, 192.60it/s, train_loss=0.0766]\n"
     ]
    },
    {
     "name": "stdout",
     "output_type": "stream",
     "text": [
      "Epoch 13: Train Loss = 0.2648, Val Loss = 0.2933\n"
     ]
    },
    {
     "name": "stderr",
     "output_type": "stream",
     "text": [
      "Epoch 14/100: 100%|██████████| 1106/1106 [00:05<00:00, 190.55it/s, train_loss=0.0871]\n"
     ]
    },
    {
     "name": "stdout",
     "output_type": "stream",
     "text": [
      "Epoch 14: Train Loss = 0.2638, Val Loss = 0.2949\n"
     ]
    },
    {
     "name": "stderr",
     "output_type": "stream",
     "text": [
      "Epoch 15/100: 100%|██████████| 1106/1106 [00:05<00:00, 190.80it/s, train_loss=0.0975]\n"
     ]
    },
    {
     "name": "stdout",
     "output_type": "stream",
     "text": [
      "Epoch 15: Train Loss = 0.2643, Val Loss = 0.2940\n"
     ]
    },
    {
     "name": "stderr",
     "output_type": "stream",
     "text": [
      "Epoch 16/100: 100%|██████████| 1106/1106 [00:05<00:00, 188.54it/s, train_loss=0.768]  \n"
     ]
    },
    {
     "name": "stdout",
     "output_type": "stream",
     "text": [
      "Epoch 16: Train Loss = 0.2648, Val Loss = 0.2936\n"
     ]
    },
    {
     "name": "stderr",
     "output_type": "stream",
     "text": [
      "Epoch 17/100: 100%|██████████| 1106/1106 [00:06<00:00, 183.57it/s, train_loss=0.00161]\n"
     ]
    },
    {
     "name": "stdout",
     "output_type": "stream",
     "text": [
      "Epoch 17: Train Loss = 0.2640, Val Loss = 0.2964\n"
     ]
    },
    {
     "name": "stderr",
     "output_type": "stream",
     "text": [
      "Epoch 18/100: 100%|██████████| 1106/1106 [00:05<00:00, 190.23it/s, train_loss=0.176] \n"
     ]
    },
    {
     "name": "stdout",
     "output_type": "stream",
     "text": [
      "Epoch 18: Train Loss = 0.2634, Val Loss = 0.2939\n"
     ]
    },
    {
     "name": "stderr",
     "output_type": "stream",
     "text": [
      "Epoch 19/100: 100%|██████████| 1106/1106 [00:06<00:00, 181.31it/s, train_loss=0.321] \n"
     ]
    },
    {
     "name": "stdout",
     "output_type": "stream",
     "text": [
      "Epoch 19: Train Loss = 0.2643, Val Loss = 0.2906\n"
     ]
    },
    {
     "name": "stderr",
     "output_type": "stream",
     "text": [
      "Epoch 20/100: 100%|██████████| 1106/1106 [00:05<00:00, 190.63it/s, train_loss=1.22]  \n"
     ]
    },
    {
     "name": "stdout",
     "output_type": "stream",
     "text": [
      "Epoch 20: Train Loss = 0.2647, Val Loss = 0.2919\n"
     ]
    },
    {
     "name": "stderr",
     "output_type": "stream",
     "text": [
      "Epoch 21/100: 100%|██████████| 1106/1106 [00:06<00:00, 164.95it/s, train_loss=0.166] \n"
     ]
    },
    {
     "name": "stdout",
     "output_type": "stream",
     "text": [
      "Epoch 21: Train Loss = 0.2642, Val Loss = 0.2964\n",
      "Early stopping triggered.\n"
     ]
    }
   ],
   "source": [
    "EPOCHS = 100\n",
    "for epoch in range(EPOCHS):\n",
    "    model.train()\n",
    "    train_loss = 0\n",
    "    loop = tqdm(train_loader, desc=f\"Epoch {epoch+1}/{EPOCHS}\")\n",
    "    \n",
    "    for X, y in loop:\n",
    "        X, y = X.to(device), y.to(device)\n",
    "        optimizer.zero_grad()\n",
    "        pred = model(X)\n",
    "        loss = criterion(pred, y)\n",
    "        loss.backward()\n",
    "        optimizer.step()\n",
    "        train_loss += loss.item()\n",
    "        loop.set_postfix(train_loss=loss.item())\n",
    "\n",
    "    model.eval()\n",
    "    val_loss = 0\n",
    "    with torch.no_grad():\n",
    "        for X, y in val_loader:\n",
    "            X, y = X.to(device), y.to(device)\n",
    "            pred = model(X)\n",
    "            val_loss += criterion(pred, y).item()\n",
    "\n",
    "    val_loss /= len(val_loader)\n",
    "    print(f\"Epoch {epoch+1}: Train Loss = {train_loss/len(train_loader):.4f}, Val Loss = {val_loss:.4f}\")\n",
    "\n",
    "    if val_loss < best_loss:\n",
    "        best_loss = val_loss\n",
    "        trigger_times = 0\n",
    "        torch.save(model.state_dict(), \"best_model.pt\")\n",
    "    else:\n",
    "        trigger_times += 1\n",
    "        if trigger_times >= patience:\n",
    "            print(\"Early stopping triggered.\")\n",
    "            break\n"
   ]
  },
  {
   "cell_type": "markdown",
   "id": "0f0308ae",
   "metadata": {},
   "source": [
    "## Testing"
   ]
  },
  {
   "cell_type": "code",
   "execution_count": 14,
   "id": "05c49a1b",
   "metadata": {},
   "outputs": [
    {
     "name": "stdout",
     "output_type": "stream",
     "text": [
      "   Region       truckid Measurement_timestamp  Maintenance_flag  \\\n",
      "0       1  Truck_0021X1   2016-02-22 16:02:52                 0   \n",
      "1       1  Truck_0021X1   2016-02-22 16:02:54                 0   \n",
      "2       1  Truck_0021X1   2016-02-22 16:03:08                 0   \n",
      "3       1  Truck_0021X1   2016-02-22 16:03:09                 0   \n",
      "4       1  Truck_0021X1   2016-02-22 16:03:12                 0   \n",
      "\n",
      "   Prediction_Prob  Prediction_Label  \n",
      "0         0.000290                 0  \n",
      "1         0.000375                 0  \n",
      "2         0.000315                 0  \n",
      "3         0.000293                 0  \n",
      "4         0.000297                 0  \n",
      "\n",
      "Confusion Matrix:\n",
      "[[1013  142]\n",
      " [  15  264]]\n",
      "\n",
      "Classification Metrics:\n",
      "  Accuracy:  0.8905\n",
      "  Precision: 0.6502\n",
      "  Recall:    0.9462\n",
      "  F1 Score:  0.7708\n",
      "  ROC AUC:   0.9362\n"
     ]
    },
    {
     "data": {
      "image/png": "[encoded data removed]",
      "text/plain": [
       "<Figure size 600x500 with 1 Axes>"
      ]
     },
     "metadata": {},
     "output_type": "display_data"
    }
   ],
   "source": [
    "# --- Inference and DataFrame creation ---\n",
    "from sklearn.metrics import confusion_matrix, accuracy_score, precision_score, recall_score, f1_score, roc_auc_score\n",
    "\n",
    "threshold = 0.5\n",
    "\n",
    "results = []\n",
    "all_true = []\n",
    "all_pred = []\n",
    "all_probs = []\n",
    "\n",
    "with torch.no_grad():\n",
    "    for X_batch, y_batch, meta_batch in test_loader:\n",
    "        X_batch = X_batch.to(device)\n",
    "        probs = model(X_batch)\n",
    "        preds = (probs >= 0.5).int()\n",
    "\n",
    "        for prob, pred, y_true, meta in zip(probs, preds, y_batch.numpy(), meta_batch):\n",
    "            results.append({\n",
    "                \"Region\": meta[\"Region\"],\n",
    "                \"truckid\": meta[\"truckid\"],\n",
    "                \"Measurement_timestamp\": meta[\"Measurement_timestamp\"],\n",
    "                \"Maintenance_flag\": int(y_true),\n",
    "                \"Prediction_Prob\": float(prob),\n",
    "                \"Prediction_Label\": int(pred)\n",
    "            })\n",
    "            all_true.append(int(y_true))\n",
    "            all_pred.append(int(pred))\n",
    "            all_probs.append(float(prob))\n",
    "\n",
    "# --- Create result DataFrame ---\n",
    "result_df = pd.DataFrame(results)\n",
    "print(result_df.head())\n",
    "result_df.to_csv(\"lstm_test_predictions.csv\", index=False)\n",
    "\n",
    "# --- Compute Metrics ---\n",
    "conf_matrix = confusion_matrix(all_true, all_pred)\n",
    "accuracy = accuracy_score(all_true, all_pred)\n",
    "precision = precision_score(all_true, all_pred, zero_division=0)\n",
    "recall = recall_score(all_true, all_pred, zero_division=0)\n",
    "f1 = f1_score(all_true, all_pred, zero_division=0)\n",
    "try:\n",
    "    roc_auc = roc_auc_score(all_true, all_probs)\n",
    "except:\n",
    "    roc_auc = None\n",
    "\n",
    "# --- Display Results ---\n",
    "print(\"\\nConfusion Matrix:\")\n",
    "print(conf_matrix)\n",
    "print(\"\\nClassification Metrics:\")\n",
    "print(f\"  Accuracy:  {accuracy:.4f}\")\n",
    "print(f\"  Precision: {precision:.4f}\")\n",
    "print(f\"  Recall:    {recall:.4f}\")\n",
    "print(f\"  F1 Score:  {f1:.4f}\")\n",
    "if roc_auc is not None:\n",
    "    print(f\"  ROC AUC:   {roc_auc:.4f}\")\n",
    "else:\n",
    "    print(\"  ROC AUC:   Not computable (only one class in y_true)\")\n",
    "\n",
    "import seaborn as sns\n",
    "import matplotlib.pyplot as plt\n",
    "\n",
    "# --- Visualize Confusion Matrix ---\n",
    "plt.figure(figsize=(6, 5))\n",
    "sns.heatmap(conf_matrix, annot=True, fmt='d', cmap='Blues', cbar=False,\n",
    "            xticklabels=[\"Predicted 0\", \"Predicted 1\"],\n",
    "            yticklabels=[\"Actual 0\", \"Actual 1\"])\n",
    "plt.title(\"Confusion Matrix\")\n",
    "plt.ylabel(\"True Label\")\n",
    "plt.xlabel(\"Predicted Label\")\n",
    "plt.tight_layout()\n",
    "\n",
    "# Save the figure\n",
    "plt.savefig(\"lstm_confusion_matrix.png\")\n",
    "plt.show()\n"
   ]
  },
  {
   "cell_type": "markdown",
   "id": "02d9f4ff",
   "metadata": {},
   "source": [
    "## Agentic AI"
   ]
  },
  {
   "cell_type": "code",
   "execution_count": 15,
   "id": "6f8a2160",
   "metadata": {},
   "outputs": [],
   "source": [
    "from langgraph.graph import StateGraph, END\n",
    "from typing import TypedDict\n",
    "import pandas as pd\n",
    "import torch\n",
    "import joblib\n",
    "\n",
    "# -----------------------------\n",
    "# Constants & model loading\n",
    "# -----------------------------\n",
    "features = [\n",
    "    \"Vehicle_speed_sensor\", \"Vibration\", \"Engine_Load\", \"Engine_Coolant_Temp\",\n",
    "    \"Intake_Manifold_Pressure\", \"Engine_RPM\", \"Speed_OBD\", \"Intake_Air_Temp\",\n",
    "    \"Mass_Air_Flow_Rate\", \"Throttle_Pos_Manifold\", \"Voltage_Control_Module\",\n",
    "    \"Ambient_air_temp\", \"Accel_Pedal_Pos_D\", \"Engine_Oil_Temp\", \"Speed_GPS\",\n",
    "    \"Turbo_Boost_And_Vcm_Gauge\", \"Trip_Distance\", \"Litres_Per_100km_Inst\",\n",
    "    \"Accel_Ssor_Total\", \"CO2_in_g_per_km_Inst\", \"Trip_Time_journey\"\n",
    "]\n",
    "SEQUENCE_LENGTH = 10\n",
    "\n",
    "device = torch.device(\"cuda\" if torch.cuda.is_available() else \"cpu\")\n",
    "\n",
    "model = LSTMModel(input_size=len(features), hidden_sizes=[200, 100, 50], dropout=0.3).to(device)\n",
    "model.load_state_dict(torch.load(\"best_model.pt\", map_location=device))\n",
    "model.eval()\n",
    "\n",
    "scaler = joblib.load(\"scaler.save\")\n",
    "\n",
    "# -----------------------------\n",
    "# State definition\n",
    "# -----------------------------\n",
    "class MaintenanceState(TypedDict):\n",
    "    fleetid: str\n",
    "    truckid: str\n",
    "    region: str\n",
    "    new_reading: dict\n",
    "    X_seq: torch.Tensor\n",
    "    prob: float\n",
    "    maintenance_needed: bool\n",
    "\n",
    "# -----------------------------\n",
    "# Tool 1: Get new reading\n",
    "# -----------------------------\n",
    "def get_new_sensor_reading(state: MaintenanceState):\n",
    "    \"\"\"\n",
    "    Simulate getting new sensor readings from the truck.\n",
    "    \"\"\"\n",
    "    state[\"new_reading\"] = {\n",
    "        \"Measurement_timestamp\": \"22FEB16:17:55:52\",\n",
    "        \"Vehicle_speed_sensor\": 26,\n",
    "        \"Vibration\": 249.689536,\n",
    "        \"Engine_Load\": 31.764706,\n",
    "        \"Engine_Coolant_Temp\": 87,\n",
    "        \"Intake_Manifold_Pressure\": 118,\n",
    "        \"Engine_RPM\": 1129,\n",
    "        \"Speed_OBD\": 26,\n",
    "        \"Intake_Air_Temp\": 17,\n",
    "        \"Mass_Air_Flow_Rate\": 19.02,\n",
    "        \"Throttle_Pos_Manifold\": 45.09804,\n",
    "        \"Voltage_Control_Module\": 14.28,\n",
    "        \"Ambient_air_temp\": 6,\n",
    "        \"Accel_Pedal_Pos_D\": 14.901961,\n",
    "        \"Engine_Oil_Temp\": 83,\n",
    "        \"Speed_GPS\": 27.578842,\n",
    "        \"Turbo_Boost_And_Vcm_Gauge\": 8.550445794,\n",
    "        \"Trip_Distance\": 49.66853177,\n",
    "        \"Litres_Per_100km_Inst\": 21.3,\n",
    "        \"Accel_Ssor_Total\": 156,\n",
    "        \"CO2_in_g_per_km_Inst\": 3.045792,\n",
    "        \"Trip_Time_journey\": 289.88788,\n",
    "        \"fleetid\": state[\"fleetid\"],\n",
    "        \"truckid\": state[\"truckid\"],\n",
    "        \"Region\": state[\"region\"]\n",
    "    }\n",
    "    return state\n",
    "\n",
    "# -----------------------------\n",
    "# Tool 2: Prepare data\n",
    "# -----------------------------\n",
    "def prepare_data(state: MaintenanceState):\n",
    "    \"\"\"\n",
    "    Load past data, append the new reading, scale features, and prepare sequence.\n",
    "    \"\"\"\n",
    "    df = pd.read_csv(\"fleet_monitor_notscored_2.csv\")\n",
    "    df[\"Measurement_timestamp\"] = pd.to_datetime(df[\"Measurement_timestamp\"], format=\"%d%b%y:%H:%M:%S\")\n",
    "\n",
    "    # Filter historical readings\n",
    "    df = df[\n",
    "        (df[\"fleetid\"] == state[\"fleetid\"]) &\n",
    "        (df[\"Region\"] == state[\"region\"]) &\n",
    "        (df[\"truckid\"] == state[\"truckid\"])\n",
    "    ]\n",
    "\n",
    "    # Append new reading\n",
    "    new_df = pd.DataFrame([state[\"new_reading\"]])\n",
    "    new_df[\"Measurement_timestamp\"] = pd.to_datetime(new_df[\"Measurement_timestamp\"], format=\"%d%b%y:%H:%M:%S\")\n",
    "    df = pd.concat([df, new_df], ignore_index=True)\n",
    "\n",
    "    # Sort by timestamp\n",
    "    df = df.sort_values(by=\"Measurement_timestamp\")\n",
    "\n",
    "    # Check sequence length\n",
    "    if len(df) < SEQUENCE_LENGTH:\n",
    "        raise ValueError(f\"Not enough data for truck {state['truckid']} in {state['region']}.\")\n",
    "\n",
    "    # Scale features\n",
    "    df[features] = scaler.transform(df[features])\n",
    "\n",
    "    # Prepare sequence for model\n",
    "    seq_data = df[features].tail(SEQUENCE_LENGTH).values\n",
    "    state[\"X_seq\"] = torch.tensor(seq_data, dtype=torch.float32).unsqueeze(0).to(device)\n",
    "\n",
    "    return state\n",
    "\n",
    "# -----------------------------\n",
    "# Tool 3: Run prediction\n",
    "# -----------------------------\n",
    "def run_prediction(state: MaintenanceState):\n",
    "    with torch.no_grad():\n",
    "        prob = model(state[\"X_seq\"]).item()\n",
    "    state[\"prob\"] = prob\n",
    "    state[\"maintenance_needed\"] = prob >= 0.5\n",
    "    return state\n",
    "\n",
    "# -----------------------------\n",
    "# Tool 4: Store new reading\n",
    "# -----------------------------\n",
    "def store_new_reading(state: MaintenanceState):\n",
    "    print(f\"✅ New reading for truck {state['truckid']} stored in database (simulated).\")\n",
    "    return state\n",
    "\n",
    "\n",
    "\n",
    "# -----------------------------\n",
    "# Build LangGraph\n",
    "# -----------------------------\n",
    "graph = StateGraph(MaintenanceState)\n",
    "\n",
    "graph.add_node(\"get_new_sensor_reading\", get_new_sensor_reading)\n",
    "graph.add_node(\"prepare_data\", prepare_data)\n",
    "graph.add_node(\"run_prediction\", run_prediction)\n",
    "graph.add_node(\"store_new_reading\", store_new_reading)\n",
    "\n",
    "# Define flow\n",
    "graph.set_entry_point(\"get_new_sensor_reading\")\n",
    "graph.add_edge(\"get_new_sensor_reading\", \"prepare_data\")\n",
    "graph.add_edge(\"prepare_data\", \"run_prediction\")\n",
    "graph.add_edge(\"run_prediction\", \"store_new_reading\")\n",
    "graph.add_edge(\"store_new_reading\", END)\n",
    "\n",
    "agent = graph.compile()\n",
    "\n",
    "\n"
   ]
  },
  {
   "cell_type": "code",
   "execution_count": 16,
   "id": "144708bb",
   "metadata": {},
   "outputs": [
    {
     "name": "stdout",
     "output_type": "stream",
     "text": [
      "✅ New reading for truck Truck_0051X1 stored in database (simulated).\n",
      "Truck Truck_0051X1 in region 1: Needs Maintenance (prob=0.82)\n"
     ]
    }
   ],
   "source": [
    "# -----------------------------\n",
    "# Example usage\n",
    "# -----------------------------\n",
    "result = agent.invoke({\n",
    "    \"fleetid\": \"Fleet_00513F1\",\n",
    "    \"truckid\": \"Truck_0051X1\",\n",
    "    \"region\": 1\n",
    "})\n",
    "\n",
    "print(f\"Truck {result['truckid']} in region {result['region']}: \"\n",
    "      f\"{'Needs Maintenance' if result['maintenance_needed'] else 'OK'} \"\n",
    "      f\"(prob={result['prob']:.2f})\")"
   ]
  }
 ],
 "metadata": {
  "kernelspec": {
   "display_name": "PredictMaintenance",
   "language": "python",
   "name": "python3"
  },
  "language_info": {
   "codemirror_mode": {
    "name": "ipython",
    "version": 3
   },
   "file_extension": ".py",
   "mimetype": "text/x-python",
   "name": "python",
   "nbconvert_exporter": "python",
   "pygments_lexer": "ipython3",
   "version": "3.11.13"
  }
 },
 "nbformat": 4,
 "nbformat_minor": 5
}
