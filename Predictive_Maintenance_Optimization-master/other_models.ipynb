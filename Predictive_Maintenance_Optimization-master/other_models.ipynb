{
 "cells": [
  {
   "cell_type": "markdown",
   "id": "0f405ad6",
   "metadata": {},
   "source": [
    "## Import Modules"
   ]
  },
  {
   "cell_type": "code",
   "execution_count": 9,
   "id": "80f16129",
   "metadata": {},
   "outputs": [],
   "source": [
    "import numpy as np\n",
    "import pandas as pd\n",
    "from sklearn.preprocessing import MinMaxScaler\n",
    "from sklearn.model_selection import train_test_split\n",
    "from imblearn.over_sampling import SMOTE\n",
    "from torch.utils.data import Dataset, DataLoader, TensorDataset\n",
    "import torch\n",
    "import torch.nn as nn\n",
    "import torch.optim as optim\n",
    "from tqdm import tqdm\n",
    "import joblib"
   ]
  },
  {
   "cell_type": "markdown",
   "id": "8066bfa6",
   "metadata": {},
   "source": [
    "## Load and Preprocess Data"
   ]
  },
  {
   "cell_type": "code",
   "execution_count": 10,
   "id": "eb501976",
   "metadata": {},
   "outputs": [
    {
     "data": {
      "text/plain": [
       "['scaler.save']"
      ]
     },
     "execution_count": 10,
     "metadata": {},
     "output_type": "execute_result"
    }
   ],
   "source": [
    "# Load and preprocess\n",
    "df = pd.read_csv(\"fleet_train.csv\")\n",
    "df[\"Measurement_timestamp\"] = pd.to_datetime(df[\"Measurement_timestamp\"], format=\"%d%b%y:%H:%M:%S\")\n",
    "df = df.sort_values(by=[\"Region\", \"truckid\", \"Measurement_timestamp\"]).reset_index(drop=True)\n",
    "\n",
    "# --- Load and preprocess test data ---\n",
    "df_test = pd.read_csv(\"fleet_monitor_notscored_2.csv\")  # <-- Update as needed\n",
    "df_test[\"Measurement_timestamp\"] = pd.to_datetime(df_test[\"Measurement_timestamp\"], format=\"%d%b%y:%H:%M:%S\")\n",
    "df_test = df_test.sort_values(by=[\"Region\", \"truckid\", \"Measurement_timestamp\"]).reset_index(drop=True)\n",
    "\n",
    "# Sensor features\n",
    "features = [\n",
    "    \"Vehicle_speed_sensor\", \"Vibration\", \"Engine_Load\", \"Engine_Coolant_Temp\", \"Intake_Manifold_Pressure\",\n",
    "    \"Engine_RPM\", \"Speed_OBD\", \"Intake_Air_Temp\", \"Mass_Air_Flow_Rate\", \"Throttle_Pos_Manifold\",\n",
    "    \"Voltage_Control_Module\", \"Ambient_air_temp\", \"Accel_Pedal_Pos_D\", \"Engine_Oil_Temp\", \"Speed_GPS\",\n",
    "    \"Turbo_Boost_And_Vcm_Gauge\", \"Trip_Distance\", \"Litres_Per_100km_Inst\", \"Accel_Ssor_Total\",\n",
    "    \"CO2_in_g_per_km_Inst\", \"Trip_Time_journey\"\n",
    "]\n",
    "\n",
    "# Normalize\n",
    "scaler = MinMaxScaler()\n",
    "df[features] = scaler.fit_transform(df[features])\n",
    "df_test[features] = scaler.fit_transform(df_test[features])\n",
    "joblib.dump(scaler, \"scaler.save\")"
   ]
  },
  {
   "cell_type": "markdown",
   "id": "448a74a9",
   "metadata": {},
   "source": [
    "## Apply SMOTE"
   ]
  },
  {
   "cell_type": "code",
   "execution_count": 47,
   "id": "e5520c41",
   "metadata": {},
   "outputs": [],
   "source": [
    "# Sequence extraction\n",
    "SEQUENCE_LENGTH = 10\n",
    "X_seq, y_seq = [], []\n",
    "\n",
    "for _, group in df.groupby([\"Region\", \"truckid\"]):\n",
    "    if len(group) < SEQUENCE_LENGTH:\n",
    "        continue\n",
    "    X = group[features].values\n",
    "    y = group[\"Maintenance_flag\"].values\n",
    "    for i in range(len(X) - SEQUENCE_LENGTH):\n",
    "        X_seq.append(X[i:i+SEQUENCE_LENGTH])\n",
    "        y_seq.append(y[i+SEQUENCE_LENGTH])\n",
    "\n",
    "X_seq = np.array(X_seq)\n",
    "y_seq = np.array(y_seq)\n",
    "\n",
    "# Flatten for SMOTE\n",
    "X_seq_flat = X_seq.reshape(X_seq.shape[0], -1)\n",
    "\n",
    "# Train-val split before applying SMOTE\n",
    "X_train, X_val, y_train, y_val = train_test_split(X_seq_flat, y_seq, test_size=0.2, stratify=y_seq, random_state=42)\n",
    "\n",
    "# Apply SMOTE\n",
    "smote = SMOTE(random_state=42, sampling_strategy=0.8, k_neighbors=2)\n",
    "X_train_resampled, y_train_resampled = smote.fit_resample(X_train, y_train)\n",
    "\n",
    "# Reshape back to (batch, sequence, features)\n",
    "X_train_resampled = X_train_resampled.reshape(-1, SEQUENCE_LENGTH, len(features))\n",
    "\n",
    "# Convert to tensors and loaders\n",
    "train_dataset = TensorDataset(torch.tensor(X_train_resampled, dtype=torch.float32),\n",
    "                              torch.tensor(y_train_resampled, dtype=torch.float32))\n",
    "val_dataset = TensorDataset(torch.tensor(X_val.reshape(-1, SEQUENCE_LENGTH, len(features)), dtype=torch.float32),\n",
    "                            torch.tensor(y_val, dtype=torch.float32))\n",
    "\n",
    "train_loader = DataLoader(train_dataset, batch_size=8, shuffle=True)\n",
    "val_loader = DataLoader(val_dataset, batch_size=8)"
   ]
  },
  {
   "cell_type": "code",
   "execution_count": 12,
   "id": "c849c7d7",
   "metadata": {},
   "outputs": [],
   "source": [
    "# --- Test Dataset with extra metadata for output ---\n",
    "class FleetTestDataset(Dataset):\n",
    "    def __init__(self, df, features, seq_len):\n",
    "        self.sequences = []\n",
    "        self.labels = []\n",
    "        self.meta = []  # to store Region, truckid, timestamp\n",
    "        for _, group in df.groupby([\"Region\", \"truckid\"]):\n",
    "            if len(group) < seq_len:\n",
    "                continue\n",
    "            X = group[features].values\n",
    "            y = group[\"Maintenance_flag\"].values\n",
    "            ts = group[\"Measurement_timestamp\"].values\n",
    "            for i in range(len(X) - seq_len):\n",
    "                self.sequences.append(X[i:i+seq_len])\n",
    "                self.labels.append(y[i+seq_len])\n",
    "                self.meta.append({\n",
    "                    \"Region\": group[\"Region\"].iloc[i+seq_len],\n",
    "                    \"truckid\": group[\"truckid\"].iloc[i+seq_len],\n",
    "                    \"Measurement_timestamp\": str(group[\"Measurement_timestamp\"].iloc[i+seq_len])  # convert to string\n",
    "                })\n",
    "\n",
    "\n",
    "    def __len__(self):\n",
    "        return len(self.sequences)\n",
    "\n",
    "    def __getitem__(self, idx):\n",
    "        x = torch.tensor(self.sequences[idx], dtype=torch.float32)\n",
    "        y = torch.tensor(self.labels[idx], dtype=torch.float32)\n",
    "        return x, y, self.meta[idx]\n",
    "    \n",
    "def custom_collate_fn(batch):\n",
    "    xs, ys, metas = zip(*batch)\n",
    "    xs = torch.stack(xs)\n",
    "    ys = torch.stack(ys)\n",
    "    return xs, ys, metas  # metas stays as a list of dicts\n",
    "\n",
    "\n",
    "test_dataset = FleetTestDataset(df_test, features, SEQUENCE_LENGTH)\n",
    "test_loader = DataLoader(test_dataset, batch_size=8, collate_fn=custom_collate_fn)"
   ]
  },
  {
   "cell_type": "markdown",
   "id": "bcb39ed6",
   "metadata": {},
   "source": [
    "## LSTM Model"
   ]
  },
  {
   "cell_type": "code",
   "execution_count": 13,
   "id": "ff4eb6c8",
   "metadata": {},
   "outputs": [],
   "source": [
    "# Model\n",
    "class LSTMModel(nn.Module):\n",
    "    def __init__(self, input_size, hidden_sizes=[200, 100, 50], dropout=0.2):\n",
    "        super().__init__()\n",
    "        self.lstm_layers = nn.ModuleList()\n",
    "        self.dropout_layers = nn.ModuleList()\n",
    " \n",
    "        self.lstm_layers.append(nn.LSTM(input_size=input_size, hidden_size=hidden_sizes[0], batch_first=True, bidirectional=True))\n",
    "        self.dropout_layers.append(nn.Dropout(dropout))\n",
    " \n",
    "        for i in range(1, len(hidden_sizes)):\n",
    "            self.lstm_layers.append(\n",
    "                nn.LSTM(input_size=hidden_sizes[i-1] * 2, hidden_size=hidden_sizes[i], batch_first=True, bidirectional=True)\n",
    "            )\n",
    "            self.dropout_layers.append(nn.Dropout(dropout))\n",
    " \n",
    "        self.fc = nn.Linear(hidden_sizes[-1] * 2, 1)\n",
    "        self.sigmoid = nn.Sigmoid()\n",
    " \n",
    "    def forward(self, x):\n",
    "        for lstm, dropout in zip(self.lstm_layers, self.dropout_layers):\n",
    "            x, _ = lstm(x)\n",
    "            x = dropout(x)\n",
    " \n",
    "        last_out = x[:, -1, :]\n",
    "        out = self.fc(last_out)\n",
    "        return self.sigmoid(out).squeeze()\n",
    " "
   ]
  },
  {
   "cell_type": "markdown",
   "id": "049a669d",
   "metadata": {},
   "source": [
    "## Training"
   ]
  },
  {
   "cell_type": "code",
   "execution_count": 48,
   "id": "2e218e61",
   "metadata": {},
   "outputs": [],
   "source": [
    "# Training setup\n",
    "device = torch.device(\"cuda\" if torch.cuda.is_available() else \"cpu\")\n",
    "model = LSTMModel(input_size=len(features), hidden_sizes=[256, 128], dropout=0.2).to(device)\n",
    "criterion = nn.BCELoss()\n",
    "optimizer = optim.Adam(model.parameters(), lr=1e-5)\n",
    "\n",
    "# Early stopping\n",
    "best_loss = np.inf\n",
    "patience = 20\n",
    "trigger_times = 0"
   ]
  },
  {
   "cell_type": "code",
   "execution_count": 49,
   "id": "a30dac53",
   "metadata": {},
   "outputs": [
    {
     "name": "stderr",
     "output_type": "stream",
     "text": [
      "Epoch 1/500: 100%|██████████| 995/995 [00:03<00:00, 255.88it/s, train_loss=0.693]\n"
     ]
    },
    {
     "name": "stdout",
     "output_type": "stream",
     "text": [
      "Epoch 1: Train Loss = 0.679017, Val Loss = 0.569071\n"
     ]
    },
    {
     "name": "stderr",
     "output_type": "stream",
     "text": [
      "Epoch 2/500: 100%|██████████| 995/995 [00:03<00:00, 275.97it/s, train_loss=0.569]\n"
     ]
    },
    {
     "name": "stdout",
     "output_type": "stream",
     "text": [
      "Epoch 2: Train Loss = 0.588612, Val Loss = 0.523293\n"
     ]
    },
    {
     "name": "stderr",
     "output_type": "stream",
     "text": [
      "Epoch 3/500: 100%|██████████| 995/995 [00:03<00:00, 275.39it/s, train_loss=0.601]\n"
     ]
    },
    {
     "name": "stdout",
     "output_type": "stream",
     "text": [
      "Epoch 3: Train Loss = 0.531123, Val Loss = 0.511872\n"
     ]
    },
    {
     "name": "stderr",
     "output_type": "stream",
     "text": [
      "Epoch 4/500: 100%|██████████| 995/995 [00:03<00:00, 261.34it/s, train_loss=0.469]\n"
     ]
    },
    {
     "name": "stdout",
     "output_type": "stream",
     "text": [
      "Epoch 4: Train Loss = 0.516119, Val Loss = 0.491408\n"
     ]
    },
    {
     "name": "stderr",
     "output_type": "stream",
     "text": [
      "Epoch 5/500: 100%|██████████| 995/995 [00:03<00:00, 277.29it/s, train_loss=0.571]\n"
     ]
    },
    {
     "name": "stdout",
     "output_type": "stream",
     "text": [
      "Epoch 5: Train Loss = 0.503074, Val Loss = 0.470099\n"
     ]
    },
    {
     "name": "stderr",
     "output_type": "stream",
     "text": [
      "Epoch 6/500: 100%|██████████| 995/995 [00:03<00:00, 277.06it/s, train_loss=0.371]\n"
     ]
    },
    {
     "name": "stdout",
     "output_type": "stream",
     "text": [
      "Epoch 6: Train Loss = 0.487622, Val Loss = 0.439505\n"
     ]
    },
    {
     "name": "stderr",
     "output_type": "stream",
     "text": [
      "Epoch 7/500: 100%|██████████| 995/995 [00:03<00:00, 278.37it/s, train_loss=0.292] \n"
     ]
    },
    {
     "name": "stdout",
     "output_type": "stream",
     "text": [
      "Epoch 7: Train Loss = 0.470342, Val Loss = 0.435576\n"
     ]
    },
    {
     "name": "stderr",
     "output_type": "stream",
     "text": [
      "Epoch 8/500: 100%|██████████| 995/995 [00:03<00:00, 277.37it/s, train_loss=0.323] \n"
     ]
    },
    {
     "name": "stdout",
     "output_type": "stream",
     "text": [
      "Epoch 8: Train Loss = 0.452543, Val Loss = 0.432675\n"
     ]
    },
    {
     "name": "stderr",
     "output_type": "stream",
     "text": [
      "Epoch 9/500: 100%|██████████| 995/995 [00:03<00:00, 276.83it/s, train_loss=0.472] \n"
     ]
    },
    {
     "name": "stdout",
     "output_type": "stream",
     "text": [
      "Epoch 9: Train Loss = 0.438836, Val Loss = 0.394831\n"
     ]
    },
    {
     "name": "stderr",
     "output_type": "stream",
     "text": [
      "Epoch 10/500: 100%|██████████| 995/995 [00:03<00:00, 278.06it/s, train_loss=0.217] \n"
     ]
    },
    {
     "name": "stdout",
     "output_type": "stream",
     "text": [
      "Epoch 10: Train Loss = 0.433148, Val Loss = 0.405571\n"
     ]
    },
    {
     "name": "stderr",
     "output_type": "stream",
     "text": [
      "Epoch 11/500: 100%|██████████| 995/995 [00:03<00:00, 276.40it/s, train_loss=0.175] \n"
     ]
    },
    {
     "name": "stdout",
     "output_type": "stream",
     "text": [
      "Epoch 11: Train Loss = 0.424492, Val Loss = 0.420306\n"
     ]
    },
    {
     "name": "stderr",
     "output_type": "stream",
     "text": [
      "Epoch 12/500: 100%|██████████| 995/995 [00:03<00:00, 278.05it/s, train_loss=0.513] \n"
     ]
    },
    {
     "name": "stdout",
     "output_type": "stream",
     "text": [
      "Epoch 12: Train Loss = 0.421554, Val Loss = 0.424678\n"
     ]
    },
    {
     "name": "stderr",
     "output_type": "stream",
     "text": [
      "Epoch 13/500: 100%|██████████| 995/995 [00:03<00:00, 276.29it/s, train_loss=0.118] \n"
     ]
    },
    {
     "name": "stdout",
     "output_type": "stream",
     "text": [
      "Epoch 13: Train Loss = 0.413799, Val Loss = 0.444135\n"
     ]
    },
    {
     "name": "stderr",
     "output_type": "stream",
     "text": [
      "Epoch 14/500: 100%|██████████| 995/995 [00:03<00:00, 275.85it/s, train_loss=0.482] \n"
     ]
    },
    {
     "name": "stdout",
     "output_type": "stream",
     "text": [
      "Epoch 14: Train Loss = 0.410165, Val Loss = 0.399297\n"
     ]
    },
    {
     "name": "stderr",
     "output_type": "stream",
     "text": [
      "Epoch 15/500: 100%|██████████| 995/995 [00:03<00:00, 276.29it/s, train_loss=0.315] \n"
     ]
    },
    {
     "name": "stdout",
     "output_type": "stream",
     "text": [
      "Epoch 15: Train Loss = 0.406172, Val Loss = 0.404070\n"
     ]
    },
    {
     "name": "stderr",
     "output_type": "stream",
     "text": [
      "Epoch 16/500: 100%|██████████| 995/995 [00:03<00:00, 276.93it/s, train_loss=0.651] \n"
     ]
    },
    {
     "name": "stdout",
     "output_type": "stream",
     "text": [
      "Epoch 16: Train Loss = 0.404054, Val Loss = 0.390413\n"
     ]
    },
    {
     "name": "stderr",
     "output_type": "stream",
     "text": [
      "Epoch 17/500: 100%|██████████| 995/995 [00:03<00:00, 276.82it/s, train_loss=0.109] \n"
     ]
    },
    {
     "name": "stdout",
     "output_type": "stream",
     "text": [
      "Epoch 17: Train Loss = 0.398666, Val Loss = 0.397862\n"
     ]
    },
    {
     "name": "stderr",
     "output_type": "stream",
     "text": [
      "Epoch 18/500: 100%|██████████| 995/995 [00:03<00:00, 276.20it/s, train_loss=0.748] \n"
     ]
    },
    {
     "name": "stdout",
     "output_type": "stream",
     "text": [
      "Epoch 18: Train Loss = 0.397484, Val Loss = 0.391502\n"
     ]
    },
    {
     "name": "stderr",
     "output_type": "stream",
     "text": [
      "Epoch 19/500: 100%|██████████| 995/995 [00:03<00:00, 277.33it/s, train_loss=0.0583]\n"
     ]
    },
    {
     "name": "stdout",
     "output_type": "stream",
     "text": [
      "Epoch 19: Train Loss = 0.393556, Val Loss = 0.390268\n"
     ]
    },
    {
     "name": "stderr",
     "output_type": "stream",
     "text": [
      "Epoch 20/500: 100%|██████████| 995/995 [00:03<00:00, 275.98it/s, train_loss=0.167] \n"
     ]
    },
    {
     "name": "stdout",
     "output_type": "stream",
     "text": [
      "Epoch 20: Train Loss = 0.388702, Val Loss = 0.346527\n"
     ]
    },
    {
     "name": "stderr",
     "output_type": "stream",
     "text": [
      "Epoch 21/500: 100%|██████████| 995/995 [00:03<00:00, 277.05it/s, train_loss=0.499]  \n"
     ]
    },
    {
     "name": "stdout",
     "output_type": "stream",
     "text": [
      "Epoch 21: Train Loss = 0.384055, Val Loss = 0.364095\n"
     ]
    },
    {
     "name": "stderr",
     "output_type": "stream",
     "text": [
      "Epoch 22/500: 100%|██████████| 995/995 [00:03<00:00, 276.40it/s, train_loss=0.279] \n"
     ]
    },
    {
     "name": "stdout",
     "output_type": "stream",
     "text": [
      "Epoch 22: Train Loss = 0.380114, Val Loss = 0.370365\n"
     ]
    },
    {
     "name": "stderr",
     "output_type": "stream",
     "text": [
      "Epoch 23/500: 100%|██████████| 995/995 [00:03<00:00, 275.97it/s, train_loss=0.298] \n"
     ]
    },
    {
     "name": "stdout",
     "output_type": "stream",
     "text": [
      "Epoch 23: Train Loss = 0.377780, Val Loss = 0.353262\n"
     ]
    },
    {
     "name": "stderr",
     "output_type": "stream",
     "text": [
      "Epoch 24/500: 100%|██████████| 995/995 [00:03<00:00, 276.60it/s, train_loss=0.196] \n"
     ]
    },
    {
     "name": "stdout",
     "output_type": "stream",
     "text": [
      "Epoch 24: Train Loss = 0.374390, Val Loss = 0.364277\n"
     ]
    },
    {
     "name": "stderr",
     "output_type": "stream",
     "text": [
      "Epoch 25/500: 100%|██████████| 995/995 [00:03<00:00, 276.42it/s, train_loss=0.334] \n"
     ]
    },
    {
     "name": "stdout",
     "output_type": "stream",
     "text": [
      "Epoch 25: Train Loss = 0.372744, Val Loss = 0.362195\n"
     ]
    },
    {
     "name": "stderr",
     "output_type": "stream",
     "text": [
      "Epoch 26/500: 100%|██████████| 995/995 [00:03<00:00, 276.26it/s, train_loss=0.137] \n"
     ]
    },
    {
     "name": "stdout",
     "output_type": "stream",
     "text": [
      "Epoch 26: Train Loss = 0.369551, Val Loss = 0.337004\n"
     ]
    },
    {
     "name": "stderr",
     "output_type": "stream",
     "text": [
      "Epoch 27/500: 100%|██████████| 995/995 [00:03<00:00, 277.50it/s, train_loss=0.636] \n"
     ]
    },
    {
     "name": "stdout",
     "output_type": "stream",
     "text": [
      "Epoch 27: Train Loss = 0.368704, Val Loss = 0.350567\n"
     ]
    },
    {
     "name": "stderr",
     "output_type": "stream",
     "text": [
      "Epoch 28/500: 100%|██████████| 995/995 [00:03<00:00, 276.23it/s, train_loss=0.507] \n"
     ]
    },
    {
     "name": "stdout",
     "output_type": "stream",
     "text": [
      "Epoch 28: Train Loss = 0.364505, Val Loss = 0.359294\n"
     ]
    },
    {
     "name": "stderr",
     "output_type": "stream",
     "text": [
      "Epoch 29/500: 100%|██████████| 995/995 [00:03<00:00, 275.96it/s, train_loss=0.065]  \n"
     ]
    },
    {
     "name": "stdout",
     "output_type": "stream",
     "text": [
      "Epoch 29: Train Loss = 0.364066, Val Loss = 0.348356\n"
     ]
    },
    {
     "name": "stderr",
     "output_type": "stream",
     "text": [
      "Epoch 30/500: 100%|██████████| 995/995 [00:03<00:00, 277.06it/s, train_loss=0.207] \n"
     ]
    },
    {
     "name": "stdout",
     "output_type": "stream",
     "text": [
      "Epoch 30: Train Loss = 0.363167, Val Loss = 0.351686\n"
     ]
    },
    {
     "name": "stderr",
     "output_type": "stream",
     "text": [
      "Epoch 31/500: 100%|██████████| 995/995 [00:03<00:00, 276.29it/s, train_loss=0.743] \n"
     ]
    },
    {
     "name": "stdout",
     "output_type": "stream",
     "text": [
      "Epoch 31: Train Loss = 0.361818, Val Loss = 0.339616\n"
     ]
    },
    {
     "name": "stderr",
     "output_type": "stream",
     "text": [
      "Epoch 32/500: 100%|██████████| 995/995 [00:03<00:00, 275.39it/s, train_loss=0.11]  \n"
     ]
    },
    {
     "name": "stdout",
     "output_type": "stream",
     "text": [
      "Epoch 32: Train Loss = 0.359649, Val Loss = 0.341629\n"
     ]
    },
    {
     "name": "stderr",
     "output_type": "stream",
     "text": [
      "Epoch 33/500: 100%|██████████| 995/995 [00:04<00:00, 245.46it/s, train_loss=0.146]  \n"
     ]
    },
    {
     "name": "stdout",
     "output_type": "stream",
     "text": [
      "Epoch 33: Train Loss = 0.358389, Val Loss = 0.352731\n"
     ]
    },
    {
     "name": "stderr",
     "output_type": "stream",
     "text": [
      "Epoch 34/500: 100%|██████████| 995/995 [00:03<00:00, 274.84it/s, train_loss=0.204] \n"
     ]
    },
    {
     "name": "stdout",
     "output_type": "stream",
     "text": [
      "Epoch 34: Train Loss = 0.358336, Val Loss = 0.327168\n"
     ]
    },
    {
     "name": "stderr",
     "output_type": "stream",
     "text": [
      "Epoch 35/500: 100%|██████████| 995/995 [00:03<00:00, 277.64it/s, train_loss=0.708] \n"
     ]
    },
    {
     "name": "stdout",
     "output_type": "stream",
     "text": [
      "Epoch 35: Train Loss = 0.356465, Val Loss = 0.326908\n"
     ]
    },
    {
     "name": "stderr",
     "output_type": "stream",
     "text": [
      "Epoch 36/500: 100%|██████████| 995/995 [00:03<00:00, 277.76it/s, train_loss=0.417] \n"
     ]
    },
    {
     "name": "stdout",
     "output_type": "stream",
     "text": [
      "Epoch 36: Train Loss = 0.356451, Val Loss = 0.334484\n"
     ]
    },
    {
     "name": "stderr",
     "output_type": "stream",
     "text": [
      "Epoch 37/500: 100%|██████████| 995/995 [00:03<00:00, 275.91it/s, train_loss=0.057] \n"
     ]
    },
    {
     "name": "stdout",
     "output_type": "stream",
     "text": [
      "Epoch 37: Train Loss = 0.357124, Val Loss = 0.340451\n"
     ]
    },
    {
     "name": "stderr",
     "output_type": "stream",
     "text": [
      "Epoch 38/500: 100%|██████████| 995/995 [00:03<00:00, 276.42it/s, train_loss=0.049] \n"
     ]
    },
    {
     "name": "stdout",
     "output_type": "stream",
     "text": [
      "Epoch 38: Train Loss = 0.354214, Val Loss = 0.352769\n"
     ]
    },
    {
     "name": "stderr",
     "output_type": "stream",
     "text": [
      "Epoch 39/500: 100%|██████████| 995/995 [00:03<00:00, 277.25it/s, train_loss=0.371] \n"
     ]
    },
    {
     "name": "stdout",
     "output_type": "stream",
     "text": [
      "Epoch 39: Train Loss = 0.353949, Val Loss = 0.335443\n"
     ]
    },
    {
     "name": "stderr",
     "output_type": "stream",
     "text": [
      "Epoch 40/500: 100%|██████████| 995/995 [00:03<00:00, 275.36it/s, train_loss=0.268] \n"
     ]
    },
    {
     "name": "stdout",
     "output_type": "stream",
     "text": [
      "Epoch 40: Train Loss = 0.352632, Val Loss = 0.335601\n"
     ]
    },
    {
     "name": "stderr",
     "output_type": "stream",
     "text": [
      "Epoch 41/500: 100%|██████████| 995/995 [00:03<00:00, 277.71it/s, train_loss=0.226]  \n"
     ]
    },
    {
     "name": "stdout",
     "output_type": "stream",
     "text": [
      "Epoch 41: Train Loss = 0.351774, Val Loss = 0.326133\n"
     ]
    },
    {
     "name": "stderr",
     "output_type": "stream",
     "text": [
      "Epoch 42/500: 100%|██████████| 995/995 [00:03<00:00, 277.67it/s, train_loss=1.12]  \n"
     ]
    },
    {
     "name": "stdout",
     "output_type": "stream",
     "text": [
      "Epoch 42: Train Loss = 0.352389, Val Loss = 0.333550\n"
     ]
    },
    {
     "name": "stderr",
     "output_type": "stream",
     "text": [
      "Epoch 43/500: 100%|██████████| 995/995 [00:03<00:00, 275.90it/s, train_loss=0.215] \n"
     ]
    },
    {
     "name": "stdout",
     "output_type": "stream",
     "text": [
      "Epoch 43: Train Loss = 0.350882, Val Loss = 0.338174\n"
     ]
    },
    {
     "name": "stderr",
     "output_type": "stream",
     "text": [
      "Epoch 44/500: 100%|██████████| 995/995 [00:03<00:00, 275.74it/s, train_loss=0.374] \n"
     ]
    },
    {
     "name": "stdout",
     "output_type": "stream",
     "text": [
      "Epoch 44: Train Loss = 0.350348, Val Loss = 0.322662\n"
     ]
    },
    {
     "name": "stderr",
     "output_type": "stream",
     "text": [
      "Epoch 45/500: 100%|██████████| 995/995 [00:03<00:00, 277.74it/s, train_loss=0.0613]\n"
     ]
    },
    {
     "name": "stdout",
     "output_type": "stream",
     "text": [
      "Epoch 45: Train Loss = 0.351553, Val Loss = 0.347096\n"
     ]
    },
    {
     "name": "stderr",
     "output_type": "stream",
     "text": [
      "Epoch 46/500: 100%|██████████| 995/995 [00:03<00:00, 276.16it/s, train_loss=0.583] \n"
     ]
    },
    {
     "name": "stdout",
     "output_type": "stream",
     "text": [
      "Epoch 46: Train Loss = 0.350411, Val Loss = 0.354446\n"
     ]
    },
    {
     "name": "stderr",
     "output_type": "stream",
     "text": [
      "Epoch 47/500: 100%|██████████| 995/995 [00:03<00:00, 277.28it/s, train_loss=0.22]  \n"
     ]
    },
    {
     "name": "stdout",
     "output_type": "stream",
     "text": [
      "Epoch 47: Train Loss = 0.348558, Val Loss = 0.330496\n"
     ]
    },
    {
     "name": "stderr",
     "output_type": "stream",
     "text": [
      "Epoch 48/500: 100%|██████████| 995/995 [00:03<00:00, 277.28it/s, train_loss=0.124]  \n"
     ]
    },
    {
     "name": "stdout",
     "output_type": "stream",
     "text": [
      "Epoch 48: Train Loss = 0.348356, Val Loss = 0.324769\n"
     ]
    },
    {
     "name": "stderr",
     "output_type": "stream",
     "text": [
      "Epoch 49/500: 100%|██████████| 995/995 [00:03<00:00, 277.39it/s, train_loss=0.208] \n"
     ]
    },
    {
     "name": "stdout",
     "output_type": "stream",
     "text": [
      "Epoch 49: Train Loss = 0.346641, Val Loss = 0.340140\n"
     ]
    },
    {
     "name": "stderr",
     "output_type": "stream",
     "text": [
      "Epoch 50/500: 100%|██████████| 995/995 [00:03<00:00, 276.59it/s, train_loss=0.274]  \n"
     ]
    },
    {
     "name": "stdout",
     "output_type": "stream",
     "text": [
      "Epoch 50: Train Loss = 0.347375, Val Loss = 0.337556\n"
     ]
    },
    {
     "name": "stderr",
     "output_type": "stream",
     "text": [
      "Epoch 51/500: 100%|██████████| 995/995 [00:03<00:00, 276.48it/s, train_loss=0.881] \n"
     ]
    },
    {
     "name": "stdout",
     "output_type": "stream",
     "text": [
      "Epoch 51: Train Loss = 0.347559, Val Loss = 0.344693\n"
     ]
    },
    {
     "name": "stderr",
     "output_type": "stream",
     "text": [
      "Epoch 52/500: 100%|██████████| 995/995 [00:03<00:00, 276.01it/s, train_loss=0.19]  \n"
     ]
    },
    {
     "name": "stdout",
     "output_type": "stream",
     "text": [
      "Epoch 52: Train Loss = 0.347236, Val Loss = 0.332234\n"
     ]
    },
    {
     "name": "stderr",
     "output_type": "stream",
     "text": [
      "Epoch 53/500: 100%|██████████| 995/995 [00:03<00:00, 276.31it/s, train_loss=0.725]  \n"
     ]
    },
    {
     "name": "stdout",
     "output_type": "stream",
     "text": [
      "Epoch 53: Train Loss = 0.345089, Val Loss = 0.332522\n"
     ]
    },
    {
     "name": "stderr",
     "output_type": "stream",
     "text": [
      "Epoch 54/500: 100%|██████████| 995/995 [00:03<00:00, 275.75it/s, train_loss=0.173]  \n"
     ]
    },
    {
     "name": "stdout",
     "output_type": "stream",
     "text": [
      "Epoch 54: Train Loss = 0.345624, Val Loss = 0.333391\n"
     ]
    },
    {
     "name": "stderr",
     "output_type": "stream",
     "text": [
      "Epoch 55/500: 100%|██████████| 995/995 [00:03<00:00, 277.46it/s, train_loss=0.383] \n"
     ]
    },
    {
     "name": "stdout",
     "output_type": "stream",
     "text": [
      "Epoch 55: Train Loss = 0.343956, Val Loss = 0.337337\n"
     ]
    },
    {
     "name": "stderr",
     "output_type": "stream",
     "text": [
      "Epoch 56/500: 100%|██████████| 995/995 [00:03<00:00, 276.93it/s, train_loss=0.588] \n"
     ]
    },
    {
     "name": "stdout",
     "output_type": "stream",
     "text": [
      "Epoch 56: Train Loss = 0.342966, Val Loss = 0.329460\n"
     ]
    },
    {
     "name": "stderr",
     "output_type": "stream",
     "text": [
      "Epoch 57/500: 100%|██████████| 995/995 [00:03<00:00, 275.59it/s, train_loss=0.511] \n"
     ]
    },
    {
     "name": "stdout",
     "output_type": "stream",
     "text": [
      "Epoch 57: Train Loss = 0.341669, Val Loss = 0.330678\n"
     ]
    },
    {
     "name": "stderr",
     "output_type": "stream",
     "text": [
      "Epoch 58/500: 100%|██████████| 995/995 [00:03<00:00, 276.42it/s, train_loss=0.113] \n"
     ]
    },
    {
     "name": "stdout",
     "output_type": "stream",
     "text": [
      "Epoch 58: Train Loss = 0.340137, Val Loss = 0.328500\n"
     ]
    },
    {
     "name": "stderr",
     "output_type": "stream",
     "text": [
      "Epoch 59/500: 100%|██████████| 995/995 [00:03<00:00, 276.82it/s, train_loss=0.102]  \n"
     ]
    },
    {
     "name": "stdout",
     "output_type": "stream",
     "text": [
      "Epoch 59: Train Loss = 0.338858, Val Loss = 0.328590\n"
     ]
    },
    {
     "name": "stderr",
     "output_type": "stream",
     "text": [
      "Epoch 60/500: 100%|██████████| 995/995 [00:03<00:00, 275.65it/s, train_loss=0.648] \n"
     ]
    },
    {
     "name": "stdout",
     "output_type": "stream",
     "text": [
      "Epoch 60: Train Loss = 0.336098, Val Loss = 0.318665\n"
     ]
    },
    {
     "name": "stderr",
     "output_type": "stream",
     "text": [
      "Epoch 61/500: 100%|██████████| 995/995 [00:03<00:00, 277.38it/s, train_loss=0.356]  \n"
     ]
    },
    {
     "name": "stdout",
     "output_type": "stream",
     "text": [
      "Epoch 61: Train Loss = 0.334946, Val Loss = 0.325493\n"
     ]
    },
    {
     "name": "stderr",
     "output_type": "stream",
     "text": [
      "Epoch 62/500: 100%|██████████| 995/995 [00:03<00:00, 276.98it/s, train_loss=0.289] \n"
     ]
    },
    {
     "name": "stdout",
     "output_type": "stream",
     "text": [
      "Epoch 62: Train Loss = 0.331453, Val Loss = 0.306891\n"
     ]
    },
    {
     "name": "stderr",
     "output_type": "stream",
     "text": [
      "Epoch 63/500: 100%|██████████| 995/995 [00:03<00:00, 277.02it/s, train_loss=0.138]   \n"
     ]
    },
    {
     "name": "stdout",
     "output_type": "stream",
     "text": [
      "Epoch 63: Train Loss = 0.328653, Val Loss = 0.333634\n"
     ]
    },
    {
     "name": "stderr",
     "output_type": "stream",
     "text": [
      "Epoch 64/500: 100%|██████████| 995/995 [00:03<00:00, 276.89it/s, train_loss=0.205] \n"
     ]
    },
    {
     "name": "stdout",
     "output_type": "stream",
     "text": [
      "Epoch 64: Train Loss = 0.323838, Val Loss = 0.296548\n"
     ]
    },
    {
     "name": "stderr",
     "output_type": "stream",
     "text": [
      "Epoch 65/500: 100%|██████████| 995/995 [00:03<00:00, 278.18it/s, train_loss=0.211] \n"
     ]
    },
    {
     "name": "stdout",
     "output_type": "stream",
     "text": [
      "Epoch 65: Train Loss = 0.315060, Val Loss = 0.313494\n"
     ]
    },
    {
     "name": "stderr",
     "output_type": "stream",
     "text": [
      "Epoch 66/500: 100%|██████████| 995/995 [00:03<00:00, 275.74it/s, train_loss=0.487]  \n"
     ]
    },
    {
     "name": "stdout",
     "output_type": "stream",
     "text": [
      "Epoch 66: Train Loss = 0.308292, Val Loss = 0.310963\n"
     ]
    },
    {
     "name": "stderr",
     "output_type": "stream",
     "text": [
      "Epoch 67/500: 100%|██████████| 995/995 [00:03<00:00, 276.27it/s, train_loss=0.613] \n"
     ]
    },
    {
     "name": "stdout",
     "output_type": "stream",
     "text": [
      "Epoch 67: Train Loss = 0.300945, Val Loss = 0.297547\n"
     ]
    },
    {
     "name": "stderr",
     "output_type": "stream",
     "text": [
      "Epoch 68/500: 100%|██████████| 995/995 [00:03<00:00, 276.81it/s, train_loss=0.72]   \n"
     ]
    },
    {
     "name": "stdout",
     "output_type": "stream",
     "text": [
      "Epoch 68: Train Loss = 0.296990, Val Loss = 0.289676\n"
     ]
    },
    {
     "name": "stderr",
     "output_type": "stream",
     "text": [
      "Epoch 69/500: 100%|██████████| 995/995 [00:03<00:00, 276.35it/s, train_loss=0.0509] \n"
     ]
    },
    {
     "name": "stdout",
     "output_type": "stream",
     "text": [
      "Epoch 69: Train Loss = 0.294485, Val Loss = 0.282355\n"
     ]
    },
    {
     "name": "stderr",
     "output_type": "stream",
     "text": [
      "Epoch 70/500: 100%|██████████| 995/995 [00:03<00:00, 277.49it/s, train_loss=0.123]  \n"
     ]
    },
    {
     "name": "stdout",
     "output_type": "stream",
     "text": [
      "Epoch 70: Train Loss = 0.290932, Val Loss = 0.286589\n"
     ]
    },
    {
     "name": "stderr",
     "output_type": "stream",
     "text": [
      "Epoch 71/500: 100%|██████████| 995/995 [00:04<00:00, 247.05it/s, train_loss=0.153]  \n"
     ]
    },
    {
     "name": "stdout",
     "output_type": "stream",
     "text": [
      "Epoch 71: Train Loss = 0.293117, Val Loss = 0.286008\n"
     ]
    },
    {
     "name": "stderr",
     "output_type": "stream",
     "text": [
      "Epoch 72/500: 100%|██████████| 995/995 [00:03<00:00, 276.12it/s, train_loss=0.349]  \n"
     ]
    },
    {
     "name": "stdout",
     "output_type": "stream",
     "text": [
      "Epoch 72: Train Loss = 0.290325, Val Loss = 0.290759\n"
     ]
    },
    {
     "name": "stderr",
     "output_type": "stream",
     "text": [
      "Epoch 73/500: 100%|██████████| 995/995 [00:03<00:00, 276.77it/s, train_loss=0.154] \n"
     ]
    },
    {
     "name": "stdout",
     "output_type": "stream",
     "text": [
      "Epoch 73: Train Loss = 0.288781, Val Loss = 0.300742\n"
     ]
    },
    {
     "name": "stderr",
     "output_type": "stream",
     "text": [
      "Epoch 74/500: 100%|██████████| 995/995 [00:03<00:00, 276.17it/s, train_loss=0.734]  \n"
     ]
    },
    {
     "name": "stdout",
     "output_type": "stream",
     "text": [
      "Epoch 74: Train Loss = 0.287048, Val Loss = 0.280233\n"
     ]
    },
    {
     "name": "stderr",
     "output_type": "stream",
     "text": [
      "Epoch 75/500: 100%|██████████| 995/995 [00:03<00:00, 277.70it/s, train_loss=0.386]  \n"
     ]
    },
    {
     "name": "stdout",
     "output_type": "stream",
     "text": [
      "Epoch 75: Train Loss = 0.288741, Val Loss = 0.285311\n"
     ]
    },
    {
     "name": "stderr",
     "output_type": "stream",
     "text": [
      "Epoch 76/500: 100%|██████████| 995/995 [00:03<00:00, 278.46it/s, train_loss=0.389]   \n"
     ]
    },
    {
     "name": "stdout",
     "output_type": "stream",
     "text": [
      "Epoch 76: Train Loss = 0.287781, Val Loss = 0.277798\n"
     ]
    },
    {
     "name": "stderr",
     "output_type": "stream",
     "text": [
      "Epoch 77/500: 100%|██████████| 995/995 [00:03<00:00, 276.09it/s, train_loss=0.32]   \n"
     ]
    },
    {
     "name": "stdout",
     "output_type": "stream",
     "text": [
      "Epoch 77: Train Loss = 0.284553, Val Loss = 0.293092\n"
     ]
    },
    {
     "name": "stderr",
     "output_type": "stream",
     "text": [
      "Epoch 78/500: 100%|██████████| 995/995 [00:03<00:00, 276.51it/s, train_loss=0.442]  \n"
     ]
    },
    {
     "name": "stdout",
     "output_type": "stream",
     "text": [
      "Epoch 78: Train Loss = 0.285440, Val Loss = 0.284750\n"
     ]
    },
    {
     "name": "stderr",
     "output_type": "stream",
     "text": [
      "Epoch 79/500: 100%|██████████| 995/995 [00:03<00:00, 276.15it/s, train_loss=0.0439] \n"
     ]
    },
    {
     "name": "stdout",
     "output_type": "stream",
     "text": [
      "Epoch 79: Train Loss = 0.285760, Val Loss = 0.282688\n"
     ]
    },
    {
     "name": "stderr",
     "output_type": "stream",
     "text": [
      "Epoch 80/500: 100%|██████████| 995/995 [00:03<00:00, 276.39it/s, train_loss=0.331] \n"
     ]
    },
    {
     "name": "stdout",
     "output_type": "stream",
     "text": [
      "Epoch 80: Train Loss = 0.284758, Val Loss = 0.282428\n"
     ]
    },
    {
     "name": "stderr",
     "output_type": "stream",
     "text": [
      "Epoch 81/500: 100%|██████████| 995/995 [00:03<00:00, 276.32it/s, train_loss=0.046]   \n"
     ]
    },
    {
     "name": "stdout",
     "output_type": "stream",
     "text": [
      "Epoch 81: Train Loss = 0.285347, Val Loss = 0.282406\n"
     ]
    },
    {
     "name": "stderr",
     "output_type": "stream",
     "text": [
      "Epoch 82/500: 100%|██████████| 995/995 [00:03<00:00, 276.94it/s, train_loss=0.373] \n"
     ]
    },
    {
     "name": "stdout",
     "output_type": "stream",
     "text": [
      "Epoch 82: Train Loss = 0.282184, Val Loss = 0.288647\n"
     ]
    },
    {
     "name": "stderr",
     "output_type": "stream",
     "text": [
      "Epoch 83/500: 100%|██████████| 995/995 [00:03<00:00, 275.68it/s, train_loss=0.315] \n"
     ]
    },
    {
     "name": "stdout",
     "output_type": "stream",
     "text": [
      "Epoch 83: Train Loss = 0.282565, Val Loss = 0.294521\n"
     ]
    },
    {
     "name": "stderr",
     "output_type": "stream",
     "text": [
      "Epoch 84/500: 100%|██████████| 995/995 [00:03<00:00, 276.29it/s, train_loss=0.347]   \n"
     ]
    },
    {
     "name": "stdout",
     "output_type": "stream",
     "text": [
      "Epoch 84: Train Loss = 0.283514, Val Loss = 0.284504\n"
     ]
    },
    {
     "name": "stderr",
     "output_type": "stream",
     "text": [
      "Epoch 85/500: 100%|██████████| 995/995 [00:03<00:00, 276.86it/s, train_loss=0.656] \n"
     ]
    },
    {
     "name": "stdout",
     "output_type": "stream",
     "text": [
      "Epoch 85: Train Loss = 0.284843, Val Loss = 0.284815\n"
     ]
    },
    {
     "name": "stderr",
     "output_type": "stream",
     "text": [
      "Epoch 86/500: 100%|██████████| 995/995 [00:03<00:00, 275.49it/s, train_loss=0.156]  \n"
     ]
    },
    {
     "name": "stdout",
     "output_type": "stream",
     "text": [
      "Epoch 86: Train Loss = 0.282345, Val Loss = 0.286468\n"
     ]
    },
    {
     "name": "stderr",
     "output_type": "stream",
     "text": [
      "Epoch 87/500: 100%|██████████| 995/995 [00:03<00:00, 276.52it/s, train_loss=0.169]  \n"
     ]
    },
    {
     "name": "stdout",
     "output_type": "stream",
     "text": [
      "Epoch 87: Train Loss = 0.281670, Val Loss = 0.282145\n"
     ]
    },
    {
     "name": "stderr",
     "output_type": "stream",
     "text": [
      "Epoch 88/500: 100%|██████████| 995/995 [00:03<00:00, 277.30it/s, train_loss=0.448]  \n"
     ]
    },
    {
     "name": "stdout",
     "output_type": "stream",
     "text": [
      "Epoch 88: Train Loss = 0.281379, Val Loss = 0.283812\n"
     ]
    },
    {
     "name": "stderr",
     "output_type": "stream",
     "text": [
      "Epoch 89/500: 100%|██████████| 995/995 [00:03<00:00, 276.63it/s, train_loss=0.446] \n"
     ]
    },
    {
     "name": "stdout",
     "output_type": "stream",
     "text": [
      "Epoch 89: Train Loss = 0.281279, Val Loss = 0.285965\n"
     ]
    },
    {
     "name": "stderr",
     "output_type": "stream",
     "text": [
      "Epoch 90/500: 100%|██████████| 995/995 [00:03<00:00, 276.55it/s, train_loss=0.416] \n"
     ]
    },
    {
     "name": "stdout",
     "output_type": "stream",
     "text": [
      "Epoch 90: Train Loss = 0.283344, Val Loss = 0.287134\n"
     ]
    },
    {
     "name": "stderr",
     "output_type": "stream",
     "text": [
      "Epoch 91/500: 100%|██████████| 995/995 [00:03<00:00, 276.47it/s, train_loss=0.132] \n"
     ]
    },
    {
     "name": "stdout",
     "output_type": "stream",
     "text": [
      "Epoch 91: Train Loss = 0.280624, Val Loss = 0.280577\n"
     ]
    },
    {
     "name": "stderr",
     "output_type": "stream",
     "text": [
      "Epoch 92/500: 100%|██████████| 995/995 [00:03<00:00, 276.11it/s, train_loss=0.817]  \n"
     ]
    },
    {
     "name": "stdout",
     "output_type": "stream",
     "text": [
      "Epoch 92: Train Loss = 0.281592, Val Loss = 0.291180\n"
     ]
    },
    {
     "name": "stderr",
     "output_type": "stream",
     "text": [
      "Epoch 93/500: 100%|██████████| 995/995 [00:03<00:00, 277.50it/s, train_loss=0.778] \n"
     ]
    },
    {
     "name": "stdout",
     "output_type": "stream",
     "text": [
      "Epoch 93: Train Loss = 0.280652, Val Loss = 0.278506\n"
     ]
    },
    {
     "name": "stderr",
     "output_type": "stream",
     "text": [
      "Epoch 94/500: 100%|██████████| 995/995 [00:03<00:00, 274.87it/s, train_loss=0.419]  \n"
     ]
    },
    {
     "name": "stdout",
     "output_type": "stream",
     "text": [
      "Epoch 94: Train Loss = 0.281690, Val Loss = 0.281484\n"
     ]
    },
    {
     "name": "stderr",
     "output_type": "stream",
     "text": [
      "Epoch 95/500: 100%|██████████| 995/995 [00:03<00:00, 275.94it/s, train_loss=0.443]  \n"
     ]
    },
    {
     "name": "stdout",
     "output_type": "stream",
     "text": [
      "Epoch 95: Train Loss = 0.279101, Val Loss = 0.284266\n"
     ]
    },
    {
     "name": "stderr",
     "output_type": "stream",
     "text": [
      "Epoch 96/500: 100%|██████████| 995/995 [00:03<00:00, 276.88it/s, train_loss=0.464]  \n"
     ]
    },
    {
     "name": "stdout",
     "output_type": "stream",
     "text": [
      "Epoch 96: Train Loss = 0.281049, Val Loss = 0.286863\n",
      "Early stopping triggered.\n"
     ]
    }
   ],
   "source": [
    "# model.load_state_dict(torch.load(\"best_model_08-18.pt\", map_location=device))\n",
    "\n",
    "EPOCHS = 500\n",
    "for epoch in range(EPOCHS):\n",
    "    model.train()\n",
    "    train_loss = 0\n",
    "    loop = tqdm(train_loader, desc=f\"Epoch {epoch+1}/{EPOCHS}\")\n",
    "    \n",
    "    for X, y in loop:\n",
    "        X, y = X.to(device), y.to(device)\n",
    "        optimizer.zero_grad()\n",
    "        pred = model(X)\n",
    "        loss = criterion(pred, y)\n",
    "        loss.backward()\n",
    "        optimizer.step()\n",
    "        train_loss += loss.item()\n",
    "        loop.set_postfix(train_loss=loss.item())\n",
    "\n",
    "    model.eval()\n",
    "    val_loss = 0\n",
    "    with torch.no_grad():\n",
    "        for X, y in val_loader:\n",
    "            X, y = X.to(device), y.to(device)\n",
    "            pred = model(X)\n",
    "            val_loss += criterion(pred, y).item()\n",
    "\n",
    "    val_loss /= len(val_loader)\n",
    "    print(f\"Epoch {epoch+1}: Train Loss = {train_loss/len(train_loader):.6f}, Val Loss = {val_loss:.6f}\")\n",
    "\n",
    "    if val_loss < best_loss:\n",
    "        best_loss = val_loss\n",
    "        trigger_times = 0\n",
    "        torch.save(model.state_dict(), \"best_model_08-18.pt\")\n",
    "    else:\n",
    "        trigger_times += 1\n",
    "        if trigger_times >= patience:\n",
    "            print(\"Early stopping triggered.\")\n",
    "            break\n"
   ]
  },
  {
   "cell_type": "markdown",
   "id": "0f0308ae",
   "metadata": {},
   "source": [
    "## Testing"
   ]
  },
  {
   "cell_type": "code",
   "execution_count": 50,
   "id": "05c49a1b",
   "metadata": {},
   "outputs": [
    {
     "name": "stdout",
     "output_type": "stream",
     "text": [
      "   Region       truckid Measurement_timestamp  Maintenance_flag  \\\n",
      "0       1  Truck_0021X1   2016-02-22 16:02:52                 0   \n",
      "1       1  Truck_0021X1   2016-02-22 16:02:54                 0   \n",
      "2       1  Truck_0021X1   2016-02-22 16:03:08                 0   \n",
      "3       1  Truck_0021X1   2016-02-22 16:03:09                 0   \n",
      "4       1  Truck_0021X1   2016-02-22 16:03:12                 0   \n",
      "\n",
      "   Prediction_Prob  Prediction_Label  \n",
      "0         0.002819                 0  \n",
      "1         0.004143                 0  \n",
      "2         0.007117                 0  \n",
      "3         0.008088                 0  \n",
      "4         0.007732                 0  \n",
      "\n",
      "Confusion Matrix:\n",
      "[[1007  148]\n",
      " [  15  264]]\n",
      "\n",
      "Classification Metrics:\n",
      "  Accuracy:  0.8863\n",
      "  Precision: 0.6408\n",
      "  Recall:    0.9462\n",
      "  F1 Score:  0.7641\n",
      "  ROC AUC:   0.9396\n"
     ]
    },
    {
     "data": {
      "image/png": "[encoded data removed]",
      "text/plain": [
       "<Figure size 600x500 with 1 Axes>"
      ]
     },
     "metadata": {},
     "output_type": "display_data"
    }
   ],
   "source": [
    "# --- Inference and DataFrame creation ---\n",
    "from sklearn.metrics import confusion_matrix, accuracy_score, precision_score, recall_score, f1_score, roc_auc_score\n",
    "\n",
    "model.load_state_dict(torch.load(\"best_model_08-18.pt\", map_location=device))\n",
    "model.eval()\n",
    "\n",
    "threshold = 0.5\n",
    "\n",
    "results = []\n",
    "all_true = []\n",
    "all_pred = []\n",
    "all_probs = []\n",
    "\n",
    "with torch.no_grad():\n",
    "    for X_batch, y_batch, meta_batch in test_loader:\n",
    "        X_batch = X_batch.to(device)\n",
    "        probs = model(X_batch)\n",
    "        preds = (probs >= 0.5).int()\n",
    "\n",
    "        for prob, pred, y_true, meta in zip(probs, preds, y_batch.numpy(), meta_batch):\n",
    "            results.append({\n",
    "                \"Region\": meta[\"Region\"],\n",
    "                \"truckid\": meta[\"truckid\"],\n",
    "                \"Measurement_timestamp\": meta[\"Measurement_timestamp\"],\n",
    "                \"Maintenance_flag\": int(y_true),\n",
    "                \"Prediction_Prob\": float(prob),\n",
    "                \"Prediction_Label\": int(pred)\n",
    "            })\n",
    "            all_true.append(int(y_true))\n",
    "            all_pred.append(int(pred))\n",
    "            all_probs.append(float(prob))\n",
    "\n",
    "# --- Create result DataFrame ---\n",
    "result_df = pd.DataFrame(results)\n",
    "print(result_df.head())\n",
    "result_df.to_csv(\"lstm_test_predictions.csv\", index=False)\n",
    "\n",
    "# --- Compute Metrics ---\n",
    "conf_matrix = confusion_matrix(all_true, all_pred)\n",
    "accuracy = accuracy_score(all_true, all_pred)\n",
    "precision = precision_score(all_true, all_pred, zero_division=0)\n",
    "recall = recall_score(all_true, all_pred, zero_division=0)\n",
    "f1 = f1_score(all_true, all_pred, zero_division=0)\n",
    "try:\n",
    "    roc_auc = roc_auc_score(all_true, all_probs)\n",
    "except:\n",
    "    roc_auc = None\n",
    "\n",
    "# --- Display Results ---\n",
    "print(\"\\nConfusion Matrix:\")\n",
    "print(conf_matrix)\n",
    "print(\"\\nClassification Metrics:\")\n",
    "print(f\"  Accuracy:  {accuracy:.4f}\")\n",
    "print(f\"  Precision: {precision:.4f}\")\n",
    "print(f\"  Recall:    {recall:.4f}\")\n",
    "print(f\"  F1 Score:  {f1:.4f}\")\n",
    "if roc_auc is not None:\n",
    "    print(f\"  ROC AUC:   {roc_auc:.4f}\")\n",
    "else:\n",
    "    print(\"  ROC AUC:   Not computable (only one class in y_true)\")\n",
    "\n",
    "import seaborn as sns\n",
    "import matplotlib.pyplot as plt\n",
    "\n",
    "# --- Visualize Confusion Matrix ---\n",
    "plt.figure(figsize=(6, 5))\n",
    "sns.heatmap(conf_matrix, annot=True, fmt='d', cmap='Blues', cbar=False,\n",
    "            xticklabels=[\"Predicted 0\", \"Predicted 1\"],\n",
    "            yticklabels=[\"Actual 0\", \"Actual 1\"])\n",
    "plt.title(\"Confusion Matrix\")\n",
    "plt.ylabel(\"True Label\")\n",
    "plt.xlabel(\"Predicted Label\")\n",
    "plt.tight_layout()\n",
    "\n",
    "# Save the figure\n",
    "plt.savefig(\"lstm_confusion_matrix.png\")\n",
    "plt.show()\n"
   ]
  },
  {
   "cell_type": "markdown",
   "id": "02d9f4ff",
   "metadata": {},
   "source": [
    "## Agentic AI"
   ]
  },
  {
   "cell_type": "code",
   "execution_count": 17,
   "id": "6f8a2160",
   "metadata": {},
   "outputs": [
    {
     "ename": "RuntimeError",
     "evalue": "Error(s) in loading state_dict for LSTMModel:\n\tMissing key(s) in state_dict: \"lstm_layers.0.weight_ih_l0_reverse\", \"lstm_layers.0.weight_hh_l0_reverse\", \"lstm_layers.0.bias_ih_l0_reverse\", \"lstm_layers.0.bias_hh_l0_reverse\", \"lstm_layers.1.weight_ih_l0_reverse\", \"lstm_layers.1.weight_hh_l0_reverse\", \"lstm_layers.1.bias_ih_l0_reverse\", \"lstm_layers.1.bias_hh_l0_reverse\", \"lstm_layers.2.weight_ih_l0_reverse\", \"lstm_layers.2.weight_hh_l0_reverse\", \"lstm_layers.2.bias_ih_l0_reverse\", \"lstm_layers.2.bias_hh_l0_reverse\". \n\tsize mismatch for lstm_layers.1.weight_ih_l0: copying a param with shape torch.Size([400, 200]) from checkpoint, the shape in current model is torch.Size([400, 400]).\n\tsize mismatch for lstm_layers.2.weight_ih_l0: copying a param with shape torch.Size([200, 100]) from checkpoint, the shape in current model is torch.Size([200, 200]).\n\tsize mismatch for fc.weight: copying a param with shape torch.Size([1, 50]) from checkpoint, the shape in current model is torch.Size([1, 100]).",
     "output_type": "error",
     "traceback": [
      "\u001b[31m---------------------------------------------------------------------------\u001b[39m",
      "\u001b[31mRuntimeError\u001b[39m                              Traceback (most recent call last)",
      "\u001b[36mCell\u001b[39m\u001b[36m \u001b[39m\u001b[32mIn[17]\u001b[39m\u001b[32m, line 23\u001b[39m\n\u001b[32m     20\u001b[39m device = torch.device(\u001b[33m\"\u001b[39m\u001b[33mcuda\u001b[39m\u001b[33m\"\u001b[39m \u001b[38;5;28;01mif\u001b[39;00m torch.cuda.is_available() \u001b[38;5;28;01melse\u001b[39;00m \u001b[33m\"\u001b[39m\u001b[33mcpu\u001b[39m\u001b[33m\"\u001b[39m)\n\u001b[32m     22\u001b[39m model = LSTMModel(input_size=\u001b[38;5;28mlen\u001b[39m(features), hidden_sizes=[\u001b[32m200\u001b[39m, \u001b[32m100\u001b[39m, \u001b[32m50\u001b[39m], dropout=\u001b[32m0.3\u001b[39m).to(device)\n\u001b[32m---> \u001b[39m\u001b[32m23\u001b[39m \u001b[43mmodel\u001b[49m\u001b[43m.\u001b[49m\u001b[43mload_state_dict\u001b[49m\u001b[43m(\u001b[49m\u001b[43mtorch\u001b[49m\u001b[43m.\u001b[49m\u001b[43mload\u001b[49m\u001b[43m(\u001b[49m\u001b[33;43m\"\u001b[39;49m\u001b[33;43mbest_model.pt\u001b[39;49m\u001b[33;43m\"\u001b[39;49m\u001b[43m,\u001b[49m\u001b[43m \u001b[49m\u001b[43mmap_location\u001b[49m\u001b[43m=\u001b[49m\u001b[43mdevice\u001b[49m\u001b[43m)\u001b[49m\u001b[43m)\u001b[49m\n\u001b[32m     24\u001b[39m model.eval()\n\u001b[32m     26\u001b[39m scaler = joblib.load(\u001b[33m\"\u001b[39m\u001b[33mscaler.save\u001b[39m\u001b[33m\"\u001b[39m)\n",
      "\u001b[36mFile \u001b[39m\u001b[32m~/miniconda3/envs/ai_agent/lib/python3.11/site-packages/torch/nn/modules/module.py:2624\u001b[39m, in \u001b[36mModule.load_state_dict\u001b[39m\u001b[34m(self, state_dict, strict, assign)\u001b[39m\n\u001b[32m   2616\u001b[39m         error_msgs.insert(\n\u001b[32m   2617\u001b[39m             \u001b[32m0\u001b[39m,\n\u001b[32m   2618\u001b[39m             \u001b[33m\"\u001b[39m\u001b[33mMissing key(s) in state_dict: \u001b[39m\u001b[38;5;132;01m{}\u001b[39;00m\u001b[33m. \u001b[39m\u001b[33m\"\u001b[39m.format(\n\u001b[32m   2619\u001b[39m                 \u001b[33m\"\u001b[39m\u001b[33m, \u001b[39m\u001b[33m\"\u001b[39m.join(\u001b[33mf\u001b[39m\u001b[33m'\u001b[39m\u001b[33m\"\u001b[39m\u001b[38;5;132;01m{\u001b[39;00mk\u001b[38;5;132;01m}\u001b[39;00m\u001b[33m\"\u001b[39m\u001b[33m'\u001b[39m \u001b[38;5;28;01mfor\u001b[39;00m k \u001b[38;5;129;01min\u001b[39;00m missing_keys)\n\u001b[32m   2620\u001b[39m             ),\n\u001b[32m   2621\u001b[39m         )\n\u001b[32m   2623\u001b[39m \u001b[38;5;28;01mif\u001b[39;00m \u001b[38;5;28mlen\u001b[39m(error_msgs) > \u001b[32m0\u001b[39m:\n\u001b[32m-> \u001b[39m\u001b[32m2624\u001b[39m     \u001b[38;5;28;01mraise\u001b[39;00m \u001b[38;5;167;01mRuntimeError\u001b[39;00m(\n\u001b[32m   2625\u001b[39m         \u001b[33m\"\u001b[39m\u001b[33mError(s) in loading state_dict for \u001b[39m\u001b[38;5;132;01m{}\u001b[39;00m\u001b[33m:\u001b[39m\u001b[38;5;130;01m\\n\u001b[39;00m\u001b[38;5;130;01m\\t\u001b[39;00m\u001b[38;5;132;01m{}\u001b[39;00m\u001b[33m\"\u001b[39m.format(\n\u001b[32m   2626\u001b[39m             \u001b[38;5;28mself\u001b[39m.\u001b[34m__class__\u001b[39m.\u001b[34m__name__\u001b[39m, \u001b[33m\"\u001b[39m\u001b[38;5;130;01m\\n\u001b[39;00m\u001b[38;5;130;01m\\t\u001b[39;00m\u001b[33m\"\u001b[39m.join(error_msgs)\n\u001b[32m   2627\u001b[39m         )\n\u001b[32m   2628\u001b[39m     )\n\u001b[32m   2629\u001b[39m \u001b[38;5;28;01mreturn\u001b[39;00m _IncompatibleKeys(missing_keys, unexpected_keys)\n",
      "\u001b[31mRuntimeError\u001b[39m: Error(s) in loading state_dict for LSTMModel:\n\tMissing key(s) in state_dict: \"lstm_layers.0.weight_ih_l0_reverse\", \"lstm_layers.0.weight_hh_l0_reverse\", \"lstm_layers.0.bias_ih_l0_reverse\", \"lstm_layers.0.bias_hh_l0_reverse\", \"lstm_layers.1.weight_ih_l0_reverse\", \"lstm_layers.1.weight_hh_l0_reverse\", \"lstm_layers.1.bias_ih_l0_reverse\", \"lstm_layers.1.bias_hh_l0_reverse\", \"lstm_layers.2.weight_ih_l0_reverse\", \"lstm_layers.2.weight_hh_l0_reverse\", \"lstm_layers.2.bias_ih_l0_reverse\", \"lstm_layers.2.bias_hh_l0_reverse\". \n\tsize mismatch for lstm_layers.1.weight_ih_l0: copying a param with shape torch.Size([400, 200]) from checkpoint, the shape in current model is torch.Size([400, 400]).\n\tsize mismatch for lstm_layers.2.weight_ih_l0: copying a param with shape torch.Size([200, 100]) from checkpoint, the shape in current model is torch.Size([200, 200]).\n\tsize mismatch for fc.weight: copying a param with shape torch.Size([1, 50]) from checkpoint, the shape in current model is torch.Size([1, 100])."
     ]
    }
   ],
   "source": [
    "from langgraph.graph import StateGraph, END\n",
    "from typing import TypedDict\n",
    "import pandas as pd\n",
    "import torch\n",
    "import joblib\n",
    "\n",
    "# -----------------------------\n",
    "# Constants & model loading\n",
    "# -----------------------------\n",
    "features = [\n",
    "    \"Vehicle_speed_sensor\", \"Vibration\", \"Engine_Load\", \"Engine_Coolant_Temp\",\n",
    "    \"Intake_Manifold_Pressure\", \"Engine_RPM\", \"Speed_OBD\", \"Intake_Air_Temp\",\n",
    "    \"Mass_Air_Flow_Rate\", \"Throttle_Pos_Manifold\", \"Voltage_Control_Module\",\n",
    "    \"Ambient_air_temp\", \"Accel_Pedal_Pos_D\", \"Engine_Oil_Temp\", \"Speed_GPS\",\n",
    "    \"Turbo_Boost_And_Vcm_Gauge\", \"Trip_Distance\", \"Litres_Per_100km_Inst\",\n",
    "    \"Accel_Ssor_Total\", \"CO2_in_g_per_km_Inst\", \"Trip_Time_journey\"\n",
    "]\n",
    "SEQUENCE_LENGTH = 10\n",
    "\n",
    "device = torch.device(\"cuda\" if torch.cuda.is_available() else \"cpu\")\n",
    "\n",
    "model = LSTMModel(input_size=len(features), hidden_sizes=[200, 100, 50], dropout=0.3).to(device)\n",
    "model.load_state_dict(torch.load(\"best_model.pt\", map_location=device))\n",
    "model.eval()\n",
    "\n",
    "scaler = joblib.load(\"scaler.save\")\n",
    "\n",
    "# -----------------------------\n",
    "# State definition\n",
    "# -----------------------------\n",
    "class MaintenanceState(TypedDict):\n",
    "    fleetid: str\n",
    "    truckid: str\n",
    "    region: str\n",
    "    new_reading: dict\n",
    "    X_seq: torch.Tensor\n",
    "    prob: float\n",
    "    maintenance_needed: bool\n",
    "\n",
    "# -----------------------------\n",
    "# Tool 1: Get new reading\n",
    "# -----------------------------\n",
    "def get_new_sensor_reading(state: MaintenanceState):\n",
    "    \"\"\"\n",
    "    Simulate getting new sensor readings from the truck.\n",
    "    \"\"\"\n",
    "    state[\"new_reading\"] = {\n",
    "        \"Measurement_timestamp\": \"22FEB16:17:55:52\",\n",
    "        \"Vehicle_speed_sensor\": 26,\n",
    "        \"Vibration\": 249.689536,\n",
    "        \"Engine_Load\": 31.764706,\n",
    "        \"Engine_Coolant_Temp\": 87,\n",
    "        \"Intake_Manifold_Pressure\": 118,\n",
    "        \"Engine_RPM\": 1129,\n",
    "        \"Speed_OBD\": 26,\n",
    "        \"Intake_Air_Temp\": 17,\n",
    "        \"Mass_Air_Flow_Rate\": 19.02,\n",
    "        \"Throttle_Pos_Manifold\": 45.09804,\n",
    "        \"Voltage_Control_Module\": 14.28,\n",
    "        \"Ambient_air_temp\": 6,\n",
    "        \"Accel_Pedal_Pos_D\": 14.901961,\n",
    "        \"Engine_Oil_Temp\": 83,\n",
    "        \"Speed_GPS\": 27.578842,\n",
    "        \"Turbo_Boost_And_Vcm_Gauge\": 8.550445794,\n",
    "        \"Trip_Distance\": 49.66853177,\n",
    "        \"Litres_Per_100km_Inst\": 21.3,\n",
    "        \"Accel_Ssor_Total\": 156,\n",
    "        \"CO2_in_g_per_km_Inst\": 3.045792,\n",
    "        \"Trip_Time_journey\": 289.88788,\n",
    "        \"fleetid\": state[\"fleetid\"],\n",
    "        \"truckid\": state[\"truckid\"],\n",
    "        \"Region\": state[\"region\"]\n",
    "    }\n",
    "    return state\n",
    "\n",
    "# -----------------------------\n",
    "# Tool 2: Prepare data\n",
    "# -----------------------------\n",
    "def prepare_data(state: MaintenanceState):\n",
    "    \"\"\"\n",
    "    Load past data, append the new reading, scale features, and prepare sequence.\n",
    "    \"\"\"\n",
    "    df = pd.read_csv(\"fleet_monitor_notscored_2.csv\")\n",
    "    df[\"Measurement_timestamp\"] = pd.to_datetime(df[\"Measurement_timestamp\"], format=\"%d%b%y:%H:%M:%S\")\n",
    "\n",
    "    # Filter historical readings\n",
    "    df = df[\n",
    "        (df[\"fleetid\"] == state[\"fleetid\"]) &\n",
    "        (df[\"Region\"] == state[\"region\"]) &\n",
    "        (df[\"truckid\"] == state[\"truckid\"])\n",
    "    ]\n",
    "\n",
    "    # Append new reading\n",
    "    new_df = pd.DataFrame([state[\"new_reading\"]])\n",
    "    new_df[\"Measurement_timestamp\"] = pd.to_datetime(new_df[\"Measurement_timestamp\"], format=\"%d%b%y:%H:%M:%S\")\n",
    "    df = pd.concat([df, new_df], ignore_index=True)\n",
    "\n",
    "    # Sort by timestamp\n",
    "    df = df.sort_values(by=\"Measurement_timestamp\")\n",
    "\n",
    "    # Check sequence length\n",
    "    if len(df) < SEQUENCE_LENGTH:\n",
    "        raise ValueError(f\"Not enough data for truck {state['truckid']} in {state['region']}.\")\n",
    "\n",
    "    # Scale features\n",
    "    df[features] = scaler.transform(df[features])\n",
    "\n",
    "    # Prepare sequence for model\n",
    "    seq_data = df[features].tail(SEQUENCE_LENGTH).values\n",
    "    state[\"X_seq\"] = torch.tensor(seq_data, dtype=torch.float32).unsqueeze(0).to(device)\n",
    "\n",
    "    return state\n",
    "\n",
    "# -----------------------------\n",
    "# Tool 3: Run prediction\n",
    "# -----------------------------\n",
    "def run_prediction(state: MaintenanceState):\n",
    "    with torch.no_grad():\n",
    "        prob = model(state[\"X_seq\"]).item()\n",
    "    state[\"prob\"] = prob\n",
    "    state[\"maintenance_needed\"] = prob >= 0.5\n",
    "    return state\n",
    "\n",
    "# -----------------------------\n",
    "# Tool 4: Store new reading\n",
    "# -----------------------------\n",
    "def store_new_reading(state: MaintenanceState):\n",
    "    print(f\"✅ New reading for truck {state['truckid']} stored in database (simulated).\")\n",
    "    return state\n",
    "\n",
    "\n",
    "\n",
    "# -----------------------------\n",
    "# Build LangGraph\n",
    "# -----------------------------\n",
    "graph = StateGraph(MaintenanceState)\n",
    "\n",
    "graph.add_node(\"get_new_sensor_reading\", get_new_sensor_reading)\n",
    "graph.add_node(\"prepare_data\", prepare_data)\n",
    "graph.add_node(\"run_prediction\", run_prediction)\n",
    "graph.add_node(\"store_new_reading\", store_new_reading)\n",
    "\n",
    "# Define flow\n",
    "graph.set_entry_point(\"get_new_sensor_reading\")\n",
    "graph.add_edge(\"get_new_sensor_reading\", \"prepare_data\")\n",
    "graph.add_edge(\"prepare_data\", \"run_prediction\")\n",
    "graph.add_edge(\"run_prediction\", \"store_new_reading\")\n",
    "graph.add_edge(\"store_new_reading\", END)\n",
    "\n",
    "agent = graph.compile()\n",
    "\n",
    "\n"
   ]
  },
  {
   "cell_type": "code",
   "execution_count": null,
   "id": "144708bb",
   "metadata": {},
   "outputs": [
    {
     "name": "stdout",
     "output_type": "stream",
     "text": [
      "✅ New reading for truck Truck_0051X1 stored in database (simulated).\n",
      "Truck Truck_0051X1 in region 1: Needs Maintenance (prob=0.82)\n"
     ]
    }
   ],
   "source": [
    "# -----------------------------\n",
    "# Example usage\n",
    "# -----------------------------\n",
    "result = agent.invoke({\n",
    "    \"fleetid\": \"Fleet_00513F1\",\n",
    "    \"truckid\": \"Truck_0051X1\",\n",
    "    \"region\": 1\n",
    "})\n",
    "\n",
    "print(f\"Truck {result['truckid']} in region {result['region']}: \"\n",
    "      f\"{'Needs Maintenance' if result['maintenance_needed'] else 'OK'} \"\n",
    "      f\"(prob={result['prob']:.2f})\")"
   ]
  }
 ],
 "metadata": {
  "kernelspec": {
   "display_name": "ai_agent",
   "language": "python",
   "name": "python3"
  },
  "language_info": {
   "codemirror_mode": {
    "name": "ipython",
    "version": 3
   },
   "file_extension": ".py",
   "mimetype": "text/x-python",
   "name": "python",
   "nbconvert_exporter": "python",
   "pygments_lexer": "ipython3",
   "version": "3.11.13"
  }
 },
 "nbformat": 4,
 "nbformat_minor": 5
}
