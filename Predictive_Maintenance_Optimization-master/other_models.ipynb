{
 "cells": [
  {
   "cell_type": "markdown",
   "id": "0f405ad6",
   "metadata": {},
   "source": [
    "## Import Modules"
   ]
  },
  {
   "cell_type": "code",
<<<<<<< HEAD
   "execution_count": 1,
=======
   "execution_count": 20,
>>>>>>> ac4ea98 (added ipynb notebook of lstm model)
   "id": "80f16129",
   "metadata": {},
   "outputs": [],
   "source": [
    "import numpy as np\n",
    "import pandas as pd\n",
    "from sklearn.preprocessing import MinMaxScaler\n",
    "from sklearn.model_selection import train_test_split\n",
    "from imblearn.over_sampling import SMOTE\n",
    "from torch.utils.data import Dataset, DataLoader, TensorDataset\n",
    "import torch\n",
    "import torch.nn as nn\n",
    "import torch.optim as optim\n",
    "from tqdm import tqdm\n",
    "import joblib"
   ]
  },
  {
   "cell_type": "markdown",
   "id": "8066bfa6",
   "metadata": {},
   "source": [
    "## Load and Preprocess Data"
   ]
  },
  {
   "cell_type": "code",
<<<<<<< HEAD
   "execution_count": 2,
=======
   "execution_count": 21,
>>>>>>> ac4ea98 (added ipynb notebook of lstm model)
   "id": "eb501976",
   "metadata": {},
   "outputs": [
    {
     "data": {
      "text/plain": [
       "['scaler.save']"
      ]
     },
<<<<<<< HEAD
     "execution_count": 2,
=======
     "execution_count": 21,
>>>>>>> ac4ea98 (added ipynb notebook of lstm model)
     "metadata": {},
     "output_type": "execute_result"
    }
   ],
   "source": [
    "# Load and preprocess\n",
    "df = pd.read_csv(\"fleet_train.csv\")\n",
    "df[\"Measurement_timestamp\"] = pd.to_datetime(df[\"Measurement_timestamp\"], format=\"%d%b%y:%H:%M:%S\")\n",
    "df = df.sort_values(by=[\"Region\", \"truckid\", \"Measurement_timestamp\"]).reset_index(drop=True)\n",
    "\n",
    "# --- Load and preprocess test data ---\n",
    "df_test = pd.read_csv(\"fleet_monitor_notscored_2.csv\")  # <-- Update as needed\n",
    "df_test[\"Measurement_timestamp\"] = pd.to_datetime(df_test[\"Measurement_timestamp\"], format=\"%d%b%y:%H:%M:%S\")\n",
    "df_test = df_test.sort_values(by=[\"Region\", \"truckid\", \"Measurement_timestamp\"]).reset_index(drop=True)\n",
    "\n",
    "# Sensor features\n",
    "features = [\n",
    "    \"Vehicle_speed_sensor\", \"Vibration\", \"Engine_Load\", \"Engine_Coolant_Temp\", \"Intake_Manifold_Pressure\",\n",
    "    \"Engine_RPM\", \"Speed_OBD\", \"Intake_Air_Temp\", \"Mass_Air_Flow_Rate\", \"Throttle_Pos_Manifold\",\n",
    "    \"Voltage_Control_Module\", \"Ambient_air_temp\", \"Accel_Pedal_Pos_D\", \"Engine_Oil_Temp\", \"Speed_GPS\",\n",
    "    \"Turbo_Boost_And_Vcm_Gauge\", \"Trip_Distance\", \"Litres_Per_100km_Inst\", \"Accel_Ssor_Total\",\n",
    "    \"CO2_in_g_per_km_Inst\", \"Trip_Time_journey\"\n",
    "]\n",
    "\n",
    "# Normalize\n",
    "scaler = MinMaxScaler()\n",
    "df[features] = scaler.fit_transform(df[features])\n",
    "df_test[features] = scaler.fit_transform(df_test[features])\n",
    "joblib.dump(scaler, \"scaler.save\")"
   ]
  },
  {
   "cell_type": "markdown",
   "id": "448a74a9",
   "metadata": {},
   "source": [
    "## Apply SMOTE"
   ]
  },
  {
   "cell_type": "code",
<<<<<<< HEAD
   "execution_count": 3,
=======
   "execution_count": 35,
>>>>>>> ac4ea98 (added ipynb notebook of lstm model)
   "id": "e5520c41",
   "metadata": {},
   "outputs": [],
   "source": [
    "# Sequence extraction\n",
    "SEQUENCE_LENGTH = 10\n",
    "X_seq, y_seq = [], []\n",
    "\n",
    "for _, group in df.groupby([\"Region\", \"truckid\"]):\n",
    "    if len(group) < SEQUENCE_LENGTH:\n",
    "        continue\n",
    "    X = group[features].values\n",
    "    y = group[\"Maintenance_flag\"].values\n",
    "    for i in range(len(X) - SEQUENCE_LENGTH):\n",
    "        X_seq.append(X[i:i+SEQUENCE_LENGTH])\n",
    "        y_seq.append(y[i+SEQUENCE_LENGTH])\n",
    "\n",
    "X_seq = np.array(X_seq)\n",
    "y_seq = np.array(y_seq)\n",
    "\n",
    "# Flatten for SMOTE\n",
    "X_seq_flat = X_seq.reshape(X_seq.shape[0], -1)\n",
    "\n",
    "# Train-val split before applying SMOTE\n",
    "X_train, X_val, y_train, y_val = train_test_split(X_seq_flat, y_seq, test_size=0.2, stratify=y_seq, random_state=42)\n",
    "\n",
    "# Apply SMOTE\n",
    "smote = SMOTE(random_state=42)\n",
    "X_train_resampled, y_train_resampled = smote.fit_resample(X_train, y_train)\n",
    "\n",
    "# Reshape back to (batch, sequence, features)\n",
    "X_train_resampled = X_train_resampled.reshape(-1, SEQUENCE_LENGTH, len(features))\n",
    "\n",
    "# Convert to tensors and loaders\n",
    "train_dataset = TensorDataset(torch.tensor(X_train_resampled, dtype=torch.float32),\n",
    "                              torch.tensor(y_train_resampled, dtype=torch.float32))\n",
    "val_dataset = TensorDataset(torch.tensor(X_val.reshape(-1, SEQUENCE_LENGTH, len(features)), dtype=torch.float32),\n",
    "                            torch.tensor(y_val, dtype=torch.float32))\n",
    "\n",
    "train_loader = DataLoader(train_dataset, batch_size=8, shuffle=True)\n",
    "val_loader = DataLoader(val_dataset, batch_size=8)"
   ]
  },
  {
   "cell_type": "code",
<<<<<<< HEAD
   "execution_count": 4,
=======
   "execution_count": 36,
>>>>>>> ac4ea98 (added ipynb notebook of lstm model)
   "id": "c849c7d7",
   "metadata": {},
   "outputs": [],
   "source": [
    "# --- Test Dataset with extra metadata for output ---\n",
    "class FleetTestDataset(Dataset):\n",
    "    def __init__(self, df, features, seq_len):\n",
    "        self.sequences = []\n",
    "        self.labels = []\n",
    "        self.meta = []  # to store Region, truckid, timestamp\n",
    "        for _, group in df.groupby([\"Region\", \"truckid\"]):\n",
    "            if len(group) < seq_len:\n",
    "                continue\n",
    "            X = group[features].values\n",
    "            y = group[\"Maintenance_flag\"].values\n",
    "            ts = group[\"Measurement_timestamp\"].values\n",
    "            for i in range(len(X) - seq_len):\n",
    "                self.sequences.append(X[i:i+seq_len])\n",
    "                self.labels.append(y[i+seq_len])\n",
    "                self.meta.append({\n",
    "                    \"Region\": group[\"Region\"].iloc[i+seq_len],\n",
    "                    \"truckid\": group[\"truckid\"].iloc[i+seq_len],\n",
    "                    \"Measurement_timestamp\": str(group[\"Measurement_timestamp\"].iloc[i+seq_len])  # convert to string\n",
    "                })\n",
    "\n",
    "\n",
    "    def __len__(self):\n",
    "        return len(self.sequences)\n",
    "\n",
    "    def __getitem__(self, idx):\n",
    "        x = torch.tensor(self.sequences[idx], dtype=torch.float32)\n",
    "        y = torch.tensor(self.labels[idx], dtype=torch.float32)\n",
    "        return x, y, self.meta[idx]\n",
    "    \n",
    "def custom_collate_fn(batch):\n",
    "    xs, ys, metas = zip(*batch)\n",
    "    xs = torch.stack(xs)\n",
    "    ys = torch.stack(ys)\n",
    "    return xs, ys, metas  # metas stays as a list of dicts\n",
    "\n",
    "\n",
    "test_dataset = FleetTestDataset(df_test, features, SEQUENCE_LENGTH)\n",
    "test_loader = DataLoader(test_dataset, batch_size=8, collate_fn=custom_collate_fn)"
   ]
  },
  {
   "cell_type": "markdown",
   "id": "bcb39ed6",
   "metadata": {},
   "source": [
    "## LSTM Model"
   ]
  },
  {
   "cell_type": "code",
<<<<<<< HEAD
   "execution_count": 5,
=======
   "execution_count": 37,
>>>>>>> ac4ea98 (added ipynb notebook of lstm model)
   "id": "ff4eb6c8",
   "metadata": {},
   "outputs": [],
   "source": [
    "# Model\n",
    "class LSTMModel(nn.Module):\n",
    "    def __init__(self, input_size, hidden_sizes=[100, 50], dropout=0.2):\n",
    "        super().__init__()\n",
    "        self.lstm_layers = nn.ModuleList()\n",
    "        self.dropout_layers = nn.ModuleList()\n",
    "\n",
    "        self.lstm_layers.append(nn.LSTM(input_size=input_size, hidden_size=hidden_sizes[0], batch_first=True))\n",
    "        self.dropout_layers.append(nn.Dropout(dropout))\n",
    "\n",
    "        for i in range(1, len(hidden_sizes)):\n",
    "            self.lstm_layers.append(\n",
    "                nn.LSTM(input_size=hidden_sizes[i-1], hidden_size=hidden_sizes[i], batch_first=True)\n",
    "            )\n",
    "            self.dropout_layers.append(nn.Dropout(dropout))\n",
    "\n",
    "        self.fc = nn.Linear(hidden_sizes[-1], 1)\n",
    "        self.sigmoid = nn.Sigmoid()\n",
    "\n",
    "    def forward(self, x):\n",
    "        for lstm, dropout in zip(self.lstm_layers, self.dropout_layers):\n",
    "            x, _ = lstm(x)\n",
    "            x = dropout(x)\n",
    "\n",
    "        last_out = x[:, -1, :]\n",
    "        out = self.fc(last_out)\n",
    "        return self.sigmoid(out).squeeze()"
   ]
  },
  {
   "cell_type": "markdown",
   "id": "049a669d",
   "metadata": {},
   "source": [
    "## Training"
   ]
  },
  {
   "cell_type": "code",
<<<<<<< HEAD
   "execution_count": 6,
=======
   "execution_count": 38,
>>>>>>> ac4ea98 (added ipynb notebook of lstm model)
   "id": "2e218e61",
   "metadata": {},
   "outputs": [],
   "source": [
    "# Training setup\n",
    "device = torch.device(\"cuda\" if torch.cuda.is_available() else \"cpu\")\n",
    "model = LSTMModel(input_size=len(features), hidden_sizes=[200, 100, 50], dropout=0.3).to(device)\n",
    "# model.load_state_dict(torch.load(\"best_model.pt\", map_location=device))\n",
    "criterion = nn.BCELoss()\n",
    "optimizer = optim.Adam(model.parameters(), lr=1e-4)\n",
    "\n",
    "# Early stopping\n",
    "best_loss = np.inf\n",
<<<<<<< HEAD
    "patience = 40\n",
=======
    "patience = 10\n",
>>>>>>> ac4ea98 (added ipynb notebook of lstm model)
    "trigger_times = 0"
   ]
  },
  {
   "cell_type": "code",
<<<<<<< HEAD
   "execution_count": 7,
=======
   "execution_count": 39,
>>>>>>> ac4ea98 (added ipynb notebook of lstm model)
   "id": "a30dac53",
   "metadata": {},
   "outputs": [
    {
     "name": "stderr",
     "output_type": "stream",
     "text": [
<<<<<<< HEAD
      "Epoch 1/100: 100%|██████████| 1106/1106 [00:05<00:00, 187.31it/s, train_loss=0.821]\n"
=======
      "Epoch 1/100: 100%|██████████| 1106/1106 [00:55<00:00, 20.01it/s, train_loss=1.15] \n"
>>>>>>> ac4ea98 (added ipynb notebook of lstm model)
     ]
    },
    {
     "name": "stdout",
     "output_type": "stream",
     "text": [
<<<<<<< HEAD
      "Epoch 1: Train Loss = 0.5691, Val Loss = 0.5554\n"
=======
      "Epoch 1: Train Loss = 0.5562, Val Loss = 0.5265\n"
>>>>>>> ac4ea98 (added ipynb notebook of lstm model)
     ]
    },
    {
     "name": "stderr",
     "output_type": "stream",
     "text": [
<<<<<<< HEAD
      "Epoch 2/100: 100%|██████████| 1106/1106 [00:05<00:00, 188.01it/s, train_loss=0.49] \n"
=======
      "Epoch 2/100: 100%|██████████| 1106/1106 [00:59<00:00, 18.50it/s, train_loss=0.124] \n"
>>>>>>> ac4ea98 (added ipynb notebook of lstm model)
     ]
    },
    {
     "name": "stdout",
     "output_type": "stream",
     "text": [
<<<<<<< HEAD
      "Epoch 2: Train Loss = 0.4930, Val Loss = 0.4333\n"
=======
      "Epoch 2: Train Loss = 0.4461, Val Loss = 0.3867\n"
>>>>>>> ac4ea98 (added ipynb notebook of lstm model)
     ]
    },
    {
     "name": "stderr",
     "output_type": "stream",
     "text": [
<<<<<<< HEAD
      "Epoch 3/100: 100%|██████████| 1106/1106 [00:06<00:00, 182.10it/s, train_loss=0.372] \n"
=======
      "Epoch 3/100: 100%|██████████| 1106/1106 [01:02<00:00, 17.77it/s, train_loss=0.671] \n"
>>>>>>> ac4ea98 (added ipynb notebook of lstm model)
     ]
    },
    {
     "name": "stdout",
     "output_type": "stream",
     "text": [
<<<<<<< HEAD
      "Epoch 3: Train Loss = 0.4144, Val Loss = 0.3543\n"
=======
      "Epoch 3: Train Loss = 0.3892, Val Loss = 0.3636\n"
>>>>>>> ac4ea98 (added ipynb notebook of lstm model)
     ]
    },
    {
     "name": "stderr",
     "output_type": "stream",
     "text": [
<<<<<<< HEAD
      "Epoch 4/100: 100%|██████████| 1106/1106 [00:05<00:00, 189.39it/s, train_loss=0.607] \n"
=======
      "Epoch 4/100: 100%|██████████| 1106/1106 [00:49<00:00, 22.30it/s, train_loss=0.0203]\n"
>>>>>>> ac4ea98 (added ipynb notebook of lstm model)
     ]
    },
    {
     "name": "stdout",
     "output_type": "stream",
     "text": [
<<<<<<< HEAD
      "Epoch 4: Train Loss = 0.3816, Val Loss = 0.3361\n"
=======
      "Epoch 4: Train Loss = 0.3700, Val Loss = 0.3229\n"
>>>>>>> ac4ea98 (added ipynb notebook of lstm model)
     ]
    },
    {
     "name": "stderr",
     "output_type": "stream",
     "text": [
<<<<<<< HEAD
      "Epoch 5/100: 100%|██████████| 1106/1106 [00:05<00:00, 188.83it/s, train_loss=0.0222]\n"
=======
      "Epoch 5/100: 100%|██████████| 1106/1106 [00:40<00:00, 27.57it/s, train_loss=0.0912]\n"
>>>>>>> ac4ea98 (added ipynb notebook of lstm model)
     ]
    },
    {
     "name": "stdout",
     "output_type": "stream",
     "text": [
<<<<<<< HEAD
      "Epoch 5: Train Loss = 0.3507, Val Loss = 0.3265\n"
=======
      "Epoch 5: Train Loss = 0.3634, Val Loss = 0.3541\n"
>>>>>>> ac4ea98 (added ipynb notebook of lstm model)
     ]
    },
    {
     "name": "stderr",
     "output_type": "stream",
     "text": [
<<<<<<< HEAD
      "Epoch 6/100: 100%|██████████| 1106/1106 [00:05<00:00, 191.79it/s, train_loss=0.113] \n"
=======
      "Epoch 6/100: 100%|██████████| 1106/1106 [00:42<00:00, 26.31it/s, train_loss=0.277] \n"
>>>>>>> ac4ea98 (added ipynb notebook of lstm model)
     ]
    },
    {
     "name": "stdout",
     "output_type": "stream",
     "text": [
<<<<<<< HEAD
      "Epoch 6: Train Loss = 0.3255, Val Loss = 0.2996\n"
=======
      "Epoch 6: Train Loss = 0.3415, Val Loss = 0.2978\n"
>>>>>>> ac4ea98 (added ipynb notebook of lstm model)
     ]
    },
    {
     "name": "stderr",
     "output_type": "stream",
     "text": [
<<<<<<< HEAD
      "Epoch 7/100: 100%|██████████| 1106/1106 [00:05<00:00, 193.43it/s, train_loss=0.2]   \n"
=======
      "Epoch 7/100: 100%|██████████| 1106/1106 [00:45<00:00, 24.56it/s, train_loss=0.0753]\n"
>>>>>>> ac4ea98 (added ipynb notebook of lstm model)
     ]
    },
    {
     "name": "stdout",
     "output_type": "stream",
     "text": [
<<<<<<< HEAD
      "Epoch 7: Train Loss = 0.3176, Val Loss = 0.2963\n"
=======
      "Epoch 7: Train Loss = 0.3191, Val Loss = 0.3052\n"
>>>>>>> ac4ea98 (added ipynb notebook of lstm model)
     ]
    },
    {
     "name": "stderr",
     "output_type": "stream",
     "text": [
<<<<<<< HEAD
      "Epoch 8/100: 100%|██████████| 1106/1106 [00:05<00:00, 190.79it/s, train_loss=0.2]   \n"
=======
      "Epoch 8/100: 100%|██████████| 1106/1106 [00:44<00:00, 24.81it/s, train_loss=0.261] \n"
>>>>>>> ac4ea98 (added ipynb notebook of lstm model)
     ]
    },
    {
     "name": "stdout",
     "output_type": "stream",
     "text": [
<<<<<<< HEAD
      "Epoch 8: Train Loss = 0.3106, Val Loss = 0.3108\n"
=======
      "Epoch 8: Train Loss = 0.3117, Val Loss = 0.3214\n"
>>>>>>> ac4ea98 (added ipynb notebook of lstm model)
     ]
    },
    {
     "name": "stderr",
     "output_type": "stream",
     "text": [
<<<<<<< HEAD
      "Epoch 9/100: 100%|██████████| 1106/1106 [00:05<00:00, 187.86it/s, train_loss=0.079] \n"
=======
      "Epoch 9/100: 100%|██████████| 1106/1106 [00:40<00:00, 27.26it/s, train_loss=0.187] \n"
>>>>>>> ac4ea98 (added ipynb notebook of lstm model)
     ]
    },
    {
     "name": "stdout",
     "output_type": "stream",
     "text": [
<<<<<<< HEAD
      "Epoch 9: Train Loss = 0.3077, Val Loss = 0.3802\n"
=======
      "Epoch 9: Train Loss = 0.3119, Val Loss = 0.2913\n"
>>>>>>> ac4ea98 (added ipynb notebook of lstm model)
     ]
    },
    {
     "name": "stderr",
     "output_type": "stream",
     "text": [
<<<<<<< HEAD
      "Epoch 10/100: 100%|██████████| 1106/1106 [00:05<00:00, 189.13it/s, train_loss=0.947] \n"
=======
      "Epoch 10/100: 100%|██████████| 1106/1106 [00:41<00:00, 26.94it/s, train_loss=0.0937]\n"
>>>>>>> ac4ea98 (added ipynb notebook of lstm model)
     ]
    },
    {
     "name": "stdout",
     "output_type": "stream",
     "text": [
<<<<<<< HEAD
      "Epoch 10: Train Loss = 0.3056, Val Loss = 0.3067\n"
=======
      "Epoch 10: Train Loss = 0.3041, Val Loss = 0.3166\n"
>>>>>>> ac4ea98 (added ipynb notebook of lstm model)
     ]
    },
    {
     "name": "stderr",
     "output_type": "stream",
     "text": [
<<<<<<< HEAD
      "Epoch 11/100: 100%|██████████| 1106/1106 [00:05<00:00, 189.39it/s, train_loss=0.171] \n"
=======
      "Epoch 11/100: 100%|██████████| 1106/1106 [00:41<00:00, 26.52it/s, train_loss=0.214] \n"
>>>>>>> ac4ea98 (added ipynb notebook of lstm model)
     ]
    },
    {
     "name": "stdout",
     "output_type": "stream",
     "text": [
<<<<<<< HEAD
      "Epoch 11: Train Loss = 0.3028, Val Loss = 0.2920\n"
=======
      "Epoch 11: Train Loss = 0.3015, Val Loss = 0.3226\n"
>>>>>>> ac4ea98 (added ipynb notebook of lstm model)
     ]
    },
    {
     "name": "stderr",
     "output_type": "stream",
     "text": [
<<<<<<< HEAD
      "Epoch 12/100: 100%|██████████| 1106/1106 [00:05<00:00, 188.96it/s, train_loss=1]     \n"
=======
      "Epoch 12/100: 100%|██████████| 1106/1106 [00:56<00:00, 19.44it/s, train_loss=0.00518]\n"
>>>>>>> ac4ea98 (added ipynb notebook of lstm model)
     ]
    },
    {
     "name": "stdout",
     "output_type": "stream",
     "text": [
<<<<<<< HEAD
      "Epoch 12: Train Loss = 0.2964, Val Loss = 0.3142\n"
=======
      "Epoch 12: Train Loss = 0.3006, Val Loss = 0.2957\n"
>>>>>>> ac4ea98 (added ipynb notebook of lstm model)
     ]
    },
    {
     "name": "stderr",
     "output_type": "stream",
     "text": [
<<<<<<< HEAD
      "Epoch 13/100: 100%|██████████| 1106/1106 [00:05<00:00, 189.34it/s, train_loss=0.1]   \n"
=======
      "Epoch 13/100: 100%|██████████| 1106/1106 [01:04<00:00, 17.14it/s, train_loss=0.0988]\n"
>>>>>>> ac4ea98 (added ipynb notebook of lstm model)
     ]
    },
    {
     "name": "stdout",
     "output_type": "stream",
     "text": [
<<<<<<< HEAD
      "Epoch 13: Train Loss = 0.3021, Val Loss = 0.3197\n"
=======
      "Epoch 13: Train Loss = 0.3026, Val Loss = 0.2975\n"
>>>>>>> ac4ea98 (added ipynb notebook of lstm model)
     ]
    },
    {
     "name": "stderr",
     "output_type": "stream",
     "text": [
<<<<<<< HEAD
      "Epoch 14/100: 100%|██████████| 1106/1106 [00:05<00:00, 191.55it/s, train_loss=1]     \n"
=======
      "Epoch 14/100: 100%|██████████| 1106/1106 [01:01<00:00, 17.87it/s, train_loss=0.138] \n"
>>>>>>> ac4ea98 (added ipynb notebook of lstm model)
     ]
    },
    {
     "name": "stdout",
     "output_type": "stream",
     "text": [
<<<<<<< HEAD
      "Epoch 14: Train Loss = 0.2965, Val Loss = 0.3290\n"
=======
      "Epoch 14: Train Loss = 0.2989, Val Loss = 0.3197\n"
>>>>>>> ac4ea98 (added ipynb notebook of lstm model)
     ]
    },
    {
     "name": "stderr",
     "output_type": "stream",
     "text": [
<<<<<<< HEAD
      "Epoch 15/100: 100%|██████████| 1106/1106 [00:05<00:00, 192.69it/s, train_loss=0.0895]\n"
=======
      "Epoch 15/100: 100%|██████████| 1106/1106 [00:55<00:00, 19.98it/s, train_loss=0.0725]\n"
>>>>>>> ac4ea98 (added ipynb notebook of lstm model)
     ]
    },
    {
     "name": "stdout",
     "output_type": "stream",
     "text": [
<<<<<<< HEAD
      "Epoch 15: Train Loss = 0.2920, Val Loss = 0.3502\n"
=======
      "Epoch 15: Train Loss = 0.2938, Val Loss = 0.3441\n"
>>>>>>> ac4ea98 (added ipynb notebook of lstm model)
     ]
    },
    {
     "name": "stderr",
     "output_type": "stream",
     "text": [
<<<<<<< HEAD
      "Epoch 16/100: 100%|██████████| 1106/1106 [00:05<00:00, 194.68it/s, train_loss=0.0763]\n"
=======
      "Epoch 16/100: 100%|██████████| 1106/1106 [00:42<00:00, 26.15it/s, train_loss=0.125] \n"
>>>>>>> ac4ea98 (added ipynb notebook of lstm model)
     ]
    },
    {
     "name": "stdout",
     "output_type": "stream",
     "text": [
<<<<<<< HEAD
      "Epoch 16: Train Loss = 0.2920, Val Loss = 0.3046\n"
=======
      "Epoch 16: Train Loss = 0.2942, Val Loss = 0.3603\n"
>>>>>>> ac4ea98 (added ipynb notebook of lstm model)
     ]
    },
    {
     "name": "stderr",
     "output_type": "stream",
     "text": [
<<<<<<< HEAD
      "Epoch 17/100: 100%|██████████| 1106/1106 [00:05<00:00, 192.87it/s, train_loss=0.717] \n"
=======
      "Epoch 17/100: 100%|██████████| 1106/1106 [01:01<00:00, 17.87it/s, train_loss=0.106] \n"
>>>>>>> ac4ea98 (added ipynb notebook of lstm model)
     ]
    },
    {
     "name": "stdout",
     "output_type": "stream",
     "text": [
<<<<<<< HEAD
      "Epoch 17: Train Loss = 0.2914, Val Loss = 0.2982\n"
=======
      "Epoch 17: Train Loss = 0.2913, Val Loss = 0.3002\n"
>>>>>>> ac4ea98 (added ipynb notebook of lstm model)
     ]
    },
    {
     "name": "stderr",
     "output_type": "stream",
     "text": [
<<<<<<< HEAD
      "Epoch 18/100: 100%|██████████| 1106/1106 [00:05<00:00, 194.24it/s, train_loss=0.0722]\n"
=======
      "Epoch 18/100: 100%|██████████| 1106/1106 [01:00<00:00, 18.22it/s, train_loss=0.157] \n"
>>>>>>> ac4ea98 (added ipynb notebook of lstm model)
     ]
    },
    {
     "name": "stdout",
     "output_type": "stream",
     "text": [
<<<<<<< HEAD
      "Epoch 18: Train Loss = 0.2882, Val Loss = 0.3116\n"
=======
      "Epoch 18: Train Loss = 0.2893, Val Loss = 0.3315\n"
>>>>>>> ac4ea98 (added ipynb notebook of lstm model)
     ]
    },
    {
     "name": "stderr",
     "output_type": "stream",
     "text": [
<<<<<<< HEAD
      "Epoch 19/100: 100%|██████████| 1106/1106 [00:05<00:00, 193.37it/s, train_loss=0.0505]\n"
=======
      "Epoch 19/100: 100%|██████████| 1106/1106 [00:51<00:00, 21.41it/s, train_loss=0.0878]\n"
>>>>>>> ac4ea98 (added ipynb notebook of lstm model)
     ]
    },
    {
     "name": "stdout",
     "output_type": "stream",
     "text": [
<<<<<<< HEAD
      "Epoch 19: Train Loss = 0.2890, Val Loss = 0.3149\n"
     ]
    },
    {
     "name": "stderr",
     "output_type": "stream",
     "text": [
      "Epoch 20/100: 100%|██████████| 1106/1106 [00:05<00:00, 192.61it/s, train_loss=0.000546]\n"
     ]
    },
    {
     "name": "stdout",
     "output_type": "stream",
     "text": [
      "Epoch 20: Train Loss = 0.2888, Val Loss = 0.3196\n"
     ]
    },
    {
     "name": "stderr",
     "output_type": "stream",
     "text": [
      "Epoch 21/100: 100%|██████████| 1106/1106 [00:05<00:00, 192.90it/s, train_loss=0.156] \n"
     ]
    },
    {
     "name": "stdout",
     "output_type": "stream",
     "text": [
      "Epoch 21: Train Loss = 0.2887, Val Loss = 0.3099\n"
     ]
    },
    {
     "name": "stderr",
     "output_type": "stream",
     "text": [
      "Epoch 22/100: 100%|██████████| 1106/1106 [00:05<00:00, 193.38it/s, train_loss=0.242] \n"
     ]
    },
    {
     "name": "stdout",
     "output_type": "stream",
     "text": [
      "Epoch 22: Train Loss = 0.2870, Val Loss = 0.2996\n"
     ]
    },
    {
     "name": "stderr",
     "output_type": "stream",
     "text": [
      "Epoch 23/100: 100%|██████████| 1106/1106 [00:05<00:00, 189.16it/s, train_loss=0.11]  \n"
     ]
    },
    {
     "name": "stdout",
     "output_type": "stream",
     "text": [
      "Epoch 23: Train Loss = 0.2849, Val Loss = 0.3084\n"
     ]
    },
    {
     "name": "stderr",
     "output_type": "stream",
     "text": [
      "Epoch 24/100: 100%|██████████| 1106/1106 [00:05<00:00, 193.70it/s, train_loss=1.07]  \n"
     ]
    },
    {
     "name": "stdout",
     "output_type": "stream",
     "text": [
      "Epoch 24: Train Loss = 0.2847, Val Loss = 0.3035\n"
     ]
    },
    {
     "name": "stderr",
     "output_type": "stream",
     "text": [
      "Epoch 25/100: 100%|██████████| 1106/1106 [00:05<00:00, 191.55it/s, train_loss=0.111] \n"
     ]
    },
    {
     "name": "stdout",
     "output_type": "stream",
     "text": [
      "Epoch 25: Train Loss = 0.2829, Val Loss = 0.3049\n"
     ]
    },
    {
     "name": "stderr",
     "output_type": "stream",
     "text": [
      "Epoch 26/100: 100%|██████████| 1106/1106 [00:05<00:00, 190.25it/s, train_loss=0.000486]\n"
     ]
    },
    {
     "name": "stdout",
     "output_type": "stream",
     "text": [
      "Epoch 26: Train Loss = 0.2816, Val Loss = 0.3002\n"
     ]
    },
    {
     "name": "stderr",
     "output_type": "stream",
     "text": [
      "Epoch 27/100: 100%|██████████| 1106/1106 [00:05<00:00, 192.34it/s, train_loss=0.19]  \n"
     ]
    },
    {
     "name": "stdout",
     "output_type": "stream",
     "text": [
      "Epoch 27: Train Loss = 0.2830, Val Loss = 0.3163\n"
     ]
    },
    {
     "name": "stderr",
     "output_type": "stream",
     "text": [
      "Epoch 28/100: 100%|██████████| 1106/1106 [00:05<00:00, 190.89it/s, train_loss=1.01]  \n"
     ]
    },
    {
     "name": "stdout",
     "output_type": "stream",
     "text": [
      "Epoch 28: Train Loss = 0.2830, Val Loss = 0.3027\n"
     ]
    },
    {
     "name": "stderr",
     "output_type": "stream",
     "text": [
      "Epoch 29/100: 100%|██████████| 1106/1106 [00:05<00:00, 190.70it/s, train_loss=0.0794]\n"
     ]
    },
    {
     "name": "stdout",
     "output_type": "stream",
     "text": [
      "Epoch 29: Train Loss = 0.2785, Val Loss = 0.3078\n"
     ]
    },
    {
     "name": "stderr",
     "output_type": "stream",
     "text": [
      "Epoch 30/100: 100%|██████████| 1106/1106 [00:05<00:00, 188.79it/s, train_loss=0.202] \n"
     ]
    },
    {
     "name": "stdout",
     "output_type": "stream",
     "text": [
      "Epoch 30: Train Loss = 0.2824, Val Loss = 0.2889\n"
     ]
    },
    {
     "name": "stderr",
     "output_type": "stream",
     "text": [
      "Epoch 31/100: 100%|██████████| 1106/1106 [00:05<00:00, 189.96it/s, train_loss=0.0927] \n"
     ]
    },
    {
     "name": "stdout",
     "output_type": "stream",
     "text": [
      "Epoch 31: Train Loss = 0.2792, Val Loss = 0.3086\n"
     ]
    },
    {
     "name": "stderr",
     "output_type": "stream",
     "text": [
      "Epoch 32/100: 100%|██████████| 1106/1106 [00:05<00:00, 192.19it/s, train_loss=0.266] \n"
     ]
    },
    {
     "name": "stdout",
     "output_type": "stream",
     "text": [
      "Epoch 32: Train Loss = 0.2789, Val Loss = 0.2972\n"
     ]
    },
    {
     "name": "stderr",
     "output_type": "stream",
     "text": [
      "Epoch 33/100: 100%|██████████| 1106/1106 [00:05<00:00, 192.28it/s, train_loss=0.0725]\n"
     ]
    },
    {
     "name": "stdout",
     "output_type": "stream",
     "text": [
      "Epoch 33: Train Loss = 0.2760, Val Loss = 0.3067\n"
     ]
    },
    {
     "name": "stderr",
     "output_type": "stream",
     "text": [
      "Epoch 34/100: 100%|██████████| 1106/1106 [00:05<00:00, 192.14it/s, train_loss=0.0746]\n"
     ]
    },
    {
     "name": "stdout",
     "output_type": "stream",
     "text": [
      "Epoch 34: Train Loss = 0.2766, Val Loss = 0.2910\n"
     ]
    },
    {
     "name": "stderr",
     "output_type": "stream",
     "text": [
      "Epoch 35/100: 100%|██████████| 1106/1106 [00:05<00:00, 192.39it/s, train_loss=1.04]   \n"
     ]
    },
    {
     "name": "stdout",
     "output_type": "stream",
     "text": [
      "Epoch 35: Train Loss = 0.2784, Val Loss = 0.2900\n"
     ]
    },
    {
     "name": "stderr",
     "output_type": "stream",
     "text": [
      "Epoch 36/100: 100%|██████████| 1106/1106 [00:05<00:00, 192.03it/s, train_loss=0.855] \n"
     ]
    },
    {
     "name": "stdout",
     "output_type": "stream",
     "text": [
      "Epoch 36: Train Loss = 0.2745, Val Loss = 0.2831\n"
     ]
    },
    {
     "name": "stderr",
     "output_type": "stream",
     "text": [
      "Epoch 37/100: 100%|██████████| 1106/1106 [00:05<00:00, 188.72it/s, train_loss=0.157] \n"
     ]
    },
    {
     "name": "stdout",
     "output_type": "stream",
     "text": [
      "Epoch 37: Train Loss = 0.2775, Val Loss = 0.2876\n"
     ]
    },
    {
     "name": "stderr",
     "output_type": "stream",
     "text": [
      "Epoch 38/100: 100%|██████████| 1106/1106 [00:05<00:00, 193.48it/s, train_loss=0.109] \n"
     ]
    },
    {
     "name": "stdout",
     "output_type": "stream",
     "text": [
      "Epoch 38: Train Loss = 0.2751, Val Loss = 0.2893\n"
     ]
    },
    {
     "name": "stderr",
     "output_type": "stream",
     "text": [
      "Epoch 39/100: 100%|██████████| 1106/1106 [00:05<00:00, 189.88it/s, train_loss=1.1]   \n"
     ]
    },
    {
     "name": "stdout",
     "output_type": "stream",
     "text": [
      "Epoch 39: Train Loss = 0.2737, Val Loss = 0.2989\n"
     ]
    },
    {
     "name": "stderr",
     "output_type": "stream",
     "text": [
      "Epoch 40/100: 100%|██████████| 1106/1106 [00:05<00:00, 189.71it/s, train_loss=0.00106]\n"
     ]
    },
    {
     "name": "stdout",
     "output_type": "stream",
     "text": [
      "Epoch 40: Train Loss = 0.2739, Val Loss = 0.2969\n"
     ]
    },
    {
     "name": "stderr",
     "output_type": "stream",
     "text": [
      "Epoch 41/100: 100%|██████████| 1106/1106 [00:05<00:00, 192.46it/s, train_loss=0.0903] \n"
     ]
    },
    {
     "name": "stdout",
     "output_type": "stream",
     "text": [
      "Epoch 41: Train Loss = 0.2731, Val Loss = 0.2955\n"
     ]
    },
    {
     "name": "stderr",
     "output_type": "stream",
     "text": [
      "Epoch 42/100: 100%|██████████| 1106/1106 [00:05<00:00, 193.53it/s, train_loss=0.456] \n"
     ]
    },
    {
     "name": "stdout",
     "output_type": "stream",
     "text": [
      "Epoch 42: Train Loss = 0.2765, Val Loss = 0.2950\n"
     ]
    },
    {
     "name": "stderr",
     "output_type": "stream",
     "text": [
      "Epoch 43/100: 100%|██████████| 1106/1106 [00:05<00:00, 192.50it/s, train_loss=0.151] \n"
     ]
    },
    {
     "name": "stdout",
     "output_type": "stream",
     "text": [
      "Epoch 43: Train Loss = 0.2713, Val Loss = 0.2898\n"
     ]
    },
    {
     "name": "stderr",
     "output_type": "stream",
     "text": [
      "Epoch 44/100: 100%|██████████| 1106/1106 [00:05<00:00, 189.76it/s, train_loss=0.197]  \n"
     ]
    },
    {
     "name": "stdout",
     "output_type": "stream",
     "text": [
      "Epoch 44: Train Loss = 0.2723, Val Loss = 0.3378\n"
     ]
    },
    {
     "name": "stderr",
     "output_type": "stream",
     "text": [
      "Epoch 45/100: 100%|██████████| 1106/1106 [00:05<00:00, 193.46it/s, train_loss=0.0896]\n"
     ]
    },
    {
     "name": "stdout",
     "output_type": "stream",
     "text": [
      "Epoch 45: Train Loss = 0.2730, Val Loss = 0.3035\n"
     ]
    },
    {
     "name": "stderr",
     "output_type": "stream",
     "text": [
      "Epoch 46/100: 100%|██████████| 1106/1106 [00:05<00:00, 193.13it/s, train_loss=3.03]  \n"
     ]
    },
    {
     "name": "stdout",
     "output_type": "stream",
     "text": [
      "Epoch 46: Train Loss = 0.2727, Val Loss = 0.2889\n"
     ]
    },
    {
     "name": "stderr",
     "output_type": "stream",
     "text": [
      "Epoch 47/100: 100%|██████████| 1106/1106 [00:05<00:00, 193.07it/s, train_loss=0.161]  \n"
     ]
    },
    {
     "name": "stdout",
     "output_type": "stream",
     "text": [
      "Epoch 47: Train Loss = 0.2756, Val Loss = 0.2933\n"
     ]
    },
    {
     "name": "stderr",
     "output_type": "stream",
     "text": [
      "Epoch 48/100: 100%|██████████| 1106/1106 [00:05<00:00, 190.36it/s, train_loss=0.186]   \n"
     ]
    },
    {
     "name": "stdout",
     "output_type": "stream",
     "text": [
      "Epoch 48: Train Loss = 0.2705, Val Loss = 0.3066\n"
     ]
    },
    {
     "name": "stderr",
     "output_type": "stream",
     "text": [
      "Epoch 49/100: 100%|██████████| 1106/1106 [00:05<00:00, 189.77it/s, train_loss=0.151] \n"
     ]
    },
    {
     "name": "stdout",
     "output_type": "stream",
     "text": [
      "Epoch 49: Train Loss = 0.2703, Val Loss = 0.2933\n"
     ]
    },
    {
     "name": "stderr",
     "output_type": "stream",
     "text": [
      "Epoch 50/100: 100%|██████████| 1106/1106 [00:05<00:00, 193.38it/s, train_loss=0.0722]\n"
     ]
    },
    {
     "name": "stdout",
     "output_type": "stream",
     "text": [
      "Epoch 50: Train Loss = 0.2675, Val Loss = 0.2950\n"
     ]
    },
    {
     "name": "stderr",
     "output_type": "stream",
     "text": [
      "Epoch 51/100: 100%|██████████| 1106/1106 [00:05<00:00, 190.27it/s, train_loss=0.000234]\n"
     ]
    },
    {
     "name": "stdout",
     "output_type": "stream",
     "text": [
      "Epoch 51: Train Loss = 0.2726, Val Loss = 0.2953\n"
     ]
    },
    {
     "name": "stderr",
     "output_type": "stream",
     "text": [
      "Epoch 52/100: 100%|██████████| 1106/1106 [00:05<00:00, 192.41it/s, train_loss=0.96]  \n"
     ]
    },
    {
     "name": "stdout",
     "output_type": "stream",
     "text": [
      "Epoch 52: Train Loss = 0.2700, Val Loss = 0.3001\n"
     ]
    },
    {
     "name": "stderr",
     "output_type": "stream",
     "text": [
      "Epoch 53/100: 100%|██████████| 1106/1106 [00:05<00:00, 190.47it/s, train_loss=0.096] \n"
     ]
    },
    {
     "name": "stdout",
     "output_type": "stream",
     "text": [
      "Epoch 53: Train Loss = 0.2691, Val Loss = 0.2981\n"
     ]
    },
    {
     "name": "stderr",
     "output_type": "stream",
     "text": [
      "Epoch 54/100: 100%|██████████| 1106/1106 [00:05<00:00, 189.57it/s, train_loss=0.779] \n"
     ]
    },
    {
     "name": "stdout",
     "output_type": "stream",
     "text": [
      "Epoch 54: Train Loss = 0.2692, Val Loss = 0.3093\n"
     ]
    },
    {
     "name": "stderr",
     "output_type": "stream",
     "text": [
      "Epoch 55/100: 100%|██████████| 1106/1106 [00:05<00:00, 188.01it/s, train_loss=0.114]  \n"
     ]
    },
    {
     "name": "stdout",
     "output_type": "stream",
     "text": [
      "Epoch 55: Train Loss = 0.2692, Val Loss = 0.2947\n"
     ]
    },
    {
     "name": "stderr",
     "output_type": "stream",
     "text": [
      "Epoch 56/100: 100%|██████████| 1106/1106 [00:05<00:00, 194.59it/s, train_loss=0.0941]\n"
     ]
    },
    {
     "name": "stdout",
     "output_type": "stream",
     "text": [
      "Epoch 56: Train Loss = 0.2689, Val Loss = 0.2868\n"
     ]
    },
    {
     "name": "stderr",
     "output_type": "stream",
     "text": [
      "Epoch 57/100: 100%|██████████| 1106/1106 [00:05<00:00, 193.10it/s, train_loss=0.000319]\n"
     ]
    },
    {
     "name": "stdout",
     "output_type": "stream",
     "text": [
      "Epoch 57: Train Loss = 0.2688, Val Loss = 0.2865\n"
     ]
    },
    {
     "name": "stderr",
     "output_type": "stream",
     "text": [
      "Epoch 58/100: 100%|██████████| 1106/1106 [00:05<00:00, 190.12it/s, train_loss=0.0915]\n"
     ]
    },
    {
     "name": "stdout",
     "output_type": "stream",
     "text": [
      "Epoch 58: Train Loss = 0.2694, Val Loss = 0.3057\n"
     ]
    },
    {
     "name": "stderr",
     "output_type": "stream",
     "text": [
      "Epoch 59/100: 100%|██████████| 1106/1106 [00:05<00:00, 194.18it/s, train_loss=0.0652]\n"
     ]
    },
    {
     "name": "stdout",
     "output_type": "stream",
     "text": [
      "Epoch 59: Train Loss = 0.2670, Val Loss = 0.2966\n"
     ]
    },
    {
     "name": "stderr",
     "output_type": "stream",
     "text": [
      "Epoch 60/100: 100%|██████████| 1106/1106 [00:05<00:00, 192.73it/s, train_loss=0.0789]\n"
     ]
    },
    {
     "name": "stdout",
     "output_type": "stream",
     "text": [
      "Epoch 60: Train Loss = 0.2660, Val Loss = 0.2855\n"
     ]
    },
    {
     "name": "stderr",
     "output_type": "stream",
     "text": [
      "Epoch 61/100: 100%|██████████| 1106/1106 [00:05<00:00, 188.66it/s, train_loss=0.000614]\n"
     ]
    },
    {
     "name": "stdout",
     "output_type": "stream",
     "text": [
      "Epoch 61: Train Loss = 0.2665, Val Loss = 0.2895\n"
     ]
    },
    {
     "name": "stderr",
     "output_type": "stream",
     "text": [
      "Epoch 62/100: 100%|██████████| 1106/1106 [00:05<00:00, 193.04it/s, train_loss=0.226] \n"
     ]
    },
    {
     "name": "stdout",
     "output_type": "stream",
     "text": [
      "Epoch 62: Train Loss = 0.2678, Val Loss = 0.2936\n"
     ]
    },
    {
     "name": "stderr",
     "output_type": "stream",
     "text": [
      "Epoch 63/100: 100%|██████████| 1106/1106 [00:05<00:00, 190.72it/s, train_loss=1.06]  \n"
     ]
    },
    {
     "name": "stdout",
     "output_type": "stream",
     "text": [
      "Epoch 63: Train Loss = 0.2685, Val Loss = 0.2962\n"
     ]
    },
    {
     "name": "stderr",
     "output_type": "stream",
     "text": [
      "Epoch 64/100: 100%|██████████| 1106/1106 [00:05<00:00, 192.65it/s, train_loss=0.0721]\n"
     ]
    },
    {
     "name": "stdout",
     "output_type": "stream",
     "text": [
      "Epoch 64: Train Loss = 0.2668, Val Loss = 0.2973\n"
     ]
    },
    {
     "name": "stderr",
     "output_type": "stream",
     "text": [
      "Epoch 65/100: 100%|██████████| 1106/1106 [00:05<00:00, 192.07it/s, train_loss=0.0582]  \n"
     ]
    },
    {
     "name": "stdout",
     "output_type": "stream",
     "text": [
      "Epoch 65: Train Loss = 0.2668, Val Loss = 0.2978\n"
     ]
    },
    {
     "name": "stderr",
     "output_type": "stream",
     "text": [
      "Epoch 66/100: 100%|██████████| 1106/1106 [00:05<00:00, 189.97it/s, train_loss=0.103]  \n"
     ]
    },
    {
     "name": "stdout",
     "output_type": "stream",
     "text": [
      "Epoch 66: Train Loss = 0.2681, Val Loss = 0.2862\n"
     ]
    },
    {
     "name": "stderr",
     "output_type": "stream",
     "text": [
      "Epoch 67/100: 100%|██████████| 1106/1106 [00:05<00:00, 189.11it/s, train_loss=1.01]  \n"
     ]
    },
    {
     "name": "stdout",
     "output_type": "stream",
     "text": [
      "Epoch 67: Train Loss = 0.2654, Val Loss = 0.3043\n"
     ]
    },
    {
     "name": "stderr",
     "output_type": "stream",
     "text": [
      "Epoch 68/100: 100%|██████████| 1106/1106 [00:05<00:00, 191.47it/s, train_loss=0.893] \n"
     ]
    },
    {
     "name": "stdout",
     "output_type": "stream",
     "text": [
      "Epoch 68: Train Loss = 0.2662, Val Loss = 0.2983\n"
     ]
    },
    {
     "name": "stderr",
     "output_type": "stream",
     "text": [
      "Epoch 69/100: 100%|██████████| 1106/1106 [00:05<00:00, 193.03it/s, train_loss=0.17]  \n"
     ]
    },
    {
     "name": "stdout",
     "output_type": "stream",
     "text": [
      "Epoch 69: Train Loss = 0.2651, Val Loss = 0.2916\n"
     ]
    },
    {
     "name": "stderr",
     "output_type": "stream",
     "text": [
      "Epoch 70/100: 100%|██████████| 1106/1106 [00:05<00:00, 195.14it/s, train_loss=0.966]  \n"
     ]
    },
    {
     "name": "stdout",
     "output_type": "stream",
     "text": [
      "Epoch 70: Train Loss = 0.2668, Val Loss = 0.3030\n"
     ]
    },
    {
     "name": "stderr",
     "output_type": "stream",
     "text": [
      "Epoch 71/100: 100%|██████████| 1106/1106 [00:05<00:00, 190.59it/s, train_loss=0.0984] \n"
     ]
    },
    {
     "name": "stdout",
     "output_type": "stream",
     "text": [
      "Epoch 71: Train Loss = 0.2647, Val Loss = 0.3038\n"
     ]
    },
    {
     "name": "stderr",
     "output_type": "stream",
     "text": [
      "Epoch 72/100: 100%|██████████| 1106/1106 [00:05<00:00, 187.82it/s, train_loss=0.158] \n"
     ]
    },
    {
     "name": "stdout",
     "output_type": "stream",
     "text": [
      "Epoch 72: Train Loss = 0.2654, Val Loss = 0.2880\n"
     ]
    },
    {
     "name": "stderr",
     "output_type": "stream",
     "text": [
      "Epoch 73/100: 100%|██████████| 1106/1106 [00:05<00:00, 190.42it/s, train_loss=0.0728]\n"
     ]
    },
    {
     "name": "stdout",
     "output_type": "stream",
     "text": [
      "Epoch 73: Train Loss = 0.2664, Val Loss = 0.3046\n"
     ]
    },
    {
     "name": "stderr",
     "output_type": "stream",
     "text": [
      "Epoch 74/100: 100%|██████████| 1106/1106 [00:05<00:00, 190.31it/s, train_loss=0.0557]\n"
     ]
    },
    {
     "name": "stdout",
     "output_type": "stream",
     "text": [
      "Epoch 74: Train Loss = 0.2644, Val Loss = 0.2956\n"
     ]
    },
    {
     "name": "stderr",
     "output_type": "stream",
     "text": [
      "Epoch 75/100: 100%|██████████| 1106/1106 [00:05<00:00, 194.21it/s, train_loss=5.1e-5]\n"
     ]
    },
    {
     "name": "stdout",
     "output_type": "stream",
     "text": [
      "Epoch 75: Train Loss = 0.2655, Val Loss = 0.3087\n"
     ]
    },
    {
     "name": "stderr",
     "output_type": "stream",
     "text": [
      "Epoch 76/100: 100%|██████████| 1106/1106 [00:05<00:00, 192.99it/s, train_loss=0.0955]\n"
     ]
    },
    {
     "name": "stdout",
     "output_type": "stream",
     "text": [
      "Epoch 76: Train Loss = 0.2633, Val Loss = 0.3061\n",
=======
      "Epoch 19: Train Loss = 0.2885, Val Loss = 0.3065\n",
>>>>>>> ac4ea98 (added ipynb notebook of lstm model)
      "Early stopping triggered.\n"
     ]
    }
   ],
   "source": [
    "EPOCHS = 100\n",
    "for epoch in range(EPOCHS):\n",
    "    model.train()\n",
    "    train_loss = 0\n",
    "    loop = tqdm(train_loader, desc=f\"Epoch {epoch+1}/{EPOCHS}\")\n",
    "    \n",
    "    for X, y in loop:\n",
    "        X, y = X.to(device), y.to(device)\n",
    "        optimizer.zero_grad()\n",
    "        pred = model(X)\n",
    "        loss = criterion(pred, y)\n",
    "        loss.backward()\n",
    "        optimizer.step()\n",
    "        train_loss += loss.item()\n",
    "        loop.set_postfix(train_loss=loss.item())\n",
    "\n",
    "    model.eval()\n",
    "    val_loss = 0\n",
    "    with torch.no_grad():\n",
    "        for X, y in val_loader:\n",
    "            X, y = X.to(device), y.to(device)\n",
    "            pred = model(X)\n",
    "            val_loss += criterion(pred, y).item()\n",
    "\n",
    "    val_loss /= len(val_loader)\n",
    "    print(f\"Epoch {epoch+1}: Train Loss = {train_loss/len(train_loader):.4f}, Val Loss = {val_loss:.4f}\")\n",
    "\n",
    "    if val_loss < best_loss:\n",
    "        best_loss = val_loss\n",
    "        trigger_times = 0\n",
<<<<<<< HEAD
    "        torch.save(model.state_dict(), \"best_model_08-14.pt\")\n",
=======
    "        torch.save(model.state_dict(), \"best_model.pt\")\n",
>>>>>>> ac4ea98 (added ipynb notebook of lstm model)
    "    else:\n",
    "        trigger_times += 1\n",
    "        if trigger_times >= patience:\n",
    "            print(\"Early stopping triggered.\")\n",
    "            break\n"
   ]
  },
  {
   "cell_type": "markdown",
   "id": "0f0308ae",
   "metadata": {},
   "source": [
    "## Testing"
   ]
  },
  {
   "cell_type": "code",
<<<<<<< HEAD
   "execution_count": 9,
=======
   "execution_count": 107,
>>>>>>> ac4ea98 (added ipynb notebook of lstm model)
   "id": "05c49a1b",
   "metadata": {},
   "outputs": [
    {
     "name": "stdout",
     "output_type": "stream",
     "text": [
      "   Region       truckid Measurement_timestamp  Maintenance_flag  \\\n",
      "0       1  Truck_0021X1   2016-02-22 16:02:52                 0   \n",
      "1       1  Truck_0021X1   2016-02-22 16:02:54                 0   \n",
      "2       1  Truck_0021X1   2016-02-22 16:03:08                 0   \n",
      "3       1  Truck_0021X1   2016-02-22 16:03:09                 0   \n",
      "4       1  Truck_0021X1   2016-02-22 16:03:12                 0   \n",
      "\n",
      "   Prediction_Prob  Prediction_Label  \n",
<<<<<<< HEAD
      "0         0.000147                 0  \n",
      "1         0.000149                 0  \n",
      "2         0.000148                 0  \n",
      "3         0.000148                 0  \n",
      "4         0.000152                 0  \n",
      "\n",
      "Confusion Matrix:\n",
      "[[1004  151]\n",
      " [   8  271]]\n",
      "\n",
      "Classification Metrics:\n",
      "  Accuracy:  0.8891\n",
      "  Precision: 0.6422\n",
      "  Recall:    0.9713\n",
      "  F1 Score:  0.7732\n",
      "  ROC AUC:   0.9353\n"
=======
      "0         0.002743                 0  \n",
      "1         0.003198                 0  \n",
      "2         0.003244                 0  \n",
      "3         0.003594                 0  \n",
      "4         0.004277                 0  \n",
      "\n",
      "Confusion Matrix:\n",
      "[[986 169]\n",
      " [  6 273]]\n",
      "\n",
      "Classification Metrics:\n",
      "  Accuracy:  0.8780\n",
      "  Precision: 0.6176\n",
      "  Recall:    0.9785\n",
      "  F1 Score:  0.7573\n",
      "  ROC AUC:   0.9335\n"
>>>>>>> ac4ea98 (added ipynb notebook of lstm model)
     ]
    },
    {
     "data": {
<<<<<<< HEAD
      "image/png": "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",
=======
      "image/png": "iVBORw0KGgoAAAANSUhEUgAAAk4AAAHqCAYAAADyPMGQAAAAOnRFWHRTb2Z0d2FyZQBNYXRwbG90bGliIHZlcnNpb24zLjEwLjMsIGh0dHBzOi8vbWF0cGxvdGxpYi5vcmcvZiW1igAAAAlwSFlzAAAPYQAAD2EBqD+naQAANvNJREFUeJzt3Qd4FNX+//FvCEkMLQRIIBQpAoFIB0FACYheFKUIFxTE0CwgSg0iKlWKFKUpvYqA0kRAlCaXHqUFUBGRXoL0UBMgmf9zjv/dXyqcQMJswvv1PGt2Z2Znziz3bj455ztn3CzLsgQAAAB3lenumwAAAEAhOAEAABgiOAEAABgiOAEAABgiOAEAABgiOAEAABgiOAEAABgiOAEAABgiOAEAABgiOAFIUwcOHJD//Oc/4uPjI25ubrJkyZJU3f+RI0f0fmfOnJmq+03PateurR8AUh/BCXgIHDx4UN5++20pVqyYPPLII5IjRw6pWbOmjBkzRm7cuJGmx27durXs3btXBg8eLLNnz5YqVapIRtGmTRsd2tTnmdTnqEKjWq8eI0eOTPH+T506Jf3795fw8PBUajGA+5X5vvcAwKX98MMP0qxZM/Hy8pKQkBApU6aM3Lx5UzZt2iQ9e/aU33//XSZPnpwmx1ZhYuvWrfLRRx/Ju+++mybHKFy4sD6Oh4eH2CFz5sxy/fp1WbZsmTRv3jzeujlz5uigGhUVdU/7VsFpwIABUqRIEalQoYLx+1atWnVPxwNwdwQnIAM7fPiwvPrqqzpc/PzzzxIQEOBc16lTJ/n77791sEorZ8+e1T9z5syZZsdQvTkqnNhFBVLVezdv3rxEwWnu3Lny4osvyqJFix5IW1SAy5Ili3h6ej6Q4wEPI4bqgAxs+PDhcvXqVZk2bVq80ORQvHhx6dKli/P17du35ZNPPpHHHntMBwLV0/Hhhx9KdHR0vPep5S+99JLutapataoOLmoY8KuvvnJuo4aYVGBTVM+WCjjqfY4hLsfzuNR71HZxrV69Wp566ikdvrJlyyaBgYG6TXercVJB8emnn5asWbPq9zZq1Ej27duX5PFUgFRtUtupWqy2bdvqEGKqZcuW8uOPP8qlS5ecy7Zt26aH6tS6hC5cuCChoaFStmxZfU5qqO+FF16Q3bt3O7f53//+J0888YR+rtrjGPJznKeqYVK9hzt27JBatWrpwOT4XBLWOKnhUvVvlPD869WrJ76+vrpnC4AZghOQganhIxVoatSoYbT9G2+8IX379pVKlSrJqFGjJDg4WIYOHap7rRJSYeO///2vPPfcc/LZZ5/pX8AqfKihP6VJkyZ6H0qLFi10fdPo0aNT1H61LxXQVHAbOHCgPk7Dhg1l8+bNd3zfmjVrdCg4c+aMDkfdu3eXLVu26J4hFbQSUj1FV65c0eeqnqtwoobITKlzVaFm8eLF8XqbSpUqpT/LhA4dOqSL5NW5ff755zpYqjow9Xk7Qkzp0qX1OStvvfWW/vzUQ4Ukh/Pnz+vApYbx1Gdbp06dJNunatn8/Px0gIqJidHLJk2apIf0xo0bJ/nz5zc+V+ChZwHIkCIjIy31f/FGjRoZbR8eHq63f+ONN+ItDw0N1ct//vln57LChQvrZRs2bHAuO3PmjOXl5WX16NHDuezw4cN6uxEjRsTbZ+vWrfU+EurXr5/e3mHUqFH69dmzZ5Ntt+MYM2bMcC6rUKGC5e/vb50/f965bPfu3VamTJmskJCQRMdr165dvH2+/PLLVu7cuZM9ZtzzyJo1q37+3//+16pbt65+HhMTY+XLl88aMGBAkp9BVFSU3ibheajPb+DAgc5l27ZtS3RuDsHBwXrdxIkTk1ynHnGtXLlSbz9o0CDr0KFDVrZs2azGjRvf9RwBxEePE5BBXb58Wf/Mnj270fYrVqzQP1XvTFw9evTQPxPWQgUFBemhMAfVo6GG0VRvSmpx1EZ9//33Ehsba/SeiIgIfRWa6v3KlSuXc3m5cuV075jjPOPq0KFDvNfqvFRvjuMzNKGG5NTw2unTp/UwofqZ1DCdooZBM2X69+tX9QCpYzmGIXfu3Gl8TLUfNYxnQk0Joa6sVL1YqodMDd2pXicAKUNwAjIoVTejqCEoE0ePHtW/zFXdU1z58uXTAUatj+vRRx9NtA81XHfx4kVJLa+88ooeXlNDiHnz5tVDhvPnz79jiHK0U4WQhNTw17lz5+TatWt3PBd1HkpKzqV+/fo6pH777bf6ajpVn5Tws3RQ7VfDmCVKlNDhJ0+ePDp47tmzRyIjI42PWaBAgRQVgqspEVSYVMFy7Nix4u/vb/xeAP8iOAEZODip2pXffvstRe9LWJydHHd39ySXW5Z1z8dw1N84eHt7y4YNG3TN0uuvv66DhQpTquco4bb3437OxUEFINWTM2vWLPnuu++S7W1ShgwZonv2VL3S119/LStXrtRF8I8//rhxz5rj80mJXbt26bovRdVUAUg5ghOQganiYzX5pZpL6W7UFXDql7a6Eiyuf/75R18t5rhCLjWoHp24V6A5JOzVUlQvWN26dXUR9R9//KEn0lRDYevWrUv2PJT9+/cnWvfnn3/q3h11pV1aUGFJhRPVy5dUQb3DwoULdSG3utpRbaeG0Z599tlEn4lpiDWhetnUsJ4aYlXF5uqKS3XlH4CUITgBGdj777+vQ4Ia6lIBKCEVqtQVV46hJiXhlW8qsChqPqLUoqY7UENSqgcpbm2S6qlJeNl+Qo6JIBNOkeCgpl1Q26ien7hBRPW8qavIHOeZFlQYUtM5fPHFF3qI8049XAl7sxYsWCAnT56Mt8wR8JIKmSnVq1cvOXbsmP5c1L+pmg5CXWWX3OcIIGlMgAlkYCqgqMvi1fCWqu+JO3O4ujxf/bJWRdRK+fLl9S9SNYu4+kWtLo3/9ddf9S/axo0bJ3up+71QvSzqF/nLL78snTt31nMmTZgwQUqWLBmvOFoVMquhOhXaVE+SGmYaP368FCxYUM/tlJwRI0boy/SrV68u7du31zOLq8vu1RxNanqCtKJ6xz7++GOjnkB1bqoHSE0VoYbNVF2Umjoi4b+fqi+bOHGirp9SQapatWpStGjRFLVL9dCpz61fv37O6RFmzJih53rq06eP7n0CYCjBVXYAMqC//vrLevPNN60iRYpYnp6eVvbs2a2aNWta48aN05fGO9y6dUtfQl+0aFHLw8PDKlSokNW7d+942yhqKoEXX3zxrpfBJzcdgbJq1SqrTJkyuj2BgYHW119/nWg6grVr1+rpFPLnz6+3Uz9btGihzyfhMRJesr9mzRp9jt7e3laOHDmsBg0aWH/88Ue8bRzHSzjdgdqXWq72bTodQXKSm45ATdsQEBCg26fauXXr1iSnEfj++++toKAgK3PmzPHOU233+OOPJ3nMuPu5fPmy/veqVKmS/veNq1u3bnqKBnVsAGbc1H9MQxYAAMDDjBonAAAAQwQnAAAAQwQnAAAAQwQnAAAAQwQnAAAAQwQnAAAAQwQnAACAh3nmcO+K79rdBAAuaueKYXY3AYALKh1gdg9LepwAAAAMEZwAAAAMEZwAAAAMEZwAAAAMEZwAAAAMEZwAAAAMEZwAAAAMEZwAAAAMEZwAAAAMEZwAAAAMEZwAAAAMEZwAAAAMEZwAAAAMEZwAAAAMEZwAAAAMEZwAAAAMEZwAAAAMEZwAAAAMEZwAAAAMEZwAAAAMEZwAAAAMEZwAAAAMEZwAAAAMEZwAAAAMEZwAAAAMEZwAAAAMEZwAAAAMEZwAAAAMEZwAAAAMEZwAAAAMEZwAAAAMEZwAAAAMEZwAAAAMEZwAAAAMEZwAAAAMEZwAAAAMEZwAAAAMEZwAAAAMEZwAAAAMEZwAAAAMEZwAAAAMEZwAAAAMEZwAAAAMEZwAAAAMEZwAAAAMEZwAAAAMEZwAAAAMEZwAAAAMEZwAAAAMEZwAAAAMEZwAAAAMEZwAAAAMEZwAAAAMEZwAAAAMEZwAAAAMEZwAAAAMEZwAAAAMEZwAAAAMEZwAAAAMEZwAAAAMEZwAAAAMEZwAAAAMEZwAAAAMEZwAAAAMEZwAAAAMEZwAAAAMEZwAAAAMEZwAAAAMEZwAAAAMEZwAAAAMEZwAAAAMEZwAAAAMEZwAAAAMEZwAAAAMZRYbnTt3TqZPny5bt26V06dP62X58uWTGjVqSJs2bcTPz8/O5gEAALhGj9O2bdukZMmSMnbsWPHx8ZFatWrph3qulpUqVUq2b99uV/MAAABcp8fpvffek2bNmsnEiRPFzc0t3jrLsqRDhw56G9UbBQAA8FAHp927d8vMmTMThSZFLevWrZtUrFjRlrYBAAC41FCdqmX69ddfk12v1uXNm/eBtgkAAMAle5xCQ0Plrbfekh07dkjdunWdIemff/6RtWvXypQpU2TkyJF2NQ8AAMB1glOnTp0kT548MmrUKBk/frzExMTo5e7u7lK5cmU9jNe8eXO7mgcAAJCIm6UqsW1269YtPTWBosKUh4fHfe3Pu+K7qdQyABnNzhXD7G4CABdUOiCr68/j5KCCUkBAgN3NAAAAuCNmDgcAADBEcAIAADBEcAIAADBEcAIAADBkS3H40qVLjbdt2LBhmrYFAADApYNT48aNjbZTt15xzO8EAADwUAan2NhYOw4LAABwX6hxAgAAMOQSE2Beu3ZN1q9fL8eOHZObN2/GW9e5c2fb2gUAAOBSwWnXrl1Sv359uX79ug5QuXLl0rdfyZIli/j7+xOcAACAy7B9qK5bt27SoEEDuXjxonh7e0tYWJgcPXpU3+h35MiRdjcPAADAdXqcwsPDZdKkSZIpUyZxd3eX6OhoKVasmAwfPlxat24tTZo0sbuJcEHZsnhJv3dekobPlBc/32yye/8JCR2+UHb8cUyvz+rtKYM6N5IGdcpJLp+scuTUeRk/b71MXbgp3n6qlSsq/Tu9JE+ULSIxMbGy56+T0uCdLyUq+pZNZwbgfvy+e4d8981XcvCvfXLx/Dn54JPP5Mmn68Tb5vjRQ/LVpLHy++6dEhNzWwoVLia9Bo4Qv7z/3jM14uRxmTlhtOzbu0vfhL5i1RryVuf3JWeu3DadFVxJZle4wa8KTYoamlN1TqVLlxYfHx85fvy43c2Di5rQt6UEFc8v7T6eJRFnI6VF/aryw8T3pFLTQXLqbKQM69FUaj9RUtp+9JUcPXVenq1eWsb0bq63/WH9Xmdo+v6Ld2TkjFXSfdgCuR0TK+VKFpDYWMvu0wNwj6KioqToYyXl2fqN5NM+oYnWq1D04XvtpW79RtKibQfxzpJVjh85JB6eXv++/8YN6d+zkxR9rIQMHDVJL5s7bYIM/rCrDBs/y/n7Cg8v24NTxYoVZdu2bVKiRAkJDg6Wvn376hqn2bNnS5kyZexuHlzQI14e0rhuBWnWbbJs3nlQLxs8aYXUr1VG3mz2tAwYv1yeLF9Uvl7+i2zccUCvn754s7RvWlOqPF7YGZyG92gi47/5n4ycsdq57wNHz9h0VgBSQ+VqNfUjOXOmfimVqtWUNh26OpcFFCjkfL7vt3A5e/qUjJoyV7JkzaaXdek9QFo1qC17d26T8lWqpfEZwNXZHp2HDBkiAQH/do8OHjxYfH19pWPHjnL27FmZPHmy3c2DC8rsnkkyZ3aXqJvxh9PU8FqNio/p52G7D8tLwWUlv5+Pfl2rSgkpUdhf1oTt06/V8F7VckXl7IWrsm5mdzmyZoismtpFalQoZsMZAXhQcwhuD9sk+QsVlv4935HWjetKz44hErZxnXObW7fUld1u4uHh6Vzm6eklbm6Z5I+9u2xqOVyJ7cGpSpUqUqdOHedQ3U8//SSXL1+WHTt2SPny5e1uHlzQ1evRErb7kPR+8wUJ8PORTJnc5NX6T+iht3x5cuht1NDbvkOn5eCqwXL51zGy9Mt3pOun8509VEUL5tE/P3q7vkxfvEUadRov4fuOy4pJ78ljj/rZen4A0kbkxQsSdeO6LJ47QypVrSH9RoyXJ5+qI8P6hspv4Tv0NoFB5eQRb2+ZNWmMREfd0EN3MyaMktjYGLl44ZzdpwAXYPtQ3f1SxeTqEZcVGyNumdxtaxPSXruPv5JJ/V+TQ6sGy+3bMRL+53GZ/9N2qVj6Ub3+nVeDpWrZItK0y0Q5FnFBnqpUXEZ/8G+N07pf9uuwpUxbtElmLw3Tz1WBee2qgdK6UXXpO878fooA0gfL+rd+sWrN2tKwWSv9vFiJQPnz992yculCKVOhsvjk9JWe/YfJxFFD5YfF3+iepqfr1pNiJUtJJjfb+xrgAmwPTkWLFtX3pEvOoUOH7vj+oUOHyoABA+Itc8/7hHgEVE21NsL1HD5xTv7zxhjJ8oin5Mj2iJw+d1lmf9pWDp88p2ugBrzXQF7pPkV+2vS73v63A6ekXGBB6fp6XR2cIs5e1stVr1Rc+w+flkL5fG05JwBpK7tPTnF3z6yvoourYOGism9vuPN1xSeqy6S5S+XypYuSyT2zZMueXdq8/JzkfaaADa2Gq7E9OHXt+n8Feoq69FNNiqmG7Hr27HnX9/fu3Vu6d+8eb5n/071SvZ1wTdejbupHzuze8myN0vLR6O/FI7O7eHpkltj//9elg5puwNHTpK60O3XmkpQs4h9vm+KF/WXV5j8e6DkAeHBXcRcvFSQnjx+Jt/zU8WPOqQjiypHz3z+i9uz8VSIvXZCqNYIfWFvhumwPTl26dEly+Zdffinbt2+/6/u9vLz0Iy6G6TI+Nb2A6qj868gZeayQnwzp1lj+OvyPfLV0q9y+HSsbth+QIV0by42oW3qo7unKxeW1l6pKr88XO/cxatYa+bjDi7L3r5N6mK5Vg2oSWCSvtOw5zdZzA3Dvbly/rqcccDhz+qQcOrBfsufIocPRy6+GyMgBH8jj5StJ2QpVZOevW2Tblg0yaPT/XYy09sfvpeCjRXVw2v/7Hpn2xUhp0Ow1KfBoEZvOCq7EzXIM+roYNURXoUIFXSieUt4V302TNsF1NH2uogx8r6EUyJtTLkRel+/Xhku/L5fJ5atRen3e3Nll4HuN5NnqpcQ3RxYdnlQR+Nivf463n9C2z8nbzWuJr08WHaA+Gr1EtoTfeXgY6dvOFcPsbgLS0N5d26VPt7cSLa9Tr4GeVkBZs2KJLJozQ86fPaOvsFPzOVV7qrZzWzU55s8/LZOrVyLFP19+qdfwv9Kw2Wt3LCtB+lc6IGv6Dk5q5vDx48fLkSPxu1RNEJwAJIfgBOB+gpNLTIAZN8WrHHf69Gk9j5MKTgAAAK7C9uDUqFGjeMFJTWfv5+cntWvXllKlStnaNgAAAJcKTv3797e7CQAAAEZsn83L3d1dzpxJfH+w8+fP63UAAACuwvbglFxtupoN3NPz/+4VBAAA8NAO1Y0dO1b/VPVNU6dOlWzZ/r0LtRITEyMbNmygxgkAALgU24LTqFGjnD1OEydOjDcsp3qaihQpopcDAADIwx6cDh8+rH/WqVNHFi9eLL6+3B8MAAC4Ntuvqlu3bp3dTQAAAEgfxeFNmzaVYcOGJTlzeLNmzWxpEwAAgEsGJ1UEXr9+/UTLX3jhBb0OAADAVdgenK5evZrktAMeHh73dINfAACADBucypYtK99++22i5d98840EBQXZ0iYAAACXLA7v06ePNGnSRA4ePCjPPPOMXrZ27VqZN2+eLFiwwO7mAQAAuE5watCggSxZskSGDBkiCxcuFG9vbylXrpysWbNGgoOD7W4eAACA6wQn5cUXX9SPhH777TcpU6aMLW0CAABwuRqnhK5cuSKTJ0+WqlWrSvny5e1uDgAAgOsFJzX1QEhIiAQEBMjIkSN1vVNYWJjdzQIAAHCNobrTp0/LzJkzZdq0aXrqgebNm0t0dLSueeKKOgAA4Goy2VkUHhgYKHv27JHRo0fLqVOnZNy4cXY1BwAAwHV7nH788Ufp3LmzdOzYUUqUKGFXMwAAAFy/x2nTpk26ELxy5cpSrVo1+eKLL+TcuXN2NQcAAMB1g9OTTz4pU6ZMkYiICHn77bf1TOH58+eX2NhYWb16tQ5VAAAArsT2q+qyZs0q7dq10z1Qe/fulR49esinn34q/v7+0rBhQ7ubBwAA4DrBKS5VLD58+HA5ceKEvuUKAACAK3Gp4OTg7u4ujRs3lqVLl9rdFAAAANcOTgAAAK6I4AQAAGCI4AQAAGCI4AQAAGCI4AQAAGCI4AQAAGCI4AQAAGCI4AQAAGCI4AQAAGCI4AQAAGCI4AQAAGCI4AQAAGCI4AQAAGCI4AQAAGCI4AQAAGCI4AQAAGCI4AQAAGCI4AQAAGCI4AQAAGCI4AQAAGCI4AQAAGCI4AQAAGCI4AQAAGCI4AQAAGCI4AQAAGCI4AQAAGCI4AQAAGCI4AQAAGCI4AQAAGCI4AQAAGCI4AQAAGCI4AQAAGCI4AQAAGCI4AQAAGCI4AQAAGCI4AQAAGAos8lGe/bsMd2flCtXznhbAACADBecKlSoIG5ubmJZVpLrHevUz5iYmNRuIwAAQPoJTocPH077lgAAAGSE4FS4cOG0bwkAAEBGLA6fPXu21KxZU/Lnzy9Hjx7Vy0aPHi3ff/99arcPAAAg/QanCRMmSPfu3aV+/fpy6dIlZ01Tzpw5dXgCAADIqFIcnMaNGydTpkyRjz76SNzd3Z3Lq1SpInv37k3t9gEAAKTf4KQKxStWrJhouZeXl1y7di212gUAAJD+g1PRokUlPDw80fKffvpJSpcunVrtAgAASJ9X1cWl6ps6deokUVFReu6mX3/9VebNmydDhw6VqVOnpk0rAQAA0mNweuONN8Tb21s+/vhjuX79urRs2VJfXTdmzBh59dVX06aVAAAALsDNSm46cAMqOF29elX8/f3FlXhXfNfuJgBwUTtXDLO7CQBcUOmArGnT4+Rw5swZ2b9/v36ubrXi5+d3r7sCAADImMXhV65ckddff10PzwUHB+uHet6qVSuJjIxMm1YCAACkx+Ckapx++eUX+eGHH/QEmOqxfPly2b59u7z99ttp00oAAID0WOOUNWtWWblypTz11FPxlm/cuFGef/55l5jLiRonAMmhxgnA/dQ4pbjHKXfu3OLj45NouVrm6+ub0t0BAACkGykOTmoaAjWX0+nTp53L1POePXtKnz59Urt9AAAALsPoqjp1ixV15ZzDgQMH5NFHH9UP5dixY/qWK2fPnqXOCQAAPNzBqXHjxmnfEgAAgIwQnPr165f2LQEAAMhoNU4AAAAPqxTPHB4TEyOjRo2S+fPn69qmmzdvxlt/4cKF1GwfAABA+u1xGjBggHz++efyyiuv6JnC1RV2TZo0kUyZMkn//v3TppUAAADpMTjNmTNHpkyZIj169JDMmTNLixYtZOrUqdK3b18JCwtLm1YCAACkx+Ck5mwqW7asfp4tWzbn/eleeuklfRsWAACAjCrFwalgwYISERGhnz/22GOyatUq/Xzbtm16LicAAICMKsXB6eWXX5a1a9fq5++9956eLbxEiRISEhIi7dq1S4s2AgAApM+b/Cak6pq2bNmiw1ODBg3EFXCTXwDJ4Sa/AB7oTX4TevLJJ/WVddWqVZMhQ4bc7+4AAAAy/gSYqu6Jm/wCAICMjJnDAQAADBGcAAAADBGcAAAAUvtedaoA/E7Onj1ruisAAICMPR1BnTp1jHa4bt06sVvUbbtbAMBVhR3kRuQAEqsdmEtStcfJFQIRAACAnahxAgAAMERwAgAAMERwAgAAMERwAgAAMERwAgAASMvgtHHjRmnVqpVUr15dTp48qZfNnj1bNm3adC+7AwAAyJjBadGiRVKvXj3x9vaWXbt2SXR0tF4eGRkpQ4YMSYs2AgAApM/gNGjQIJk4caJMmTJFPDw8nMtr1qwpO3fuTO32AQAApN/gtH//fqlVq1ai5T4+PnLp0qXUahcAAED6D0758uWTv//+O9FyVd9UrFix1GoXAABA+g9Ob775pnTp0kV++eUXcXNzk1OnTsmcOXMkNDRUOnbsmDatBAAAcAHG96pz+OCDDyQ2Nlbq1q0r169f18N2Xl5eOji99957adNKAAAAF+BmWZZ1L2+8efOmHrK7evWqBAUFSbZs2cRVRN22uwUAXFXYwQt2NwGAC6odmCttepwcPD09dWACAAB4WKQ4ONWpU0fXNiXn559/vt82AQAAZIzgVKFChXivb926JeHh4fLbb79J69atU7NtAAAA6Ts4jRo1Ksnl/fv31/VOAAAAGVWq3eRX3btu+vTpqbU7AACAjBuctm7dKo888khq7Q4AACD9D9U1adIk3ms1m0FERIRs375d+vTpk5ptAwAASN/BSd2TLq5MmTJJYGCgDBw4UP7zn/+kZtsAAADSb3CKiYmRtm3bStmyZcXX1zftWgUAAJDea5zc3d11r9KlS5fSrkUAAAAZpTi8TJkycujQobRpDQAAQEYKToMGDdI39F2+fLkuCr98+XK8BwAAgDzsN/lVxd89evSQ7Nmz/9+b49x6Re1GvVZ1UHbjJr8AksNNfgHcz01+jYOTqm9SPUz79u2743bBwcFiN4ITgOQQnADcT3AyvqrOka9cIRgBAAC4fI1T3KE5AACAh02K5nEqWbLkXcPThQt0gwMAgIwpRcFpwIABiWYOBwAAeFikKDi9+uqr4u/vn3atAQAAyAg1TtQ3AQCAh51xcDKctQAAACDDMh6qi42NTduWAAAAZLRbrgAAADysCE4AAACGCE4AAACGCE4AAACGCE4AAACGCE4AAACGCE4AAACGCE4AAACGCE4AAACGCE4AAACGCE4AAACGCE4AAACGCE4AAACGCE4AAACGCE4AAACGCE4AAACGCE4AAACGCE4AAACGCE4AAACGCE4AAACGCE4AAACGCE4AAACGCE4AAACGCE4AAACGCE4AAACGCE4AAACGCE4AAACGCE4AAACGCE4AAACGCE4AAACGCE4AAACGCE4AAACGCE4AAACGCE4AAACGCE4AAACGCE4AAACGCE4AAADpPTgdP35c2rVrZ3czAAAAXD84XbhwQWbNmmV3MwAAAJwyi02WLl16x/WHDh16YG0BAABw6eDUuHFjcXNzE8uykt1GrQcAAJCHfaguICBAFi9eLLGxsUk+du7caVfTAAAAXCs4Va5cWXbs2JHs+rv1RgEAADw0Q3U9e/aUa9euJbu+ePHism7dugfaJgAAgDtxszJgt07UbbtbAMBVhR28YHcTALig2oG50vd0BAAAAK6G4AQAAGCI4AQAAGCI4AQAAGCI4AQAAODK0xHc7XYrcTVs2DBN2wIAAODSwUndbsWEmgQzJiYmzdsDAADgssFJ3VIFAAAgvaHGCQAAwNVvuRKXuvXK+vXr5dixY3Lz5s146zp37mxbuwAAAFwqOO3atUvq168v169f1wEqV65ccu7cOcmSJYv4+/sTnAAAgMuwfaiuW7du0qBBA7l48aJ4e3tLWFiYHD16VCpXriwjR460u3kAAACuE5zCw8OlR48ekilTJnF3d5fo6GgpVKiQDB8+XD788EO7mwcAAOA6Q3UeHh46NClqaE7VOZUuXVp8fHzk+PHjdjcP6dg///wjoz8fIZs3bpSoqBtS6NHCMnDQEHm8TFm7mwYgDfy4YJbs2rpeTp88Kp6eXlKsVFlp0vodyVewsF5/7p8I+ejNJkm+9633B0nlp+rK1cuRMu2zfnLy6EG5djlSsuf0lfJVn5bGIR3FO0vWB3xGcEW2B6eKFSvKtm3bpESJEhIcHCx9+/bVNU6zZ8+WMmXK2N08pFOXIyOlTasWUqVqNfly4hTxzeUrx44elRw5fOxuGoA08tdvu6T2i02lSInSeg7AJbMnyph+XaX/l3PF6xFvyZXHX4bPWh7vPRtXLpFV382VxytX16/dMrlJhWq1pFGrtyW7T045E3FC5k0cKdfGX5Y3QgfadGZwJW6WZVl2NmD79u1y5coVqVOnjpw5c0ZCQkJky5YtOkhNnz5dypcvn+J9Rt1Ok6YiHRn9+UgJ37VTZs6ea3dT4GLCDl6wuwl4QK5EXpTQ1+tLjyHjpWSZikluM6hLiDz6WKCEdP4o2f38vGy+rPpujnw6/fs0bC3sVjswV/rocapSpYrzuRqq++mnn2xtDzKG9et+lho1n5LQbp1l+/Zt4u+fV155taU0bdbc7qYBeEBuXLuqf2bNniPJ9Uf//lOOHz4gLTqEJruPS+fPyq6t/5MSjycdvPDwsT04AWnhxInjMv/befJ667bS/q0O8vvevTJs6CBdU9ew8ct2Nw/AA7hDxfypo+Wx0uWkQOHHktxm8+plElCoiN4moakj+kr4Lxvk1s1oKVf1KQl5r/cDaDXSA9uDU9GiRfU96ZJz6NChO75fXYWnHnFZ7l7i5eWVam1E+hMba8njZcpI567d9evSpYPk778PyIL53xCcgIeAqks6deyQ9Px0UpLrb0ZHya8bVsmLzdsmub7ZG13kpRbt5J+Tx+W7rybIgmljpWXHnmncaqQHtgenrl27xnt969YtPSmmGrLr2fPu/yMdOnSoDBgwIN6yj/r0k4/79k/1tiL98PPzk2KPxf8rs1ixYrJm9Urb2gTgwYWmvds3S+iQCeKbxz/JbXZuWafD05PPvJDkeh/f3PqRr2ARPdQ34oMO8uIrbcUnV540bj1cne3BqUuXLkku//LLL3Xh+N307t1bunf/t1chbo8THm4VKlaSI4cPx1t29MgRyZ+/gG1tApC21LVO30z6TMLD1kv3IeMlT778yW6rhunUNAPZfXyNb0yv/rAHbJ8AMzkvvPCCLFq06K7bqSG5HDlyxHswTIdWIa1l757dMnXyRD0NwYrly2ThwvnySouWdjcNQBr2NP2yfqW0Dx0gj3hnkciL5/VD9SzFdebUcTnwe7jUfK5Bon3s3b5FNq9ZrudxUvM+7d22WeZOGK7roPLkDXiAZwNXZXuPU3IWLlyo71sH3IsyZcvJ52O+kLGjP5dJE76UAgULyvu9PpQXX2pod9MApJH1Py7WPz/7sFO85a27fCw16r7ofK2CUc7c/hJUsVqifaiJMzet+l4WTBsjt2/dFN88eaVi9dryfNPXH8AZID2wfR4nNQFm3OJw1ZzTp0/L2bNnZfz48fLWW2+leJ/M4wQgOczjBCBdz+PUqFGjeMFJ3X5FFfbWrl1bSpUqZWvbAAAAXKrHKS3Q4wQgOfQ4AbifHifbi8Pd3d31rVYSOn/+vF4HAADgKmwPTsl1eKlJLT09PR94ewAAAFyuxmns2LH6p6pvmjp1qmTLls25Tt3VesOGDdQ4AQAAl2JbcBo1apSzx2nixInxhuVUT1ORIkX0cgAAAHnYg9Ph/z+rc506dWTx4sXi63v32VsBAADsZPt0BOvWrbO7CQAAAOmjOLxp06YybNiwRMuHDx8uzZo1s6VNAAAALhmcVBF4/fr1k7xXnVoHAADgKmwPTlevXk1y2gEPDw+5fPmyLW0CAABwyeBUtmxZ+fbbbxMt/+abbyQoKMiWNgEAALhkcXifPn2kSZMmcvDgQXnmmWf0srVr18q8efNkwYIFdjcPAADAdYJTgwYNZMmSJTJkyBBZuHCheHt7S7ly5WTNmjUSHBxsd/MAAADSx01+f/vtNylTpkyK38dNfgEkh5v8AkjXN/lN6MqVKzJ58mSpWrWqlC9f3u7mAAAAuF5wUlMPhISESEBAgIwcOVLXO4WFhdndLAAAANeocTp9+rTMnDlTpk2bpqceaN68uURHR+uaJ66oAwAAriaTnUXhgYGBsmfPHhk9erScOnVKxo0bZ1dzAAAAXLfH6ccff5TOnTtLx44dpUSJEnY1AwAAwPV7nDZt2qQLwStXrizVqlWTL774Qs6dO2dXcwAAAFw3OD355JMyZcoUiYiIkLffflvPFJ4/f36JjY2V1atX61AFAADgSlxqHqf9+/frQvHZs2fLpUuX5LnnnpOlS5emeD/M4wQgOczjBCDDzOOkisWHDx8uJ06c0LdcAQAAcCUu1eOUWuhxApAcepwAZJgeJwAAAFdGcAIAADBEcAIAADBEcAIAADBEcAIAADBEcAIAADBEcAIAADBEcAIAADBEcAIAADBEcAIAADBEcAIAADBEcAIAADBEcAIAADBEcAIAADBEcAIAADBEcAIAADBEcAIAADBEcAIAADBEcAIAADBEcAIAADBEcAIAADBEcAIAADBEcAIAADBEcAIAADBEcAIAADBEcAIAADBEcAIAADBEcAIAADBEcAIAADBEcAIAADBEcAIAADBEcAIAADBEcAIAADBEcAIAADBEcAIAADBEcAIAADBEcAIAADBEcAIAADBEcAIAADBEcAIAADBEcAIAADBEcAIAADBEcAIAADBEcAIAADBEcAIAADBEcAIAADBEcAIAADBEcAIAADBEcAIAADBEcAIAADBEcAIAADBEcAIAADBEcAIAADBEcAIAADBEcAIAADBEcAIAADBEcAIAADBEcAIAADBEcAIAADBEcAIAADBEcAIAADBEcAIAADBEcAIAADBEcAIAADBEcAIAADBEcAIAADBEcAIAADBEcAIAADBEcAIAADBEcAIAADBEcAIAADDkZlmWZboxkN5ER0fL0KFDpXfv3uLl5WV3cwC4CL4bcK8ITsjQLl++LD4+PhIZGSk5cuSwuzkAXATfDbhXDNUBAAAYIjgBAAAYIjgBAAAYIjghQ1NFn/369aP4E0A8fDfgXlEcDgAAYIgeJwAAAEMEJwAAAEMEJ6RLbdq0kcaNGztf165dW7p27frA2/G///1P3Nzc5NKlSw/82AAS47sBaY3ghFT9wlJfFOrh6ekpxYsXl4EDB8rt27fT/NiLFy+WTz75xCW/0KKioqRTp06SO3duyZYtmzRt2lT++eefB3JswBXw3ZC0yZMn62CnJuAkZKUfBCekqueff14iIiLkwIED0qNHD+nfv7+MGDEiyW1v3ryZasfNlSuXZM+eXVxRt27dZNmyZbJgwQJZv369nDp1Spo0aWJ3s4AHiu+GxK5fv64/lw8//NDupiAFCE5IVerS3nz58knhwoWlY8eO8uyzz8rSpUvjdaEPHjxY8ufPL4GBgXr58ePHpXnz5pIzZ079JdeoUSM5cuSIc58xMTHSvXt3vV712rz//vuS8GLQhN3x6j5UvXr1kkKFCuk2qb9wp02bpvdbp04dvY2vr6/+K0+1S4mNjdX3ripatKh4e3tL+fLlZeHChfGOs2LFCilZsqRer/YTt51JUbdzUMf9/PPP5ZlnnpHKlSvLjBkzZMuWLRIWFnbfnzeQXvDdkJhq1wcffCBPPvnkfX22eLAITkhT6ksk7l+Pa9eulf3798vq1atl+fLlcuvWLalXr57+i3Djxo2yefNmPZyl/gpzvO+zzz6TmTNnyvTp02XTpk1y4cIF+e677+543JCQEJk3b56MHTtW9u3bJ5MmTdL7VV+WixYt0tuodqi/gMeMGaNfqy/Gr776SiZOnCi///677ilq1aqV7iVyfImrnqIGDRpIeHi4vPHGG/pL70527Nihz1H9knAoVaqUPProo7J169b7+GSB9O1h/25AOqbmcQJSQ+vWra1GjRrp57Gxsdbq1astLy8vKzQ01Lk+b968VnR0tPM9s2fPtgIDA/X2Dmq9t7e3tXLlSv06ICDAGj58uHP9rVu3rIIFCzqPpQQHB1tdunTRz/fv36/+5NTHT8q6dev0+osXLzqXRUVFWVmyZLG2bNkSb9v27dtbLVq00M979+5tBQUFxVvfq1evRPuKa86cOZanp2ei5U888YT1/vvvJ/keIKPhu+HOkjouXFdmu4MbMhb1l6L66039tai6t1u2bKlrGRzKli2ri0Mddu/eLX///XeiGgRVUH3w4EE91KX+8qtWrZpzXebMmaVKlSqJuuQd1F987u7uEhwcbNxu1QZVb/Dcc8/FW67+sq1YsaJ+rv46jdsOpXr16sbHAB5mfDcgoyA4IVWpsf0JEyboL0BVq6C+yOLKmjVrvNdXr17VdT9z5sxJtC8/P797HgJIKdUO5YcffpACBQrEW3c/t2RQNR3qC1ZdLaPqMBzUVXVqHfCw4LsBGQXBCalKffmpYktTlSpVkm+//Vb8/f31JblJCQgIkF9++UVq1aqlX6tLmFXtkHpvUtRfruovWlV/ELe2yMHxV60qLHUICgrSX4LHjh1L9q/R0qVLO4tZHe5W4K2++D08PHT9hpqGwFE/oY7DX6R4mPDdgIyC4nDY6rXXXpM8efLoq2VUAejhw4f1XCqdO3eWEydO6G26dOkin376qSxZskT+/PNPeeedd+4430mRIkWkdevW0q5dO/0exz7nz5+v16uretQVM2ro4OzZs/ovSjUcEBoaqos+Z82apYcCdu7cKePGjdOvlQ4dOuhLqXv27KnDz9y5c3Vh6p34+PhI+/bt9ZU/69at01/qbdu21aGJK2mAh/e7QTl9+rQePlTDgcrevXv1a1XkDhdmd5EVMmYBaErWR0REWCEhIVaePHl0wWixYsWsN99804qMjHQWfKrizhw5clg5c+a0unfvrrdPrgBUuXHjhtWtWzddPKqKs4sXL25Nnz7duX7gwIFWvnz5LDc3N90uRRWhjh49Whekenh4WH5+fla9evWs9evXO9+3bNkyvS/Vzqefflrv825Fnaot77zzjuXr66uLTF9++WV9zsDDgu+GpPXr109vk/AxY8aMFH2+eLDc1H/sDm8AAADpAUN1AAAAhghOAAAAhghOAAAAhghOAAAAhghOAAAAhghOAAAAhghOAAAAhghOAAAAhghOAFxCmzZtpHHjxs7XtWvXlq5duz7wdqhbcKjbbtzp1h2pfa6u2k4AiRGcANzxF7z65awe6gao6iatAwcO1DdTTWuLFy+WTz75xCVDhLrn2ejRox/IsQC4lsx2NwCAa3v++edlxowZEh0dLStWrJBOnTqJh4eH9O7dO9G2N2/edN5h/n7lypUrVfYDAKmJHicAd+Tl5SX58uXTd47v2LGjPPvss7J06dJ4Q06DBw+W/PnzS2BgoF5+/Phxad68ueTMmVMHIHWH+yNHjjj3GRMTI927d9frc+fOLe+//7664Xi84yYcqlPBrVevXlKoUCHdJtX7NW3aNL3fOnXq6G18fX11z5NqlxIbGytDhw6VokWLire3t5QvX14WLlwY7zgqDJYsWVKvV/uJ2857oc6tffv2zmOqz2TMmDFJbjtgwADx8/OTHDlySIcOHXTwdDBpO4AHjx4nACmifomfP3/e+Xrt2rX6F//q1av161u3bkm9evWkevXqsnHjRsmcObMMGjRI91zt2bNH90h99tlnMnPmTJk+fbqULl1av/7uu+/kmWeeSfa4ISEhsnXrVhk7dqwOEYcPH5Zz587pILVo0SJp2rSp7N+/X7dFtVFRwePrr7+WiRMnSokSJWTDhg3SqlUrHVaCg4N1wGvSpInuRXvrrbdk+/bt0qNHj/v6fFTgKViwoCxYsECHwi1btuh9BwQE6DAZ93N75JFH9DCjCmtt27bV26sQatJ2ADaxACAZrVu3tho1aqSfx8bGWqtXr7a8vLys0NBQ5/q8efNa0dHRzvfMnj3bCgwM1Ns7qPXe3t7WypUr9euAgABr+PDhzvW3bt2yChYs6DyWEhwcbHXp0kU/379/v+qO0sdPyrp16/T6ixcvOpdFRUVZWbJksbZs2RJv2/bt21stWrTQz3v37m0FBQXFW9+rV69E+0qocOHC1qhRoyxTnTp1spo2bep8rT63XLlyWdeuXXMumzBhgpUtWzYrJibGqO1JnTOAtEePE4A7Wr58uWTLlk33JKnelJYtW0r//v2d68uWLRuvrmn37t3y999/S/bs2ePtJyoqSg4ePCiRkZESEREh1apVc65TvVJVqlRJNFznEB4eLu7u7inqaVFtuH79ujz33HPxlqvhsIoVK+rn+/bti9cORfWU3a8vv/xS96YdO3ZMbty4oY9ZoUKFeNuoXrMsWbLEO+7Vq1d1L5j6ebe2A7AHwQnAHam6nwkTJuhwpOqYVMiJK2vWrPFeq1/6lStXljlz5iTalxpmuheOobeUUO1QfvjhBylQoEC8dapGKq188803EhoaqocfVRhSAXLEiBHyyy+/uHzbAdwdwQnAHalgpAqxTVWqVEm+/fZb8ff31/VGSVH1PipI1KpVS79W0xvs2LFDvzcpqldL9XatX79eF6cn5OjxUoXZDkFBQTpkqF6f5HqqVH2Vo9DdISwsTO7H5s2bpUaNGvLOO+84l6metoRUz5zqjXKEQnVc1bOnarZUQf3d2g7AHlxVByBVvfbaa5InTx59JZ0qDldF3KoAunPnznLixAm9TZcuXeTTTz+VJUuWyJ9//qlDxp3mYFLzJrVu3VratWun3+PY5/z58/V6dcWfuppODSuePXtW99ionh7V89OtWzeZNWuWDi87d+6UcePG6deKupLtwIED0rNnT11YPnfuXF20buLkyZN6CDHu4+LFi7qQWxWZr1y5Uv766y/p06ePbNu2LdH71bCbuvrujz/+0Ff29evXT959913JlCmTUdsB2OQB1FEByADF4SlZHxERYYWEhFh58uTRxeTFihWz3nzzTSsyMtJZDK4Kv3PkyGHlzJnT6t69u94+ueJw5caNG1a3bt10Ybmnp6dVvHhxa/r06c71AwcOtPLly2e5ubnpdimqQH306NG6WN3Dw8Py8/Oz6tWrZ61fv975vmXLlul9qXY+/fTTep8mxeFqm4QPVRivCrvbtGlj+fj46HPr2LGj9cEHH1jly5dP9Ln17dvXyp07ty4KV5+Peq/D3dpOcThgDzf1H7tCGwAAQHrCUB0AAIAhghMAAIAhghMAAIAhghMAAIAhghMAAIAhghMAAIAhghMAAIAhghMAAIAhghMAAIAhghMAAIAhghMAAIAhghMAAICY+X+Fu2+XZhkMaQAAAABJRU5ErkJggg==",
>>>>>>> ac4ea98 (added ipynb notebook of lstm model)
      "text/plain": [
       "<Figure size 600x500 with 1 Axes>"
      ]
     },
     "metadata": {},
     "output_type": "display_data"
    }
   ],
   "source": [
    "# --- Inference and DataFrame creation ---\n",
    "from sklearn.metrics import confusion_matrix, accuracy_score, precision_score, recall_score, f1_score, roc_auc_score\n",
    "\n",
    "threshold = 0.5\n",
    "\n",
    "results = []\n",
    "all_true = []\n",
    "all_pred = []\n",
    "all_probs = []\n",
    "\n",
    "with torch.no_grad():\n",
    "    for X_batch, y_batch, meta_batch in test_loader:\n",
    "        X_batch = X_batch.to(device)\n",
    "        probs = model(X_batch)\n",
    "        preds = (probs >= 0.5).int()\n",
    "\n",
    "        for prob, pred, y_true, meta in zip(probs, preds, y_batch.numpy(), meta_batch):\n",
    "            results.append({\n",
    "                \"Region\": meta[\"Region\"],\n",
    "                \"truckid\": meta[\"truckid\"],\n",
    "                \"Measurement_timestamp\": meta[\"Measurement_timestamp\"],\n",
    "                \"Maintenance_flag\": int(y_true),\n",
    "                \"Prediction_Prob\": float(prob),\n",
    "                \"Prediction_Label\": int(pred)\n",
    "            })\n",
    "            all_true.append(int(y_true))\n",
    "            all_pred.append(int(pred))\n",
    "            all_probs.append(float(prob))\n",
    "\n",
    "# --- Create result DataFrame ---\n",
    "result_df = pd.DataFrame(results)\n",
    "print(result_df.head())\n",
    "result_df.to_csv(\"lstm_test_predictions.csv\", index=False)\n",
    "\n",
    "# --- Compute Metrics ---\n",
    "conf_matrix = confusion_matrix(all_true, all_pred)\n",
    "accuracy = accuracy_score(all_true, all_pred)\n",
    "precision = precision_score(all_true, all_pred, zero_division=0)\n",
    "recall = recall_score(all_true, all_pred, zero_division=0)\n",
    "f1 = f1_score(all_true, all_pred, zero_division=0)\n",
    "try:\n",
    "    roc_auc = roc_auc_score(all_true, all_probs)\n",
    "except:\n",
    "    roc_auc = None\n",
    "\n",
    "# --- Display Results ---\n",
    "print(\"\\nConfusion Matrix:\")\n",
    "print(conf_matrix)\n",
    "print(\"\\nClassification Metrics:\")\n",
    "print(f\"  Accuracy:  {accuracy:.4f}\")\n",
    "print(f\"  Precision: {precision:.4f}\")\n",
    "print(f\"  Recall:    {recall:.4f}\")\n",
    "print(f\"  F1 Score:  {f1:.4f}\")\n",
    "if roc_auc is not None:\n",
    "    print(f\"  ROC AUC:   {roc_auc:.4f}\")\n",
    "else:\n",
    "    print(\"  ROC AUC:   Not computable (only one class in y_true)\")\n",
    "\n",
    "import seaborn as sns\n",
    "import matplotlib.pyplot as plt\n",
    "\n",
    "# --- Visualize Confusion Matrix ---\n",
    "plt.figure(figsize=(6, 5))\n",
    "sns.heatmap(conf_matrix, annot=True, fmt='d', cmap='Blues', cbar=False,\n",
    "            xticklabels=[\"Predicted 0\", \"Predicted 1\"],\n",
    "            yticklabels=[\"Actual 0\", \"Actual 1\"])\n",
    "plt.title(\"Confusion Matrix\")\n",
    "plt.ylabel(\"True Label\")\n",
    "plt.xlabel(\"Predicted Label\")\n",
    "plt.tight_layout()\n",
    "\n",
    "# Save the figure\n",
    "plt.savefig(\"lstm_confusion_matrix.png\")\n",
    "plt.show()\n"
   ]
  },
  {
   "cell_type": "markdown",
   "id": "02d9f4ff",
   "metadata": {},
   "source": [
    "## Agentic AI"
   ]
  },
  {
   "cell_type": "code",
<<<<<<< HEAD
   "execution_count": 15,
=======
   "execution_count": 101,
>>>>>>> ac4ea98 (added ipynb notebook of lstm model)
   "id": "6f8a2160",
   "metadata": {},
   "outputs": [],
   "source": [
    "from langgraph.graph import StateGraph, END\n",
<<<<<<< HEAD
=======
    "from langgraph.prebuilt import ToolNode\n",
>>>>>>> ac4ea98 (added ipynb notebook of lstm model)
    "from typing import TypedDict\n",
    "import pandas as pd\n",
    "import torch\n",
    "import joblib\n",
    "\n",
<<<<<<< HEAD
    "# -----------------------------\n",
    "# Constants & model loading\n",
    "# -----------------------------\n",
    "features = [\n",
    "    \"Vehicle_speed_sensor\", \"Vibration\", \"Engine_Load\", \"Engine_Coolant_Temp\",\n",
    "    \"Intake_Manifold_Pressure\", \"Engine_RPM\", \"Speed_OBD\", \"Intake_Air_Temp\",\n",
    "    \"Mass_Air_Flow_Rate\", \"Throttle_Pos_Manifold\", \"Voltage_Control_Module\",\n",
    "    \"Ambient_air_temp\", \"Accel_Pedal_Pos_D\", \"Engine_Oil_Temp\", \"Speed_GPS\",\n",
    "    \"Turbo_Boost_And_Vcm_Gauge\", \"Trip_Distance\", \"Litres_Per_100km_Inst\",\n",
    "    \"Accel_Ssor_Total\", \"CO2_in_g_per_km_Inst\", \"Trip_Time_journey\"\n",
    "]\n",
    "SEQUENCE_LENGTH = 10\n",
    "\n",
    "device = torch.device(\"cuda\" if torch.cuda.is_available() else \"cpu\")\n",
    "\n",
    "model = LSTMModel(input_size=len(features), hidden_sizes=[200, 100, 50], dropout=0.3).to(device)\n",
    "model.load_state_dict(torch.load(\"best_model.pt\", map_location=device))\n",
    "model.eval()\n",
    "\n",
    "scaler = joblib.load(\"scaler.save\")\n",
    "\n",
    "# -----------------------------\n",
    "# State definition\n",
    "# -----------------------------\n",
    "class MaintenanceState(TypedDict):\n",
    "    fleetid: str\n",
    "    truckid: str\n",
    "    region: str\n",
    "    new_reading: dict\n",
    "    X_seq: torch.Tensor\n",
    "    prob: float\n",
    "    maintenance_needed: bool\n",
    "\n",
    "# -----------------------------\n",
    "# Tool 1: Get new reading\n",
    "# -----------------------------\n",
    "def get_new_sensor_reading(state: MaintenanceState):\n",
    "    \"\"\"\n",
    "    Simulate getting new sensor readings from the truck.\n",
    "    \"\"\"\n",
    "    state[\"new_reading\"] = {\n",
    "        \"Measurement_timestamp\": \"22FEB16:17:55:52\",\n",
    "        \"Vehicle_speed_sensor\": 26,\n",
    "        \"Vibration\": 249.689536,\n",
    "        \"Engine_Load\": 31.764706,\n",
    "        \"Engine_Coolant_Temp\": 87,\n",
    "        \"Intake_Manifold_Pressure\": 118,\n",
    "        \"Engine_RPM\": 1129,\n",
    "        \"Speed_OBD\": 26,\n",
    "        \"Intake_Air_Temp\": 17,\n",
    "        \"Mass_Air_Flow_Rate\": 19.02,\n",
    "        \"Throttle_Pos_Manifold\": 45.09804,\n",
    "        \"Voltage_Control_Module\": 14.28,\n",
    "        \"Ambient_air_temp\": 6,\n",
    "        \"Accel_Pedal_Pos_D\": 14.901961,\n",
    "        \"Engine_Oil_Temp\": 83,\n",
    "        \"Speed_GPS\": 27.578842,\n",
    "        \"Turbo_Boost_And_Vcm_Gauge\": 8.550445794,\n",
    "        \"Trip_Distance\": 49.66853177,\n",
    "        \"Litres_Per_100km_Inst\": 21.3,\n",
    "        \"Accel_Ssor_Total\": 156,\n",
    "        \"CO2_in_g_per_km_Inst\": 3.045792,\n",
    "        \"Trip_Time_journey\": 289.88788,\n",
    "        \"fleetid\": state[\"fleetid\"],\n",
    "        \"truckid\": state[\"truckid\"],\n",
    "        \"Region\": state[\"region\"]\n",
    "    }\n",
    "    return state\n",
    "\n",
    "# -----------------------------\n",
    "# Tool 2: Prepare data\n",
    "# -----------------------------\n",
    "def prepare_data(state: MaintenanceState):\n",
    "    \"\"\"\n",
    "    Load past data, append the new reading, scale features, and prepare sequence.\n",
    "    \"\"\"\n",
    "    df = pd.read_csv(\"fleet_monitor_notscored_2.csv\")\n",
    "    df[\"Measurement_timestamp\"] = pd.to_datetime(df[\"Measurement_timestamp\"], format=\"%d%b%y:%H:%M:%S\")\n",
    "\n",
    "    # Filter historical readings\n",
    "    df = df[\n",
    "        (df[\"fleetid\"] == state[\"fleetid\"]) &\n",
    "        (df[\"Region\"] == state[\"region\"]) &\n",
    "        (df[\"truckid\"] == state[\"truckid\"])\n",
    "    ]\n",
=======
    "features = [\n",
    "    \"Vehicle_speed_sensor\", \"Vibration\", \"Engine_Load\", \"Engine_Coolant_Temp\",\n",
    "    \"Intake_Manifold_Pressure\",\"Engine_RPM\",\"Speed_OBD\",\"Intake_Air_Temp\",\n",
    "    \"Mass_Air_Flow_Rate\",\"Throttle_Pos_Manifold\",\"Voltage_Control_Module\",\n",
    "    \"Ambient_air_temp\",\"Accel_Pedal_Pos_D\",\"Engine_Oil_Temp\",\"Speed_GPS\",\n",
    "    \"Turbo_Boost_And_Vcm_Gauge\",\"Trip_Distance\",\"Litres_Per_100km_Inst\",\n",
    "    \"Accel_Ssor_Total\",\"CO2_in_g_per_km_Inst\",\"Trip_Time_journey\"\n",
    "]\n",
    "\n",
    "# Load model & scaler\n",
    "device = torch.device(\"cuda\" if torch.cuda.is_available() else \"cpu\")\n",
    "model.load_state_dict(torch.load(\"best_model.pt\", map_location=device))\n",
    "model.eval()\n",
    "scaler = joblib.load(\"scaler.save\")\n",
    "\n",
    "# Define agent state\n",
    "class MaintenanceState(TypedDict):\n",
    "    truckid: str\n",
    "    region: str\n",
    "    new_reading: dict\n",
    "    prob: float\n",
    "    maintenance_needed: bool\n",
    "\n",
    "# Tool: Load past + append new reading\n",
    "def prepare_and_predict(state: MaintenanceState):\n",
    "    df = pd.read_csv(\"fleet_monitor_notscored_2.csv\")\n",
    "    df[\"Measurement_timestamp\"] = pd.to_datetime(df[\"Measurement_timestamp\"], format=\"%d%b%y:%H:%M:%S\")\n",
    "\n",
    "    # Filter by truck and region\n",
    "    df = df[(df[\"Region\"] == state[\"region\"]) & (df[\"truckid\"] == state[\"truckid\"])]\n",
>>>>>>> ac4ea98 (added ipynb notebook of lstm model)
    "\n",
    "    # Append new reading\n",
    "    new_df = pd.DataFrame([state[\"new_reading\"]])\n",
    "    new_df[\"Measurement_timestamp\"] = pd.to_datetime(new_df[\"Measurement_timestamp\"], format=\"%d%b%y:%H:%M:%S\")\n",
    "    df = pd.concat([df, new_df], ignore_index=True)\n",
    "\n",
    "    # Sort by timestamp\n",
    "    df = df.sort_values(by=\"Measurement_timestamp\")\n",
<<<<<<< HEAD
    "\n",
=======
    "    \n",
>>>>>>> ac4ea98 (added ipynb notebook of lstm model)
    "    # Check sequence length\n",
    "    if len(df) < SEQUENCE_LENGTH:\n",
    "        raise ValueError(f\"Not enough data for truck {state['truckid']} in {state['region']}.\")\n",
    "\n",
    "    # Scale features\n",
    "    df[features] = scaler.transform(df[features])\n",
    "\n",
<<<<<<< HEAD
    "    # Prepare sequence for model\n",
    "    seq_data = df[features].tail(SEQUENCE_LENGTH).values\n",
    "    state[\"X_seq\"] = torch.tensor(seq_data, dtype=torch.float32).unsqueeze(0).to(device)\n",
    "\n",
    "    return state\n",
    "\n",
    "# -----------------------------\n",
    "# Tool 3: Run prediction\n",
    "# -----------------------------\n",
    "def run_prediction(state: MaintenanceState):\n",
    "    with torch.no_grad():\n",
    "        prob = model(state[\"X_seq\"]).item()\n",
    "    state[\"prob\"] = prob\n",
    "    state[\"maintenance_needed\"] = prob >= 0.5\n",
    "    return state\n",
    "\n",
    "# -----------------------------\n",
    "# Tool 4: Store new reading\n",
    "# -----------------------------\n",
    "def store_new_reading(state: MaintenanceState):\n",
    "    print(f\"✅ New reading for truck {state['truckid']} stored in database (simulated).\")\n",
    "    return state\n",
    "\n",
    "\n",
    "\n",
    "# -----------------------------\n",
    "# Build LangGraph\n",
    "# -----------------------------\n",
    "graph = StateGraph(MaintenanceState)\n",
    "\n",
    "graph.add_node(\"get_new_sensor_reading\", get_new_sensor_reading)\n",
    "graph.add_node(\"prepare_data\", prepare_data)\n",
    "graph.add_node(\"run_prediction\", run_prediction)\n",
    "graph.add_node(\"store_new_reading\", store_new_reading)\n",
    "\n",
    "# Define flow\n",
    "graph.set_entry_point(\"get_new_sensor_reading\")\n",
    "graph.add_edge(\"get_new_sensor_reading\", \"prepare_data\")\n",
    "graph.add_edge(\"prepare_data\", \"run_prediction\")\n",
    "graph.add_edge(\"run_prediction\", \"store_new_reading\")\n",
    "graph.add_edge(\"store_new_reading\", END)\n",
    "\n",
    "agent = graph.compile()\n",
    "\n",
=======
    "    # Return last SEQUENCE_LENGTH readings as tensor\n",
    "    seq_data = df[features].tail(SEQUENCE_LENGTH).values\n",
    "    X_seq = torch.tensor(seq_data, dtype=torch.float32).unsqueeze(0).to(device)\n",
    "    state[\"X_seq\"] = X_seq\n",
    "\n",
    "    with torch.no_grad():\n",
    "        prob = model(X_seq).item()\n",
    "    state[\"maintenance_needed\"] = prob >= 0.5\n",
    "    state[\"prob\"] = prob\n",
    "    return state\n",
    "\n",
    "# Build LangGraph\n",
    "graph = StateGraph(MaintenanceState)\n",
    "\n",
    "graph.add_node(\"predict_maintenance\", prepare_and_predict)\n",
    "graph.add_edge(\"predict_maintenance\", END)\n",
    "graph.set_entry_point(\"predict_maintenance\")\n",
    "agent = graph.compile()\n",
>>>>>>> ac4ea98 (added ipynb notebook of lstm model)
    "\n"
   ]
  },
  {
   "cell_type": "code",
<<<<<<< HEAD
   "execution_count": 16,
   "id": "144708bb",
=======
   "execution_count": 108,
   "id": "402f24bc",
>>>>>>> ac4ea98 (added ipynb notebook of lstm model)
   "metadata": {},
   "outputs": [
    {
     "name": "stdout",
     "output_type": "stream",
     "text": [
<<<<<<< HEAD
      "✅ New reading for truck Truck_0051X1 stored in database (simulated).\n",
      "Truck Truck_0051X1 in region 1: Needs Maintenance (prob=0.82)\n"
=======
      "Truck Truck_0051X1 in region 1: Needs Maintenance (prob=0.81034)\n"
>>>>>>> ac4ea98 (added ipynb notebook of lstm model)
     ]
    }
   ],
   "source": [
<<<<<<< HEAD
    "# -----------------------------\n",
    "# Example usage\n",
    "# -----------------------------\n",
    "result = agent.invoke({\n",
    "    \"fleetid\": \"Fleet_00513F1\",\n",
    "    \"truckid\": \"Truck_0051X1\",\n",
    "    \"region\": 1\n",
    "})\n",
    "\n",
    "print(f\"Truck {result['truckid']} in region {result['region']}: \"\n",
    "      f\"{'Needs Maintenance' if result['maintenance_needed'] else 'OK'} \"\n",
    "      f\"(prob={result['prob']:.2f})\")"
=======
    "# Input for the agent\n",
    "new_reading = {\n",
    "    \"Measurement_timestamp\": \"22FEB16:17:55:52\",\n",
    "    \"Vehicle_speed_sensor\": 26,\n",
    "    \"Vibration\": 249.689536,\n",
    "    \"Engine_Load\": 31.764706,\n",
    "    \"Engine_Coolant_Temp\": 87,\n",
    "    \"Intake_Manifold_Pressure\": 118,\n",
    "    \"Engine_RPM\": 1129,\n",
    "    \"Speed_OBD\": 26,\n",
    "    \"Intake_Air_Temp\": 17,\n",
    "    \"Mass_Air_Flow_Rate\": 19.02,\n",
    "    \"Throttle_Pos_Manifold\": 45.09804,\n",
    "    \"Voltage_Control_Module\": 14.28,\n",
    "    \"Ambient_air_temp\": 6,\n",
    "    \"Accel_Pedal_Pos_D\": 14.901961,\n",
    "    \"Engine_Oil_Temp\": 83,\n",
    "    \"Speed_GPS\": 27.578842,\n",
    "    \"Turbo_Boost_And_Vcm_Gauge\": 8.550445794,\n",
    "    \"Trip_Distance\": 49.66853177,\n",
    "    \"Litres_Per_100km_Inst\": 21.3,\n",
    "    \"Accel_Ssor_Total\": 156,\n",
    "    \"CO2_in_g_per_km_Inst\": 3.045792,\n",
    "    \"Trip_Time_journey\": 289.88788,\n",
    "    \"fleetid\": \"Fleet_00513F1\",\n",
    "    \"truckid\": \"Truck_0051X1\",\n",
    "    \"Region\": 1\n",
    "}\n",
    "\n",
    "# Invoke the agent\n",
    "result = agent.invoke({\n",
    "    \"truckid\": \"Truck_0051X1\",\n",
    "    \"region\": 1,\n",
    "    \"new_reading\": new_reading\n",
    "})\n",
    "\n",
    "# Print result\n",
    "print(f\"Truck {result['truckid']} in region {result['region']}: \"\n",
    "      f\"{'Needs Maintenance' if result['maintenance_needed'] else 'OK'} \"\n",
    "      f\"(prob={result['prob']:.5f})\")\n"
>>>>>>> ac4ea98 (added ipynb notebook of lstm model)
   ]
  }
 ],
 "metadata": {
  "kernelspec": {
   "display_name": "PredictMaintenance",
   "language": "python",
   "name": "python3"
  },
  "language_info": {
   "codemirror_mode": {
    "name": "ipython",
    "version": 3
   },
   "file_extension": ".py",
   "mimetype": "text/x-python",
   "name": "python",
   "nbconvert_exporter": "python",
   "pygments_lexer": "ipython3",
<<<<<<< HEAD
   "version": "3.11.13"
=======
   "version": "3.10.18"
>>>>>>> ac4ea98 (added ipynb notebook of lstm model)
  }
 },
 "nbformat": 4,
 "nbformat_minor": 5
}
